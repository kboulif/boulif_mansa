{
 "cells": [
  {
   "cell_type": "markdown",
   "id": "f9ed14cd",
   "metadata": {},
   "source": [
    "## Importing necessary packages"
   ]
  },
  {
   "cell_type": "code",
   "execution_count": 1,
   "id": "6876ca70",
   "metadata": {},
   "outputs": [],
   "source": [
    "import datetime\n",
    "\n",
    "import matplotlib.pyplot as plt\n",
    "import numpy as np\n",
    "import pandas as pd\n",
    "import seaborn as sns\n",
    "\n",
    "pd.options.mode.chained_assignment = None"
   ]
  },
  {
   "cell_type": "markdown",
   "id": "3d2cee58",
   "metadata": {},
   "source": [
    "## Reading data"
   ]
  },
  {
   "cell_type": "code",
   "execution_count": 2,
   "id": "fe4d2671",
   "metadata": {},
   "outputs": [],
   "source": [
    "# The accounts.csv contains a list of bank accounts, with the date of the last\n",
    "# update of their financial data, and the balance on the account on the update date\n",
    "accounts = pd.read_csv(\"../data/accounts.csv\")\n",
    "\n",
    "# The transactions.csv contains all available transactions on the accounts up\n",
    "# to the update date, with an amount (in EUR) and the date of the day they were recorded.\n",
    "transactions = pd.read_csv(\"../data/transactions.csv\")"
   ]
  },
  {
   "cell_type": "code",
   "execution_count": 3,
   "id": "00537126",
   "metadata": {},
   "outputs": [],
   "source": [
    "# Convert date columnns to date format\n",
    "accounts[\"update_date\"] = pd.to_datetime(accounts[\"update_date\"])\n",
    "transactions[\"date\"] = pd.to_datetime(transactions[\"date\"])"
   ]
  },
  {
   "cell_type": "code",
   "execution_count": 4,
   "id": "b3593bf9",
   "metadata": {},
   "outputs": [
    {
     "data": {
      "text/html": [
       "<div>\n",
       "<style scoped>\n",
       "    .dataframe tbody tr th:only-of-type {\n",
       "        vertical-align: middle;\n",
       "    }\n",
       "\n",
       "    .dataframe tbody tr th {\n",
       "        vertical-align: top;\n",
       "    }\n",
       "\n",
       "    .dataframe thead th {\n",
       "        text-align: right;\n",
       "    }\n",
       "</style>\n",
       "<table border=\"1\" class=\"dataframe\">\n",
       "  <thead>\n",
       "    <tr style=\"text-align: right;\">\n",
       "      <th></th>\n",
       "      <th>id</th>\n",
       "      <th>balance</th>\n",
       "      <th>update_date</th>\n",
       "    </tr>\n",
       "  </thead>\n",
       "  <tbody>\n",
       "    <tr>\n",
       "      <th>0</th>\n",
       "      <td>0</td>\n",
       "      <td>13.63</td>\n",
       "      <td>2021-07-02</td>\n",
       "    </tr>\n",
       "    <tr>\n",
       "      <th>1</th>\n",
       "      <td>1</td>\n",
       "      <td>12.91</td>\n",
       "      <td>2021-07-02</td>\n",
       "    </tr>\n",
       "    <tr>\n",
       "      <th>2</th>\n",
       "      <td>2</td>\n",
       "      <td>19.84</td>\n",
       "      <td>2021-07-02</td>\n",
       "    </tr>\n",
       "    <tr>\n",
       "      <th>3</th>\n",
       "      <td>3</td>\n",
       "      <td>130.00</td>\n",
       "      <td>2021-07-02</td>\n",
       "    </tr>\n",
       "    <tr>\n",
       "      <th>4</th>\n",
       "      <td>4</td>\n",
       "      <td>2806.75</td>\n",
       "      <td>2021-07-02</td>\n",
       "    </tr>\n",
       "    <tr>\n",
       "      <th>...</th>\n",
       "      <td>...</td>\n",
       "      <td>...</td>\n",
       "      <td>...</td>\n",
       "    </tr>\n",
       "    <tr>\n",
       "      <th>1249</th>\n",
       "      <td>1249</td>\n",
       "      <td>5117.09</td>\n",
       "      <td>2021-07-02</td>\n",
       "    </tr>\n",
       "    <tr>\n",
       "      <th>1250</th>\n",
       "      <td>1250</td>\n",
       "      <td>-2952.06</td>\n",
       "      <td>2021-07-02</td>\n",
       "    </tr>\n",
       "    <tr>\n",
       "      <th>1251</th>\n",
       "      <td>1251</td>\n",
       "      <td>361.86</td>\n",
       "      <td>2021-07-02</td>\n",
       "    </tr>\n",
       "    <tr>\n",
       "      <th>1252</th>\n",
       "      <td>1252</td>\n",
       "      <td>2074.71</td>\n",
       "      <td>2021-07-02</td>\n",
       "    </tr>\n",
       "    <tr>\n",
       "      <th>1253</th>\n",
       "      <td>1253</td>\n",
       "      <td>32.58</td>\n",
       "      <td>2021-07-02</td>\n",
       "    </tr>\n",
       "  </tbody>\n",
       "</table>\n",
       "<p>1254 rows × 3 columns</p>\n",
       "</div>"
      ],
      "text/plain": [
       "        id  balance update_date\n",
       "0        0    13.63  2021-07-02\n",
       "1        1    12.91  2021-07-02\n",
       "2        2    19.84  2021-07-02\n",
       "3        3   130.00  2021-07-02\n",
       "4        4  2806.75  2021-07-02\n",
       "...    ...      ...         ...\n",
       "1249  1249  5117.09  2021-07-02\n",
       "1250  1250 -2952.06  2021-07-02\n",
       "1251  1251   361.86  2021-07-02\n",
       "1252  1252  2074.71  2021-07-02\n",
       "1253  1253    32.58  2021-07-02\n",
       "\n",
       "[1254 rows x 3 columns]"
      ]
     },
     "execution_count": 4,
     "metadata": {},
     "output_type": "execute_result"
    }
   ],
   "source": [
    "# Display some rows of accounts data\n",
    "accounts"
   ]
  },
  {
   "cell_type": "code",
   "execution_count": 5,
   "id": "fec2c23e",
   "metadata": {},
   "outputs": [
    {
     "data": {
      "text/html": [
       "<div>\n",
       "<style scoped>\n",
       "    .dataframe tbody tr th:only-of-type {\n",
       "        vertical-align: middle;\n",
       "    }\n",
       "\n",
       "    .dataframe tbody tr th {\n",
       "        vertical-align: top;\n",
       "    }\n",
       "\n",
       "    .dataframe thead th {\n",
       "        text-align: right;\n",
       "    }\n",
       "</style>\n",
       "<table border=\"1\" class=\"dataframe\">\n",
       "  <thead>\n",
       "    <tr style=\"text-align: right;\">\n",
       "      <th></th>\n",
       "      <th>account_id</th>\n",
       "      <th>date</th>\n",
       "      <th>amount</th>\n",
       "    </tr>\n",
       "  </thead>\n",
       "  <tbody>\n",
       "    <tr>\n",
       "      <th>0</th>\n",
       "      <td>0</td>\n",
       "      <td>2020-10-16</td>\n",
       "      <td>200.0</td>\n",
       "    </tr>\n",
       "    <tr>\n",
       "      <th>1</th>\n",
       "      <td>0</td>\n",
       "      <td>2020-10-16</td>\n",
       "      <td>-192.0</td>\n",
       "    </tr>\n",
       "    <tr>\n",
       "      <th>2</th>\n",
       "      <td>0</td>\n",
       "      <td>2020-10-16</td>\n",
       "      <td>200.0</td>\n",
       "    </tr>\n",
       "    <tr>\n",
       "      <th>3</th>\n",
       "      <td>0</td>\n",
       "      <td>2020-10-16</td>\n",
       "      <td>-24.0</td>\n",
       "    </tr>\n",
       "    <tr>\n",
       "      <th>4</th>\n",
       "      <td>0</td>\n",
       "      <td>2020-10-16</td>\n",
       "      <td>-50.0</td>\n",
       "    </tr>\n",
       "    <tr>\n",
       "      <th>...</th>\n",
       "      <td>...</td>\n",
       "      <td>...</td>\n",
       "      <td>...</td>\n",
       "    </tr>\n",
       "    <tr>\n",
       "      <th>518224</th>\n",
       "      <td>1253</td>\n",
       "      <td>2020-10-25</td>\n",
       "      <td>-11.5</td>\n",
       "    </tr>\n",
       "    <tr>\n",
       "      <th>518225</th>\n",
       "      <td>1253</td>\n",
       "      <td>2020-10-26</td>\n",
       "      <td>-1.2</td>\n",
       "    </tr>\n",
       "    <tr>\n",
       "      <th>518226</th>\n",
       "      <td>1253</td>\n",
       "      <td>2020-10-31</td>\n",
       "      <td>-15.0</td>\n",
       "    </tr>\n",
       "    <tr>\n",
       "      <th>518227</th>\n",
       "      <td>1253</td>\n",
       "      <td>2020-11-03</td>\n",
       "      <td>-15.6</td>\n",
       "    </tr>\n",
       "    <tr>\n",
       "      <th>518228</th>\n",
       "      <td>1253</td>\n",
       "      <td>2020-11-14</td>\n",
       "      <td>-13.0</td>\n",
       "    </tr>\n",
       "  </tbody>\n",
       "</table>\n",
       "<p>518229 rows × 3 columns</p>\n",
       "</div>"
      ],
      "text/plain": [
       "        account_id       date  amount\n",
       "0                0 2020-10-16   200.0\n",
       "1                0 2020-10-16  -192.0\n",
       "2                0 2020-10-16   200.0\n",
       "3                0 2020-10-16   -24.0\n",
       "4                0 2020-10-16   -50.0\n",
       "...            ...        ...     ...\n",
       "518224        1253 2020-10-25   -11.5\n",
       "518225        1253 2020-10-26    -1.2\n",
       "518226        1253 2020-10-31   -15.0\n",
       "518227        1253 2020-11-03   -15.6\n",
       "518228        1253 2020-11-14   -13.0\n",
       "\n",
       "[518229 rows x 3 columns]"
      ]
     },
     "execution_count": 5,
     "metadata": {},
     "output_type": "execute_result"
    }
   ],
   "source": [
    "# Display some rows of transactions data\n",
    "transactions"
   ]
  },
  {
   "cell_type": "code",
   "execution_count": 6,
   "id": "f7c3d7c1",
   "metadata": {},
   "outputs": [
    {
     "data": {
      "text/plain": [
       "1254"
      ]
     },
     "execution_count": 6,
     "metadata": {},
     "output_type": "execute_result"
    }
   ],
   "source": [
    "# Check if some accounts ids are repeated\n",
    "accounts.id.nunique()"
   ]
  },
  {
   "cell_type": "markdown",
   "id": "16e4fbfe",
   "metadata": {},
   "source": [
    "No accounts ids are repeated in the accounts dataframe. However, this doesn't mean \n",
    "that we don't have duplicated datas. We will check this later. "
   ]
  },
  {
   "cell_type": "markdown",
   "id": "acb097f1",
   "metadata": {},
   "source": [
    "## Remove outliers"
   ]
  },
  {
   "cell_type": "code",
   "execution_count": 7,
   "id": "8e69cbf4",
   "metadata": {},
   "outputs": [],
   "source": [
    "def remove_outliers(sigma_multiplier, column, df):\n",
    "    \"\"\"\n",
    "    Removes datas outside the interval [mean-sigma_multiplier*std,mean+sigma_multiplier*std]\n",
    "    and returns only datas inside this interval\n",
    "    \"\"\"\n",
    "    med = np.median(df[column])\n",
    "    std = np.std(df[column])\n",
    "\n",
    "    return df[np.abs((df[column] - med)) <= sigma_multiplier * std]"
   ]
  },
  {
   "cell_type": "code",
   "execution_count": 8,
   "id": "73eab093",
   "metadata": {},
   "outputs": [],
   "source": [
    "transactions = remove_outliers(3, \"amount\", transactions)"
   ]
  },
  {
   "cell_type": "code",
   "execution_count": 9,
   "id": "7b76c02a",
   "metadata": {},
   "outputs": [],
   "source": [
    "accounts = remove_outliers(4, \"balance\", accounts)"
   ]
  },
  {
   "cell_type": "markdown",
   "id": "f83b1e3d",
   "metadata": {},
   "source": [
    "We chose to sigma_multiplier=4 for accounts not to have high restrictions on accounts \n",
    "and to keep more accounts. "
   ]
  },
  {
   "cell_type": "markdown",
   "id": "393b40be",
   "metadata": {},
   "source": [
    "## Merge dataframes and build new dataframe"
   ]
  },
  {
   "cell_type": "code",
   "execution_count": 10,
   "id": "652360c8",
   "metadata": {},
   "outputs": [],
   "source": [
    "# Merge accounts and transactions dataframes\n",
    "df = pd.merge(accounts, transactions, how=\"inner\", left_on=\"id\", right_on=\"account_id\")\n",
    "df = df.drop([\"account_id\"], axis=1)"
   ]
  },
  {
   "cell_type": "code",
   "execution_count": 11,
   "id": "acd4c9b4",
   "metadata": {},
   "outputs": [],
   "source": [
    "# Save new merged data set\n",
    "df.to_csv(\"../data/accounts_transactions.csv\", index=False)"
   ]
  },
  {
   "cell_type": "markdown",
   "id": "381d27b3",
   "metadata": {},
   "source": [
    "## Check history accounts"
   ]
  },
  {
   "cell_type": "code",
   "execution_count": 12,
   "id": "c9ea82bf",
   "metadata": {},
   "outputs": [],
   "source": [
    "# Read merged data\n",
    "df = pd.read_csv(\n",
    "    \"../data/accounts_transactions.csv\", index_col=\"date\", parse_dates=True\n",
    ")"
   ]
  },
  {
   "cell_type": "code",
   "execution_count": 13,
   "id": "27a54a8f",
   "metadata": {},
   "outputs": [
    {
     "data": {
      "text/html": [
       "<div>\n",
       "<style scoped>\n",
       "    .dataframe tbody tr th:only-of-type {\n",
       "        vertical-align: middle;\n",
       "    }\n",
       "\n",
       "    .dataframe tbody tr th {\n",
       "        vertical-align: top;\n",
       "    }\n",
       "\n",
       "    .dataframe thead th {\n",
       "        text-align: right;\n",
       "    }\n",
       "</style>\n",
       "<table border=\"1\" class=\"dataframe\">\n",
       "  <thead>\n",
       "    <tr style=\"text-align: right;\">\n",
       "      <th></th>\n",
       "      <th>id</th>\n",
       "      <th>balance</th>\n",
       "      <th>update_date</th>\n",
       "      <th>amount</th>\n",
       "    </tr>\n",
       "    <tr>\n",
       "      <th>date</th>\n",
       "      <th></th>\n",
       "      <th></th>\n",
       "      <th></th>\n",
       "      <th></th>\n",
       "    </tr>\n",
       "  </thead>\n",
       "  <tbody>\n",
       "    <tr>\n",
       "      <th>2020-10-16</th>\n",
       "      <td>0</td>\n",
       "      <td>13.63</td>\n",
       "      <td>2021-07-02</td>\n",
       "      <td>200.0</td>\n",
       "    </tr>\n",
       "    <tr>\n",
       "      <th>2020-10-16</th>\n",
       "      <td>0</td>\n",
       "      <td>13.63</td>\n",
       "      <td>2021-07-02</td>\n",
       "      <td>-192.0</td>\n",
       "    </tr>\n",
       "    <tr>\n",
       "      <th>2020-10-16</th>\n",
       "      <td>0</td>\n",
       "      <td>13.63</td>\n",
       "      <td>2021-07-02</td>\n",
       "      <td>200.0</td>\n",
       "    </tr>\n",
       "    <tr>\n",
       "      <th>2020-10-16</th>\n",
       "      <td>0</td>\n",
       "      <td>13.63</td>\n",
       "      <td>2021-07-02</td>\n",
       "      <td>-24.0</td>\n",
       "    </tr>\n",
       "    <tr>\n",
       "      <th>2020-10-16</th>\n",
       "      <td>0</td>\n",
       "      <td>13.63</td>\n",
       "      <td>2021-07-02</td>\n",
       "      <td>-50.0</td>\n",
       "    </tr>\n",
       "  </tbody>\n",
       "</table>\n",
       "</div>"
      ],
      "text/plain": [
       "            id  balance update_date  amount\n",
       "date                                       \n",
       "2020-10-16   0    13.63  2021-07-02   200.0\n",
       "2020-10-16   0    13.63  2021-07-02  -192.0\n",
       "2020-10-16   0    13.63  2021-07-02   200.0\n",
       "2020-10-16   0    13.63  2021-07-02   -24.0\n",
       "2020-10-16   0    13.63  2021-07-02   -50.0"
      ]
     },
     "execution_count": 13,
     "metadata": {},
     "output_type": "execute_result"
    }
   ],
   "source": [
    "# Display first rows of data\n",
    "df.head()"
   ]
  },
  {
   "cell_type": "code",
   "execution_count": 14,
   "id": "c9f3bb3f",
   "metadata": {},
   "outputs": [],
   "source": [
    "# Convert update_date column to date format\n",
    "df[\"update_date\"] = pd.to_datetime(df[\"update_date\"])"
   ]
  },
  {
   "cell_type": "code",
   "execution_count": 15,
   "id": "c4074324",
   "metadata": {},
   "outputs": [
    {
     "name": "stdout",
     "output_type": "stream",
     "text": [
      "<class 'pandas.core.frame.DataFrame'>\n",
      "DatetimeIndex: 508613 entries, 2020-10-16 to 2020-11-14\n",
      "Data columns (total 4 columns):\n",
      " #   Column       Non-Null Count   Dtype         \n",
      "---  ------       --------------   -----         \n",
      " 0   id           508613 non-null  int64         \n",
      " 1   balance      508613 non-null  float64       \n",
      " 2   update_date  508613 non-null  datetime64[ns]\n",
      " 3   amount       508613 non-null  float64       \n",
      "dtypes: datetime64[ns](1), float64(2), int64(1)\n",
      "memory usage: 19.4 MB\n"
     ]
    }
   ],
   "source": [
    "# Display information about dataframe\n",
    "df.info()"
   ]
  },
  {
   "cell_type": "code",
   "execution_count": 16,
   "id": "3568d75d",
   "metadata": {},
   "outputs": [
    {
     "data": {
      "text/plain": [
       "id             0\n",
       "balance        0\n",
       "update_date    0\n",
       "amount         0\n",
       "dtype: int64"
      ]
     },
     "execution_count": 16,
     "metadata": {},
     "output_type": "execute_result"
    }
   ],
   "source": [
    "# Any missing values?\n",
    "df.isna().sum()"
   ]
  },
  {
   "cell_type": "code",
   "execution_count": 17,
   "id": "dd1b0422",
   "metadata": {},
   "outputs": [
    {
     "name": "stdout",
     "output_type": "stream",
     "text": [
      "1236\n",
      "1057\n",
      "1\n",
      "58551\n"
     ]
    }
   ],
   "source": [
    "# Display number of unique values in every column of df\n",
    "for col in df:\n",
    "    print(df[col].nunique())"
   ]
  },
  {
   "cell_type": "markdown",
   "id": "acfca92f",
   "metadata": {},
   "source": [
    "We have one unique update_date value for all transactions."
   ]
  },
  {
   "cell_type": "markdown",
   "id": "49a3a2ad",
   "metadata": {},
   "source": [
    "### Check that we have at least one transaction"
   ]
  },
  {
   "cell_type": "code",
   "execution_count": 18,
   "id": "fb07670e",
   "metadata": {},
   "outputs": [
    {
     "data": {
      "text/plain": [
       "True"
      ]
     },
     "execution_count": 18,
     "metadata": {},
     "output_type": "execute_result"
    }
   ],
   "source": [
    "df.shape[0] >= 1"
   ]
  },
  {
   "cell_type": "markdown",
   "id": "b30afcee",
   "metadata": {},
   "source": [
    "### Check if Update Date is consistent with transaction dates"
   ]
  },
  {
   "cell_type": "code",
   "execution_count": 19,
   "id": "24d96fdb",
   "metadata": {},
   "outputs": [
    {
     "name": "stdout",
     "output_type": "stream",
     "text": [
      "Update Date Inconsistent With Transaction Dates ? False\n"
     ]
    }
   ],
   "source": [
    "print(\n",
    "    f\"Update Date Inconsistent With Transaction Dates ? \\\n",
    "{((df['update_date']-df.index).dt.days < 0).any()}\"\n",
    ")"
   ]
  },
  {
   "cell_type": "markdown",
   "id": "87601538",
   "metadata": {},
   "source": [
    "### Filter data by history days number"
   ]
  },
  {
   "cell_type": "code",
   "execution_count": 20,
   "id": "59db3513",
   "metadata": {},
   "outputs": [],
   "source": [
    "def history_accounts(df, history=180):\n",
    "\n",
    "    \"\"\"\n",
    "    Returns accounts' indexes which have more than 180 \n",
    "    days of history and accounts' indexes which have less\n",
    "    than 180 days of history\n",
    "    \"\"\"\n",
    "    kept_accounts = []\n",
    "    rejected_accounts = []\n",
    "    for index in df.id.unique():\n",
    "        old = df[df[\"id\"] == index].reset_index().date.iloc[0]\n",
    "        new = df[df[\"id\"] == index].reset_index().date.iloc[-1]\n",
    "        duration = (new - old).days\n",
    "        if duration >= history:\n",
    "            kept_accounts.append(index)\n",
    "        else:\n",
    "            rejected_accounts.append(index)\n",
    "\n",
    "    return (kept_accounts, rejected_accounts)"
   ]
  },
  {
   "cell_type": "code",
   "execution_count": 21,
   "id": "cd3d7b1c",
   "metadata": {},
   "outputs": [],
   "source": [
    "# Call the function history_accounts\n",
    "kept_accounts, rejected_accounts = history_accounts(df, history=180)"
   ]
  },
  {
   "cell_type": "code",
   "execution_count": 22,
   "id": "95f3096d",
   "metadata": {},
   "outputs": [
    {
     "name": "stdout",
     "output_type": "stream",
     "text": [
      "[0, 1, 4, 7, 8]\n",
      "[2, 3, 5, 6, 9]\n"
     ]
    }
   ],
   "source": [
    "# Print first 5 kept and rejected accounts\n",
    "print(kept_accounts[:5])\n",
    "print(rejected_accounts[:5])"
   ]
  },
  {
   "cell_type": "code",
   "execution_count": 23,
   "id": "36199dc4",
   "metadata": {},
   "outputs": [
    {
     "name": "stdout",
     "output_type": "stream",
     "text": [
      "Number of kept accounts: 810\n",
      "Number of rejected accounts: 426\n"
     ]
    }
   ],
   "source": [
    "# Print number of kept and rejected accounts\n",
    "print(\"Number of kept accounts:\", len(kept_accounts))\n",
    "print(\"Number of rejected accounts:\", len(rejected_accounts))"
   ]
  },
  {
   "cell_type": "code",
   "execution_count": 24,
   "id": "b24d3892",
   "metadata": {},
   "outputs": [],
   "source": [
    "# Update df, accounts and transactions\n",
    "df = df[df[\"id\"].isin(kept_accounts)]\n",
    "accounts = accounts[accounts[\"id\"].isin(kept_accounts)]\n",
    "transactions = transactions[transactions[\"account_id\"].isin(kept_accounts)]"
   ]
  },
  {
   "cell_type": "code",
   "execution_count": 25,
   "id": "fddcdd3a",
   "metadata": {},
   "outputs": [
    {
     "data": {
      "text/html": [
       "<div>\n",
       "<style scoped>\n",
       "    .dataframe tbody tr th:only-of-type {\n",
       "        vertical-align: middle;\n",
       "    }\n",
       "\n",
       "    .dataframe tbody tr th {\n",
       "        vertical-align: top;\n",
       "    }\n",
       "\n",
       "    .dataframe thead th {\n",
       "        text-align: right;\n",
       "    }\n",
       "</style>\n",
       "<table border=\"1\" class=\"dataframe\">\n",
       "  <thead>\n",
       "    <tr style=\"text-align: right;\">\n",
       "      <th></th>\n",
       "      <th>id</th>\n",
       "      <th>balance</th>\n",
       "      <th>update_date</th>\n",
       "      <th>amount</th>\n",
       "    </tr>\n",
       "    <tr>\n",
       "      <th>date</th>\n",
       "      <th></th>\n",
       "      <th></th>\n",
       "      <th></th>\n",
       "      <th></th>\n",
       "    </tr>\n",
       "  </thead>\n",
       "  <tbody>\n",
       "    <tr>\n",
       "      <th>2020-10-16</th>\n",
       "      <td>0</td>\n",
       "      <td>13.63</td>\n",
       "      <td>2021-07-02</td>\n",
       "      <td>200.00</td>\n",
       "    </tr>\n",
       "    <tr>\n",
       "      <th>2020-10-16</th>\n",
       "      <td>0</td>\n",
       "      <td>13.63</td>\n",
       "      <td>2021-07-02</td>\n",
       "      <td>-192.00</td>\n",
       "    </tr>\n",
       "    <tr>\n",
       "      <th>2020-10-16</th>\n",
       "      <td>0</td>\n",
       "      <td>13.63</td>\n",
       "      <td>2021-07-02</td>\n",
       "      <td>200.00</td>\n",
       "    </tr>\n",
       "    <tr>\n",
       "      <th>2020-10-16</th>\n",
       "      <td>0</td>\n",
       "      <td>13.63</td>\n",
       "      <td>2021-07-02</td>\n",
       "      <td>-24.00</td>\n",
       "    </tr>\n",
       "    <tr>\n",
       "      <th>2020-10-16</th>\n",
       "      <td>0</td>\n",
       "      <td>13.63</td>\n",
       "      <td>2021-07-02</td>\n",
       "      <td>-50.00</td>\n",
       "    </tr>\n",
       "    <tr>\n",
       "      <th>...</th>\n",
       "      <td>...</td>\n",
       "      <td>...</td>\n",
       "      <td>...</td>\n",
       "      <td>...</td>\n",
       "    </tr>\n",
       "    <tr>\n",
       "      <th>2021-06-30</th>\n",
       "      <td>1252</td>\n",
       "      <td>2074.71</td>\n",
       "      <td>2021-07-02</td>\n",
       "      <td>-80.10</td>\n",
       "    </tr>\n",
       "    <tr>\n",
       "      <th>2021-06-30</th>\n",
       "      <td>1252</td>\n",
       "      <td>2074.71</td>\n",
       "      <td>2021-07-02</td>\n",
       "      <td>-46.05</td>\n",
       "    </tr>\n",
       "    <tr>\n",
       "      <th>2021-06-30</th>\n",
       "      <td>1252</td>\n",
       "      <td>2074.71</td>\n",
       "      <td>2021-07-02</td>\n",
       "      <td>-10.00</td>\n",
       "    </tr>\n",
       "    <tr>\n",
       "      <th>2021-07-01</th>\n",
       "      <td>1252</td>\n",
       "      <td>2074.71</td>\n",
       "      <td>2021-07-02</td>\n",
       "      <td>-34.80</td>\n",
       "    </tr>\n",
       "    <tr>\n",
       "      <th>2021-07-01</th>\n",
       "      <td>1252</td>\n",
       "      <td>2074.71</td>\n",
       "      <td>2021-07-02</td>\n",
       "      <td>-17.20</td>\n",
       "    </tr>\n",
       "  </tbody>\n",
       "</table>\n",
       "<p>457847 rows × 4 columns</p>\n",
       "</div>"
      ],
      "text/plain": [
       "              id  balance update_date  amount\n",
       "date                                         \n",
       "2020-10-16     0    13.63  2021-07-02  200.00\n",
       "2020-10-16     0    13.63  2021-07-02 -192.00\n",
       "2020-10-16     0    13.63  2021-07-02  200.00\n",
       "2020-10-16     0    13.63  2021-07-02  -24.00\n",
       "2020-10-16     0    13.63  2021-07-02  -50.00\n",
       "...          ...      ...         ...     ...\n",
       "2021-06-30  1252  2074.71  2021-07-02  -80.10\n",
       "2021-06-30  1252  2074.71  2021-07-02  -46.05\n",
       "2021-06-30  1252  2074.71  2021-07-02  -10.00\n",
       "2021-07-01  1252  2074.71  2021-07-02  -34.80\n",
       "2021-07-01  1252  2074.71  2021-07-02  -17.20\n",
       "\n",
       "[457847 rows x 4 columns]"
      ]
     },
     "execution_count": 25,
     "metadata": {},
     "output_type": "execute_result"
    }
   ],
   "source": [
    "df"
   ]
  },
  {
   "cell_type": "markdown",
   "id": "0aa1f5af",
   "metadata": {},
   "source": [
    "We moved from 518229 to 457847 entries. Which means that we deleted about \n",
    "10% of rows."
   ]
  },
  {
   "cell_type": "markdown",
   "id": "c13c19c7",
   "metadata": {},
   "source": [
    "## Duplicates transactions"
   ]
  },
  {
   "cell_type": "markdown",
   "id": "e922adbe",
   "metadata": {},
   "source": [
    "In this part, we will remove duplicates transactions. For this purpose, we create new dataset \n",
    "which summarizies all important information about transactions for each account id. For example,\n",
    "minimum amount of transactions, maximum amount of transactions, sum amount transactions...\n",
    "This will help us to remove easily the duplicates. We will consider as a duplicates two account ids \n",
    "that have same values for all columns."
   ]
  },
  {
   "cell_type": "code",
   "execution_count": 26,
   "id": "5845d316",
   "metadata": {},
   "outputs": [],
   "source": [
    "def summary_df(df):\n",
    "\n",
    "    \"\"\"\n",
    "    Returns dataframe with new transactions features for each bank account  \n",
    "    \"\"\"\n",
    "\n",
    "    df_account_transactions = (\n",
    "        df.groupby(\"id\")[\"amount\"].agg([\"min\", \"max\", \"count\"]).reset_index()\n",
    "    )\n",
    "    df_account_transactions[\"min_history\"] = (\n",
    "        df.reset_index()\n",
    "        .groupby([\"id\"])[\"date\"]\n",
    "        .agg([\"min\", \"max\"])\n",
    "        .reset_index()[\"min\"]\n",
    "    )\n",
    "    df_account_transactions[\"max_history\"] = (\n",
    "        df.reset_index()\n",
    "        .groupby([\"id\"])[\"date\"]\n",
    "        .agg([\"min\", \"max\"])\n",
    "        .reset_index()[\"max\"]\n",
    "    )\n",
    "    df_account_transactions = df_account_transactions.rename(\n",
    "        columns={\n",
    "            \"count\": \"nb_transactions\",\n",
    "            \"min\": \"min_amount_transaction\",\n",
    "            \"max\": \"max_amount_transaction\",\n",
    "            \"count\": \"nb_transactions\",\n",
    "        }\n",
    "    )\n",
    "    df_account_transactions[\"balance_account\"] = (\n",
    "        df.groupby(\"id\")[\"balance\"].mean().reset_index().balance\n",
    "    )\n",
    "    df_account_transactions[\"duration_history\"] = (\n",
    "        df_account_transactions[\"max_history\"] - df_account_transactions[\"min_history\"]\n",
    "    )\n",
    "    df_account_transactions[\"update_date\"] = (\n",
    "        df.groupby(\"id\")[\"update_date\"].max().reset_index().update_date\n",
    "    )\n",
    "    df_account_transactions[\"sum_amount_transactions\"] = (\n",
    "        df.groupby(\"id\")[\"amount\"].sum().reset_index().amount\n",
    "    )\n",
    "    df_account_transactions[\"old_balance_account\"] = round(\n",
    "        pd.DataFrame(\n",
    "            df_account_transactions[\"balance_account\"].values\n",
    "            - df_account_transactions[\"sum_amount_transactions\"].values\n",
    "        ),\n",
    "        2,\n",
    "    )\n",
    "\n",
    "    return df_account_transactions"
   ]
  },
  {
   "cell_type": "code",
   "execution_count": 27,
   "id": "35088028",
   "metadata": {},
   "outputs": [],
   "source": [
    "# Call function summary_df\n",
    "df_account_transactions = summary_df(df)"
   ]
  },
  {
   "cell_type": "code",
   "execution_count": 28,
   "id": "3125c4c5",
   "metadata": {},
   "outputs": [
    {
     "data": {
      "text/html": [
       "<div>\n",
       "<style scoped>\n",
       "    .dataframe tbody tr th:only-of-type {\n",
       "        vertical-align: middle;\n",
       "    }\n",
       "\n",
       "    .dataframe tbody tr th {\n",
       "        vertical-align: top;\n",
       "    }\n",
       "\n",
       "    .dataframe thead th {\n",
       "        text-align: right;\n",
       "    }\n",
       "</style>\n",
       "<table border=\"1\" class=\"dataframe\">\n",
       "  <thead>\n",
       "    <tr style=\"text-align: right;\">\n",
       "      <th></th>\n",
       "      <th>id</th>\n",
       "      <th>min_amount_transaction</th>\n",
       "      <th>max_amount_transaction</th>\n",
       "      <th>nb_transactions</th>\n",
       "      <th>min_history</th>\n",
       "      <th>max_history</th>\n",
       "      <th>balance_account</th>\n",
       "      <th>duration_history</th>\n",
       "      <th>update_date</th>\n",
       "      <th>sum_amount_transactions</th>\n",
       "      <th>old_balance_account</th>\n",
       "    </tr>\n",
       "  </thead>\n",
       "  <tbody>\n",
       "    <tr>\n",
       "      <th>0</th>\n",
       "      <td>0</td>\n",
       "      <td>-3000.0</td>\n",
       "      <td>3000.00</td>\n",
       "      <td>310</td>\n",
       "      <td>2020-10-16</td>\n",
       "      <td>2021-06-30</td>\n",
       "      <td>13.63</td>\n",
       "      <td>257 days</td>\n",
       "      <td>2021-07-02</td>\n",
       "      <td>-2.21</td>\n",
       "      <td>15.84</td>\n",
       "    </tr>\n",
       "    <tr>\n",
       "      <th>1</th>\n",
       "      <td>1</td>\n",
       "      <td>-5100.0</td>\n",
       "      <td>5110.10</td>\n",
       "      <td>105</td>\n",
       "      <td>2020-11-09</td>\n",
       "      <td>2021-06-28</td>\n",
       "      <td>12.91</td>\n",
       "      <td>231 days</td>\n",
       "      <td>2021-07-02</td>\n",
       "      <td>102.88</td>\n",
       "      <td>-89.97</td>\n",
       "    </tr>\n",
       "    <tr>\n",
       "      <th>2</th>\n",
       "      <td>4</td>\n",
       "      <td>-2940.0</td>\n",
       "      <td>2643.00</td>\n",
       "      <td>1041</td>\n",
       "      <td>2020-09-11</td>\n",
       "      <td>2021-07-01</td>\n",
       "      <td>2806.75</td>\n",
       "      <td>293 days</td>\n",
       "      <td>2021-07-02</td>\n",
       "      <td>2786.75</td>\n",
       "      <td>20.00</td>\n",
       "    </tr>\n",
       "    <tr>\n",
       "      <th>3</th>\n",
       "      <td>7</td>\n",
       "      <td>-2547.0</td>\n",
       "      <td>1839.40</td>\n",
       "      <td>668</td>\n",
       "      <td>2020-03-09</td>\n",
       "      <td>2021-07-01</td>\n",
       "      <td>0.38</td>\n",
       "      <td>479 days</td>\n",
       "      <td>2021-07-02</td>\n",
       "      <td>0.38</td>\n",
       "      <td>0.00</td>\n",
       "    </tr>\n",
       "    <tr>\n",
       "      <th>4</th>\n",
       "      <td>8</td>\n",
       "      <td>-1160.0</td>\n",
       "      <td>1100.00</td>\n",
       "      <td>761</td>\n",
       "      <td>2019-07-24</td>\n",
       "      <td>2021-06-30</td>\n",
       "      <td>25.04</td>\n",
       "      <td>707 days</td>\n",
       "      <td>2021-07-02</td>\n",
       "      <td>57.51</td>\n",
       "      <td>-32.47</td>\n",
       "    </tr>\n",
       "    <tr>\n",
       "      <th>...</th>\n",
       "      <td>...</td>\n",
       "      <td>...</td>\n",
       "      <td>...</td>\n",
       "      <td>...</td>\n",
       "      <td>...</td>\n",
       "      <td>...</td>\n",
       "      <td>...</td>\n",
       "      <td>...</td>\n",
       "      <td>...</td>\n",
       "      <td>...</td>\n",
       "      <td>...</td>\n",
       "    </tr>\n",
       "    <tr>\n",
       "      <th>805</th>\n",
       "      <td>1248</td>\n",
       "      <td>-2700.0</td>\n",
       "      <td>4240.48</td>\n",
       "      <td>3388</td>\n",
       "      <td>2018-01-04</td>\n",
       "      <td>2021-07-01</td>\n",
       "      <td>0.40</td>\n",
       "      <td>1274 days</td>\n",
       "      <td>2021-07-02</td>\n",
       "      <td>132809.27</td>\n",
       "      <td>-132808.87</td>\n",
       "    </tr>\n",
       "    <tr>\n",
       "      <th>806</th>\n",
       "      <td>1249</td>\n",
       "      <td>-1597.0</td>\n",
       "      <td>5000.00</td>\n",
       "      <td>452</td>\n",
       "      <td>2018-06-27</td>\n",
       "      <td>2021-06-29</td>\n",
       "      <td>5117.09</td>\n",
       "      <td>1098 days</td>\n",
       "      <td>2021-07-02</td>\n",
       "      <td>-4882.91</td>\n",
       "      <td>10000.00</td>\n",
       "    </tr>\n",
       "    <tr>\n",
       "      <th>807</th>\n",
       "      <td>1250</td>\n",
       "      <td>-5100.0</td>\n",
       "      <td>5500.00</td>\n",
       "      <td>484</td>\n",
       "      <td>2020-05-20</td>\n",
       "      <td>2021-07-01</td>\n",
       "      <td>-2952.06</td>\n",
       "      <td>407 days</td>\n",
       "      <td>2021-07-02</td>\n",
       "      <td>45399.30</td>\n",
       "      <td>-48351.36</td>\n",
       "    </tr>\n",
       "    <tr>\n",
       "      <th>808</th>\n",
       "      <td>1251</td>\n",
       "      <td>-3000.0</td>\n",
       "      <td>4000.00</td>\n",
       "      <td>955</td>\n",
       "      <td>2020-04-29</td>\n",
       "      <td>2021-07-01</td>\n",
       "      <td>361.86</td>\n",
       "      <td>428 days</td>\n",
       "      <td>2021-07-02</td>\n",
       "      <td>-38089.74</td>\n",
       "      <td>38451.60</td>\n",
       "    </tr>\n",
       "    <tr>\n",
       "      <th>809</th>\n",
       "      <td>1252</td>\n",
       "      <td>-2000.0</td>\n",
       "      <td>5000.00</td>\n",
       "      <td>679</td>\n",
       "      <td>2019-11-14</td>\n",
       "      <td>2021-07-01</td>\n",
       "      <td>2074.71</td>\n",
       "      <td>595 days</td>\n",
       "      <td>2021-07-02</td>\n",
       "      <td>2074.71</td>\n",
       "      <td>0.00</td>\n",
       "    </tr>\n",
       "  </tbody>\n",
       "</table>\n",
       "<p>810 rows × 11 columns</p>\n",
       "</div>"
      ],
      "text/plain": [
       "       id  min_amount_transaction  max_amount_transaction  nb_transactions  \\\n",
       "0       0                 -3000.0                 3000.00              310   \n",
       "1       1                 -5100.0                 5110.10              105   \n",
       "2       4                 -2940.0                 2643.00             1041   \n",
       "3       7                 -2547.0                 1839.40              668   \n",
       "4       8                 -1160.0                 1100.00              761   \n",
       "..    ...                     ...                     ...              ...   \n",
       "805  1248                 -2700.0                 4240.48             3388   \n",
       "806  1249                 -1597.0                 5000.00              452   \n",
       "807  1250                 -5100.0                 5500.00              484   \n",
       "808  1251                 -3000.0                 4000.00              955   \n",
       "809  1252                 -2000.0                 5000.00              679   \n",
       "\n",
       "    min_history max_history  balance_account duration_history update_date  \\\n",
       "0    2020-10-16  2021-06-30            13.63         257 days  2021-07-02   \n",
       "1    2020-11-09  2021-06-28            12.91         231 days  2021-07-02   \n",
       "2    2020-09-11  2021-07-01          2806.75         293 days  2021-07-02   \n",
       "3    2020-03-09  2021-07-01             0.38         479 days  2021-07-02   \n",
       "4    2019-07-24  2021-06-30            25.04         707 days  2021-07-02   \n",
       "..          ...         ...              ...              ...         ...   \n",
       "805  2018-01-04  2021-07-01             0.40        1274 days  2021-07-02   \n",
       "806  2018-06-27  2021-06-29          5117.09        1098 days  2021-07-02   \n",
       "807  2020-05-20  2021-07-01         -2952.06         407 days  2021-07-02   \n",
       "808  2020-04-29  2021-07-01           361.86         428 days  2021-07-02   \n",
       "809  2019-11-14  2021-07-01          2074.71         595 days  2021-07-02   \n",
       "\n",
       "     sum_amount_transactions  old_balance_account  \n",
       "0                      -2.21                15.84  \n",
       "1                     102.88               -89.97  \n",
       "2                    2786.75                20.00  \n",
       "3                       0.38                 0.00  \n",
       "4                      57.51               -32.47  \n",
       "..                       ...                  ...  \n",
       "805                132809.27           -132808.87  \n",
       "806                 -4882.91             10000.00  \n",
       "807                 45399.30            -48351.36  \n",
       "808                -38089.74             38451.60  \n",
       "809                  2074.71                 0.00  \n",
       "\n",
       "[810 rows x 11 columns]"
      ]
     },
     "execution_count": 28,
     "metadata": {},
     "output_type": "execute_result"
    }
   ],
   "source": [
    "# Display some rows\n",
    "df_account_transactions"
   ]
  },
  {
   "cell_type": "code",
   "execution_count": 29,
   "id": "c8c469b4",
   "metadata": {},
   "outputs": [],
   "source": [
    "# Check duplicated data\n",
    "potential_duplicates = df_account_transactions[\n",
    "    df_account_transactions.drop([\"id\"], axis=1).balance_account.duplicated()\n",
    "].sort_values(by=\"balance_account\")"
   ]
  },
  {
   "cell_type": "code",
   "execution_count": 30,
   "id": "6d737b57",
   "metadata": {},
   "outputs": [
    {
     "data": {
      "text/html": [
       "<div>\n",
       "<style scoped>\n",
       "    .dataframe tbody tr th:only-of-type {\n",
       "        vertical-align: middle;\n",
       "    }\n",
       "\n",
       "    .dataframe tbody tr th {\n",
       "        vertical-align: top;\n",
       "    }\n",
       "\n",
       "    .dataframe thead th {\n",
       "        text-align: right;\n",
       "    }\n",
       "</style>\n",
       "<table border=\"1\" class=\"dataframe\">\n",
       "  <thead>\n",
       "    <tr style=\"text-align: right;\">\n",
       "      <th></th>\n",
       "      <th>id</th>\n",
       "      <th>min_amount_transaction</th>\n",
       "      <th>max_amount_transaction</th>\n",
       "      <th>nb_transactions</th>\n",
       "      <th>min_history</th>\n",
       "      <th>max_history</th>\n",
       "      <th>balance_account</th>\n",
       "      <th>duration_history</th>\n",
       "      <th>update_date</th>\n",
       "      <th>sum_amount_transactions</th>\n",
       "      <th>old_balance_account</th>\n",
       "    </tr>\n",
       "  </thead>\n",
       "  <tbody>\n",
       "    <tr>\n",
       "      <th>541</th>\n",
       "      <td>876</td>\n",
       "      <td>-3619.03</td>\n",
       "      <td>3000.00</td>\n",
       "      <td>124</td>\n",
       "      <td>2020-11-16</td>\n",
       "      <td>2021-07-01</td>\n",
       "      <td>-3309.42</td>\n",
       "      <td>227 days</td>\n",
       "      <td>2021-07-02</td>\n",
       "      <td>-2410.91</td>\n",
       "      <td>-898.51</td>\n",
       "    </tr>\n",
       "    <tr>\n",
       "      <th>502</th>\n",
       "      <td>825</td>\n",
       "      <td>-294.00</td>\n",
       "      <td>1000.00</td>\n",
       "      <td>213</td>\n",
       "      <td>2019-11-04</td>\n",
       "      <td>2021-07-01</td>\n",
       "      <td>-1084.94</td>\n",
       "      <td>605 days</td>\n",
       "      <td>2021-07-02</td>\n",
       "      <td>-109.37</td>\n",
       "      <td>-975.57</td>\n",
       "    </tr>\n",
       "    <tr>\n",
       "      <th>506</th>\n",
       "      <td>831</td>\n",
       "      <td>-294.00</td>\n",
       "      <td>1000.00</td>\n",
       "      <td>213</td>\n",
       "      <td>2019-11-04</td>\n",
       "      <td>2021-07-01</td>\n",
       "      <td>-1084.94</td>\n",
       "      <td>605 days</td>\n",
       "      <td>2021-07-02</td>\n",
       "      <td>-109.37</td>\n",
       "      <td>-975.57</td>\n",
       "    </tr>\n",
       "    <tr>\n",
       "      <th>504</th>\n",
       "      <td>827</td>\n",
       "      <td>-294.00</td>\n",
       "      <td>1000.00</td>\n",
       "      <td>213</td>\n",
       "      <td>2019-11-04</td>\n",
       "      <td>2021-07-01</td>\n",
       "      <td>-1084.94</td>\n",
       "      <td>605 days</td>\n",
       "      <td>2021-07-02</td>\n",
       "      <td>-109.37</td>\n",
       "      <td>-975.57</td>\n",
       "    </tr>\n",
       "    <tr>\n",
       "      <th>527</th>\n",
       "      <td>857</td>\n",
       "      <td>-2583.30</td>\n",
       "      <td>3000.00</td>\n",
       "      <td>921</td>\n",
       "      <td>2020-05-22</td>\n",
       "      <td>2021-07-01</td>\n",
       "      <td>-631.74</td>\n",
       "      <td>405 days</td>\n",
       "      <td>2021-07-02</td>\n",
       "      <td>-402.41</td>\n",
       "      <td>-229.33</td>\n",
       "    </tr>\n",
       "    <tr>\n",
       "      <th>...</th>\n",
       "      <td>...</td>\n",
       "      <td>...</td>\n",
       "      <td>...</td>\n",
       "      <td>...</td>\n",
       "      <td>...</td>\n",
       "      <td>...</td>\n",
       "      <td>...</td>\n",
       "      <td>...</td>\n",
       "      <td>...</td>\n",
       "      <td>...</td>\n",
       "      <td>...</td>\n",
       "    </tr>\n",
       "    <tr>\n",
       "      <th>780</th>\n",
       "      <td>1219</td>\n",
       "      <td>-2800.00</td>\n",
       "      <td>5103.45</td>\n",
       "      <td>1238</td>\n",
       "      <td>2020-04-06</td>\n",
       "      <td>2021-07-01</td>\n",
       "      <td>3151.48</td>\n",
       "      <td>451 days</td>\n",
       "      <td>2021-07-02</td>\n",
       "      <td>-29582.84</td>\n",
       "      <td>32734.32</td>\n",
       "    </tr>\n",
       "    <tr>\n",
       "      <th>373</th>\n",
       "      <td>637</td>\n",
       "      <td>-5000.00</td>\n",
       "      <td>3000.00</td>\n",
       "      <td>168</td>\n",
       "      <td>2020-07-23</td>\n",
       "      <td>2021-07-01</td>\n",
       "      <td>3301.60</td>\n",
       "      <td>343 days</td>\n",
       "      <td>2021-07-02</td>\n",
       "      <td>-3171.40</td>\n",
       "      <td>6473.00</td>\n",
       "    </tr>\n",
       "    <tr>\n",
       "      <th>556</th>\n",
       "      <td>893</td>\n",
       "      <td>-2500.00</td>\n",
       "      <td>5838.00</td>\n",
       "      <td>1797</td>\n",
       "      <td>2019-09-10</td>\n",
       "      <td>2021-07-01</td>\n",
       "      <td>4085.90</td>\n",
       "      <td>660 days</td>\n",
       "      <td>2021-07-02</td>\n",
       "      <td>3629.32</td>\n",
       "      <td>456.58</td>\n",
       "    </tr>\n",
       "    <tr>\n",
       "      <th>522</th>\n",
       "      <td>849</td>\n",
       "      <td>-2500.00</td>\n",
       "      <td>5000.00</td>\n",
       "      <td>398</td>\n",
       "      <td>2020-05-21</td>\n",
       "      <td>2021-07-01</td>\n",
       "      <td>4190.12</td>\n",
       "      <td>406 days</td>\n",
       "      <td>2021-07-02</td>\n",
       "      <td>-22147.51</td>\n",
       "      <td>26337.63</td>\n",
       "    </tr>\n",
       "    <tr>\n",
       "      <th>392</th>\n",
       "      <td>666</td>\n",
       "      <td>-3010.00</td>\n",
       "      <td>3267.00</td>\n",
       "      <td>143</td>\n",
       "      <td>2020-08-21</td>\n",
       "      <td>2021-07-01</td>\n",
       "      <td>8713.38</td>\n",
       "      <td>314 days</td>\n",
       "      <td>2021-07-02</td>\n",
       "      <td>-12134.47</td>\n",
       "      <td>20847.85</td>\n",
       "    </tr>\n",
       "  </tbody>\n",
       "</table>\n",
       "<p>90 rows × 11 columns</p>\n",
       "</div>"
      ],
      "text/plain": [
       "       id  min_amount_transaction  max_amount_transaction  nb_transactions  \\\n",
       "541   876                -3619.03                 3000.00              124   \n",
       "502   825                 -294.00                 1000.00              213   \n",
       "506   831                 -294.00                 1000.00              213   \n",
       "504   827                 -294.00                 1000.00              213   \n",
       "527   857                -2583.30                 3000.00              921   \n",
       "..    ...                     ...                     ...              ...   \n",
       "780  1219                -2800.00                 5103.45             1238   \n",
       "373   637                -5000.00                 3000.00              168   \n",
       "556   893                -2500.00                 5838.00             1797   \n",
       "522   849                -2500.00                 5000.00              398   \n",
       "392   666                -3010.00                 3267.00              143   \n",
       "\n",
       "    min_history max_history  balance_account duration_history update_date  \\\n",
       "541  2020-11-16  2021-07-01         -3309.42         227 days  2021-07-02   \n",
       "502  2019-11-04  2021-07-01         -1084.94         605 days  2021-07-02   \n",
       "506  2019-11-04  2021-07-01         -1084.94         605 days  2021-07-02   \n",
       "504  2019-11-04  2021-07-01         -1084.94         605 days  2021-07-02   \n",
       "527  2020-05-22  2021-07-01          -631.74         405 days  2021-07-02   \n",
       "..          ...         ...              ...              ...         ...   \n",
       "780  2020-04-06  2021-07-01          3151.48         451 days  2021-07-02   \n",
       "373  2020-07-23  2021-07-01          3301.60         343 days  2021-07-02   \n",
       "556  2019-09-10  2021-07-01          4085.90         660 days  2021-07-02   \n",
       "522  2020-05-21  2021-07-01          4190.12         406 days  2021-07-02   \n",
       "392  2020-08-21  2021-07-01          8713.38         314 days  2021-07-02   \n",
       "\n",
       "     sum_amount_transactions  old_balance_account  \n",
       "541                 -2410.91              -898.51  \n",
       "502                  -109.37              -975.57  \n",
       "506                  -109.37              -975.57  \n",
       "504                  -109.37              -975.57  \n",
       "527                  -402.41              -229.33  \n",
       "..                       ...                  ...  \n",
       "780                -29582.84             32734.32  \n",
       "373                 -3171.40              6473.00  \n",
       "556                  3629.32               456.58  \n",
       "522                -22147.51             26337.63  \n",
       "392                -12134.47             20847.85  \n",
       "\n",
       "[90 rows x 11 columns]"
      ]
     },
     "execution_count": 30,
     "metadata": {},
     "output_type": "execute_result"
    }
   ],
   "source": [
    "potential_duplicates"
   ]
  },
  {
   "cell_type": "markdown",
   "id": "fdaa7863",
   "metadata": {},
   "source": [
    "Some accounts have exactly the same transactions even if they share different ids. \n",
    "We will consider them as duplicates.\n",
    "\n",
    "For example, the accounts 827, 831 and 825. We can check this also by vizualizing transactions of theses accounts."
   ]
  },
  {
   "cell_type": "code",
   "execution_count": 31,
   "id": "64e002bb",
   "metadata": {},
   "outputs": [
    {
     "data": {
      "image/png": "[encoded data removed]",
      "text/plain": [
       "<Figure size 648x432 with 1 Axes>"
      ]
     },
     "metadata": {
      "needs_background": "light"
     },
     "output_type": "display_data"
    }
   ],
   "source": [
    "# Graphical Plots of transactions of accounts ids 827,831 and 825\n",
    "plt.figure(figsize=(9, 6))\n",
    "plt.scatter(\n",
    "    transactions[transactions[\"account_id\"] == 827][\"date\"],\n",
    "    transactions[transactions[\"account_id\"] == 827][\"amount\"],\n",
    "    color=\"green\",\n",
    "    label=\"Accountid = 827\",\n",
    ")\n",
    "\n",
    "plt.scatter(\n",
    "    transactions[transactions[\"account_id\"] == 831][\"date\"],\n",
    "    transactions[transactions[\"account_id\"] == 831][\"amount\"],\n",
    "    color=\"blue\",\n",
    "    label=\"Accountid = 831\",\n",
    ")\n",
    "\n",
    "plt.scatter(\n",
    "    transactions[transactions[\"account_id\"] == 825][\"date\"],\n",
    "    transactions[transactions[\"account_id\"] == 825][\"amount\"],\n",
    "    color=\"red\",\n",
    "    label=\"Accountid = 825\",\n",
    ")\n",
    "\n",
    "plt.legend()\n",
    "plt.title(\"Transactions of accounts ids 827,831 and 825\")\n",
    "plt.xlabel(\"Date of transaction\")\n",
    "plt.ylabel(\"Amount in EUR\")\n",
    "plt.show()"
   ]
  },
  {
   "cell_type": "markdown",
   "id": "840501e0",
   "metadata": {},
   "source": [
    "In the graph above, we plot the amount of transactions in EUR with respect to the date of transactions.\n",
    "We notice that the three graphs are the same. There is very little probability to have two different accounts that do the same transactions in the same day for a long period of time with the same pattern. Unless they are two different accounts but with regular incomes and expenses.\n",
    "\n",
    "I will do the assumption that if I have this kind of similarity in transactions, that means that they belong to the same account and that they are duplicates in the dataset. We will remove them from df_account_transactions."
   ]
  },
  {
   "cell_type": "code",
   "execution_count": 32,
   "id": "5ceef6f5",
   "metadata": {},
   "outputs": [],
   "source": [
    "# Remove duplicate accounts from df_account_transactions\n",
    "df_account_transactions = df_account_transactions[\n",
    "    -df_account_transactions[\"id\"].isin(potential_duplicates.id)\n",
    "]"
   ]
  },
  {
   "cell_type": "code",
   "execution_count": 33,
   "id": "010bc4be",
   "metadata": {},
   "outputs": [
    {
     "data": {
      "text/html": [
       "<div>\n",
       "<style scoped>\n",
       "    .dataframe tbody tr th:only-of-type {\n",
       "        vertical-align: middle;\n",
       "    }\n",
       "\n",
       "    .dataframe tbody tr th {\n",
       "        vertical-align: top;\n",
       "    }\n",
       "\n",
       "    .dataframe thead th {\n",
       "        text-align: right;\n",
       "    }\n",
       "</style>\n",
       "<table border=\"1\" class=\"dataframe\">\n",
       "  <thead>\n",
       "    <tr style=\"text-align: right;\">\n",
       "      <th></th>\n",
       "      <th>id</th>\n",
       "      <th>min_amount_transaction</th>\n",
       "      <th>max_amount_transaction</th>\n",
       "      <th>nb_transactions</th>\n",
       "      <th>min_history</th>\n",
       "      <th>max_history</th>\n",
       "      <th>balance_account</th>\n",
       "      <th>duration_history</th>\n",
       "      <th>update_date</th>\n",
       "      <th>sum_amount_transactions</th>\n",
       "      <th>old_balance_account</th>\n",
       "    </tr>\n",
       "  </thead>\n",
       "  <tbody>\n",
       "    <tr>\n",
       "      <th>0</th>\n",
       "      <td>0</td>\n",
       "      <td>-3000.0</td>\n",
       "      <td>3000.0</td>\n",
       "      <td>310</td>\n",
       "      <td>2020-10-16</td>\n",
       "      <td>2021-06-30</td>\n",
       "      <td>13.63</td>\n",
       "      <td>257 days</td>\n",
       "      <td>2021-07-02</td>\n",
       "      <td>-2.21</td>\n",
       "      <td>15.84</td>\n",
       "    </tr>\n",
       "    <tr>\n",
       "      <th>1</th>\n",
       "      <td>1</td>\n",
       "      <td>-5100.0</td>\n",
       "      <td>5110.1</td>\n",
       "      <td>105</td>\n",
       "      <td>2020-11-09</td>\n",
       "      <td>2021-06-28</td>\n",
       "      <td>12.91</td>\n",
       "      <td>231 days</td>\n",
       "      <td>2021-07-02</td>\n",
       "      <td>102.88</td>\n",
       "      <td>-89.97</td>\n",
       "    </tr>\n",
       "    <tr>\n",
       "      <th>2</th>\n",
       "      <td>4</td>\n",
       "      <td>-2940.0</td>\n",
       "      <td>2643.0</td>\n",
       "      <td>1041</td>\n",
       "      <td>2020-09-11</td>\n",
       "      <td>2021-07-01</td>\n",
       "      <td>2806.75</td>\n",
       "      <td>293 days</td>\n",
       "      <td>2021-07-02</td>\n",
       "      <td>2786.75</td>\n",
       "      <td>20.00</td>\n",
       "    </tr>\n",
       "    <tr>\n",
       "      <th>3</th>\n",
       "      <td>7</td>\n",
       "      <td>-2547.0</td>\n",
       "      <td>1839.4</td>\n",
       "      <td>668</td>\n",
       "      <td>2020-03-09</td>\n",
       "      <td>2021-07-01</td>\n",
       "      <td>0.38</td>\n",
       "      <td>479 days</td>\n",
       "      <td>2021-07-02</td>\n",
       "      <td>0.38</td>\n",
       "      <td>0.00</td>\n",
       "    </tr>\n",
       "    <tr>\n",
       "      <th>4</th>\n",
       "      <td>8</td>\n",
       "      <td>-1160.0</td>\n",
       "      <td>1100.0</td>\n",
       "      <td>761</td>\n",
       "      <td>2019-07-24</td>\n",
       "      <td>2021-06-30</td>\n",
       "      <td>25.04</td>\n",
       "      <td>707 days</td>\n",
       "      <td>2021-07-02</td>\n",
       "      <td>57.51</td>\n",
       "      <td>-32.47</td>\n",
       "    </tr>\n",
       "    <tr>\n",
       "      <th>...</th>\n",
       "      <td>...</td>\n",
       "      <td>...</td>\n",
       "      <td>...</td>\n",
       "      <td>...</td>\n",
       "      <td>...</td>\n",
       "      <td>...</td>\n",
       "      <td>...</td>\n",
       "      <td>...</td>\n",
       "      <td>...</td>\n",
       "      <td>...</td>\n",
       "      <td>...</td>\n",
       "    </tr>\n",
       "    <tr>\n",
       "      <th>804</th>\n",
       "      <td>1247</td>\n",
       "      <td>-5610.0</td>\n",
       "      <td>5820.0</td>\n",
       "      <td>1091</td>\n",
       "      <td>2020-04-29</td>\n",
       "      <td>2021-07-01</td>\n",
       "      <td>688.03</td>\n",
       "      <td>428 days</td>\n",
       "      <td>2021-07-02</td>\n",
       "      <td>782.14</td>\n",
       "      <td>-94.11</td>\n",
       "    </tr>\n",
       "    <tr>\n",
       "      <th>806</th>\n",
       "      <td>1249</td>\n",
       "      <td>-1597.0</td>\n",
       "      <td>5000.0</td>\n",
       "      <td>452</td>\n",
       "      <td>2018-06-27</td>\n",
       "      <td>2021-06-29</td>\n",
       "      <td>5117.09</td>\n",
       "      <td>1098 days</td>\n",
       "      <td>2021-07-02</td>\n",
       "      <td>-4882.91</td>\n",
       "      <td>10000.00</td>\n",
       "    </tr>\n",
       "    <tr>\n",
       "      <th>807</th>\n",
       "      <td>1250</td>\n",
       "      <td>-5100.0</td>\n",
       "      <td>5500.0</td>\n",
       "      <td>484</td>\n",
       "      <td>2020-05-20</td>\n",
       "      <td>2021-07-01</td>\n",
       "      <td>-2952.06</td>\n",
       "      <td>407 days</td>\n",
       "      <td>2021-07-02</td>\n",
       "      <td>45399.30</td>\n",
       "      <td>-48351.36</td>\n",
       "    </tr>\n",
       "    <tr>\n",
       "      <th>808</th>\n",
       "      <td>1251</td>\n",
       "      <td>-3000.0</td>\n",
       "      <td>4000.0</td>\n",
       "      <td>955</td>\n",
       "      <td>2020-04-29</td>\n",
       "      <td>2021-07-01</td>\n",
       "      <td>361.86</td>\n",
       "      <td>428 days</td>\n",
       "      <td>2021-07-02</td>\n",
       "      <td>-38089.74</td>\n",
       "      <td>38451.60</td>\n",
       "    </tr>\n",
       "    <tr>\n",
       "      <th>809</th>\n",
       "      <td>1252</td>\n",
       "      <td>-2000.0</td>\n",
       "      <td>5000.0</td>\n",
       "      <td>679</td>\n",
       "      <td>2019-11-14</td>\n",
       "      <td>2021-07-01</td>\n",
       "      <td>2074.71</td>\n",
       "      <td>595 days</td>\n",
       "      <td>2021-07-02</td>\n",
       "      <td>2074.71</td>\n",
       "      <td>0.00</td>\n",
       "    </tr>\n",
       "  </tbody>\n",
       "</table>\n",
       "<p>720 rows × 11 columns</p>\n",
       "</div>"
      ],
      "text/plain": [
       "       id  min_amount_transaction  max_amount_transaction  nb_transactions  \\\n",
       "0       0                 -3000.0                  3000.0              310   \n",
       "1       1                 -5100.0                  5110.1              105   \n",
       "2       4                 -2940.0                  2643.0             1041   \n",
       "3       7                 -2547.0                  1839.4              668   \n",
       "4       8                 -1160.0                  1100.0              761   \n",
       "..    ...                     ...                     ...              ...   \n",
       "804  1247                 -5610.0                  5820.0             1091   \n",
       "806  1249                 -1597.0                  5000.0              452   \n",
       "807  1250                 -5100.0                  5500.0              484   \n",
       "808  1251                 -3000.0                  4000.0              955   \n",
       "809  1252                 -2000.0                  5000.0              679   \n",
       "\n",
       "    min_history max_history  balance_account duration_history update_date  \\\n",
       "0    2020-10-16  2021-06-30            13.63         257 days  2021-07-02   \n",
       "1    2020-11-09  2021-06-28            12.91         231 days  2021-07-02   \n",
       "2    2020-09-11  2021-07-01          2806.75         293 days  2021-07-02   \n",
       "3    2020-03-09  2021-07-01             0.38         479 days  2021-07-02   \n",
       "4    2019-07-24  2021-06-30            25.04         707 days  2021-07-02   \n",
       "..          ...         ...              ...              ...         ...   \n",
       "804  2020-04-29  2021-07-01           688.03         428 days  2021-07-02   \n",
       "806  2018-06-27  2021-06-29          5117.09        1098 days  2021-07-02   \n",
       "807  2020-05-20  2021-07-01         -2952.06         407 days  2021-07-02   \n",
       "808  2020-04-29  2021-07-01           361.86         428 days  2021-07-02   \n",
       "809  2019-11-14  2021-07-01          2074.71         595 days  2021-07-02   \n",
       "\n",
       "     sum_amount_transactions  old_balance_account  \n",
       "0                      -2.21                15.84  \n",
       "1                     102.88               -89.97  \n",
       "2                    2786.75                20.00  \n",
       "3                       0.38                 0.00  \n",
       "4                      57.51               -32.47  \n",
       "..                       ...                  ...  \n",
       "804                   782.14               -94.11  \n",
       "806                 -4882.91             10000.00  \n",
       "807                 45399.30            -48351.36  \n",
       "808                -38089.74             38451.60  \n",
       "809                  2074.71                 0.00  \n",
       "\n",
       "[720 rows x 11 columns]"
      ]
     },
     "execution_count": 33,
     "metadata": {},
     "output_type": "execute_result"
    }
   ],
   "source": [
    "df_account_transactions"
   ]
  },
  {
   "cell_type": "markdown",
   "id": "8b5b621c",
   "metadata": {},
   "source": [
    "We moved from 824 to 733 rows. \n",
    "\n",
    "91 rows are duplicated. We will remove these duplicated accounts id from df as well."
   ]
  },
  {
   "cell_type": "code",
   "execution_count": 34,
   "id": "e2e07289",
   "metadata": {},
   "outputs": [],
   "source": [
    "# Remove duplicate accounts ids from df, accounts and transactions\n",
    "df = df[-df[\"id\"].isin(potential_duplicates.id)]\n",
    "accounts = accounts[-accounts[\"id\"].isin(potential_duplicates.id)]\n",
    "transactions = transactions[-transactions[\"account_id\"].isin(potential_duplicates.id)]"
   ]
  },
  {
   "cell_type": "markdown",
   "id": "c4084865",
   "metadata": {},
   "source": [
    "## Visualisations"
   ]
  },
  {
   "cell_type": "markdown",
   "id": "dc90d81a",
   "metadata": {},
   "source": [
    "In this part, we will do some visualisations. First let's see the distribution of accounts balances. "
   ]
  },
  {
   "cell_type": "code",
   "execution_count": 35,
   "id": "9e797f7c",
   "metadata": {},
   "outputs": [
    {
     "name": "stderr",
     "output_type": "stream",
     "text": [
      "/opt/anaconda3/lib/python3.9/site-packages/seaborn/distributions.py:2619: FutureWarning: `distplot` is a deprecated function and will be removed in a future version. Please adapt your code to use either `displot` (a figure-level function with similar flexibility) or `histplot` (an axes-level function for histograms).\n",
      "  warnings.warn(msg, FutureWarning)\n"
     ]
    },
    {
     "data": {
      "image/png": "[encoded data removed]",
      "text/plain": [
       "<Figure size 432x288 with 1 Axes>"
      ]
     },
     "metadata": {
      "needs_background": "light"
     },
     "output_type": "display_data"
    }
   ],
   "source": [
    "sns.distplot(df_account_transactions.balance_account, bins=15, kde=False)\n",
    "plt.show()"
   ]
  },
  {
   "cell_type": "markdown",
   "id": "0a3d61dc",
   "metadata": {},
   "source": [
    "According to the website of Mansa, the maximum advance amount that mansa lend is 20000 EUR.\n",
    "The histogram shows that some balance values are higher than 40000 EUR. Let's see how many accounts \n",
    "have balances that are more than 40000 EUR. \n"
   ]
  },
  {
   "cell_type": "code",
   "execution_count": 54,
   "id": "3ba364fe",
   "metadata": {},
   "outputs": [
    {
     "data": {
      "text/html": [
       "<div>\n",
       "<style scoped>\n",
       "    .dataframe tbody tr th:only-of-type {\n",
       "        vertical-align: middle;\n",
       "    }\n",
       "\n",
       "    .dataframe tbody tr th {\n",
       "        vertical-align: top;\n",
       "    }\n",
       "\n",
       "    .dataframe thead th {\n",
       "        text-align: right;\n",
       "    }\n",
       "</style>\n",
       "<table border=\"1\" class=\"dataframe\">\n",
       "  <thead>\n",
       "    <tr style=\"text-align: right;\">\n",
       "      <th></th>\n",
       "      <th>id</th>\n",
       "      <th>min_amount_transaction</th>\n",
       "      <th>max_amount_transaction</th>\n",
       "      <th>nb_transactions</th>\n",
       "      <th>min_history</th>\n",
       "      <th>max_history</th>\n",
       "      <th>balance_account</th>\n",
       "      <th>duration_history</th>\n",
       "      <th>update_date</th>\n",
       "      <th>sum_amount_transactions</th>\n",
       "      <th>old_balance_account</th>\n",
       "    </tr>\n",
       "  </thead>\n",
       "  <tbody>\n",
       "    <tr>\n",
       "      <th>63</th>\n",
       "      <td>110</td>\n",
       "      <td>-5830.0</td>\n",
       "      <td>5460.0</td>\n",
       "      <td>1000</td>\n",
       "      <td>2020-07-28</td>\n",
       "      <td>2021-07-01</td>\n",
       "      <td>42974.05</td>\n",
       "      <td>338 days</td>\n",
       "      <td>2021-07-02</td>\n",
       "      <td>-97473.62</td>\n",
       "      <td>140447.67</td>\n",
       "    </tr>\n",
       "    <tr>\n",
       "      <th>84</th>\n",
       "      <td>150</td>\n",
       "      <td>-5000.0</td>\n",
       "      <td>4500.0</td>\n",
       "      <td>333</td>\n",
       "      <td>2020-11-17</td>\n",
       "      <td>2021-07-01</td>\n",
       "      <td>47025.47</td>\n",
       "      <td>226 days</td>\n",
       "      <td>2021-07-02</td>\n",
       "      <td>-150810.54</td>\n",
       "      <td>197836.01</td>\n",
       "    </tr>\n",
       "    <tr>\n",
       "      <th>296</th>\n",
       "      <td>520</td>\n",
       "      <td>-4279.0</td>\n",
       "      <td>5000.0</td>\n",
       "      <td>507</td>\n",
       "      <td>2020-02-03</td>\n",
       "      <td>2021-06-30</td>\n",
       "      <td>40232.71</td>\n",
       "      <td>513 days</td>\n",
       "      <td>2021-07-02</td>\n",
       "      <td>39932.71</td>\n",
       "      <td>300.00</td>\n",
       "    </tr>\n",
       "  </tbody>\n",
       "</table>\n",
       "</div>"
      ],
      "text/plain": [
       "      id  min_amount_transaction  max_amount_transaction  nb_transactions  \\\n",
       "63   110                 -5830.0                  5460.0             1000   \n",
       "84   150                 -5000.0                  4500.0              333   \n",
       "296  520                 -4279.0                  5000.0              507   \n",
       "\n",
       "    min_history max_history  balance_account duration_history update_date  \\\n",
       "63   2020-07-28  2021-07-01         42974.05         338 days  2021-07-02   \n",
       "84   2020-11-17  2021-07-01         47025.47         226 days  2021-07-02   \n",
       "296  2020-02-03  2021-06-30         40232.71         513 days  2021-07-02   \n",
       "\n",
       "     sum_amount_transactions  old_balance_account  \n",
       "63                 -97473.62            140447.67  \n",
       "84                -150810.54            197836.01  \n",
       "296                 39932.71               300.00  "
      ]
     },
     "execution_count": 54,
     "metadata": {},
     "output_type": "execute_result"
    }
   ],
   "source": [
    "df_account_transactions[df_account_transactions[\"balance_account\"] >= 40000]"
   ]
  },
  {
   "cell_type": "markdown",
   "id": "038dd78e",
   "metadata": {},
   "source": [
    "Three accounts have more than 40000 EUR as account balance at the time of update date. \n",
    "We will plot the transactions of these three accounts to have an idea about them, and compare them\n",
    "with transactions of a normal account id, for example account id 4. "
   ]
  },
  {
   "cell_type": "code",
   "execution_count": 55,
   "id": "deb011af",
   "metadata": {},
   "outputs": [
    {
     "data": {
      "image/png": "[encoded data removed]",
      "text/plain": [
       "<Figure size 648x432 with 1 Axes>"
      ]
     },
     "metadata": {
      "needs_background": "light"
     },
     "output_type": "display_data"
    }
   ],
   "source": [
    "# Graphical Plots of transactions of accounts id 110\n",
    "plt.figure(figsize=(9, 6))\n",
    "plt.scatter(\n",
    "    transactions[transactions[\"account_id\"] == 110][\"date\"],\n",
    "    transactions[transactions[\"account_id\"] == 110][\"amount\"],\n",
    "    color=\"orange\",\n",
    "    label=\"Accountid = 110\",\n",
    ")\n",
    "\n",
    "\n",
    "plt.legend()\n",
    "plt.title(\"Transactions of accounts ids 110\")\n",
    "plt.xlabel(\"Date of transaction\")\n",
    "plt.ylabel(\"Amount in EUR\")\n",
    "plt.show()"
   ]
  },
  {
   "cell_type": "code",
   "execution_count": 56,
   "id": "76794869",
   "metadata": {},
   "outputs": [
    {
     "data": {
      "image/png": "[encoded data removed]",
      "text/plain": [
       "<Figure size 648x432 with 1 Axes>"
      ]
     },
     "metadata": {
      "needs_background": "light"
     },
     "output_type": "display_data"
    }
   ],
   "source": [
    "# Graphical Plots of transactions of accounts id 150\n",
    "plt.figure(figsize=(9, 6))\n",
    "plt.scatter(\n",
    "    transactions[transactions[\"account_id\"] == 150][\"date\"],\n",
    "    transactions[transactions[\"account_id\"] == 150][\"amount\"],\n",
    "    color=\"blue\",\n",
    "    label=\"Accountid = 150\",\n",
    ")\n",
    "\n",
    "\n",
    "plt.legend()\n",
    "plt.title(\"Transactions of accounts ids 150\")\n",
    "plt.xlabel(\"Date of transaction\")\n",
    "plt.ylabel(\"Amount in EUR\")\n",
    "plt.show()"
   ]
  },
  {
   "cell_type": "code",
   "execution_count": 60,
   "id": "bbc71107",
   "metadata": {},
   "outputs": [
    {
     "data": {
      "image/png": "[encoded data removed]",
      "text/plain": [
       "<Figure size 648x432 with 1 Axes>"
      ]
     },
     "metadata": {
      "needs_background": "light"
     },
     "output_type": "display_data"
    }
   ],
   "source": [
    "# Graphical Plots of transactions of accounts id 520\n",
    "plt.figure(figsize=(9, 6))\n",
    "plt.scatter(\n",
    "    transactions[transactions[\"account_id\"] == 520][\"date\"],\n",
    "    transactions[transactions[\"account_id\"] == 520][\"amount\"],\n",
    "    color=\"purple\",\n",
    "    label=\"Accountid = 520\",\n",
    ")\n",
    "\n",
    "\n",
    "plt.legend()\n",
    "plt.title(\"Transactions of accounts ids 520\")\n",
    "plt.xlabel(\"Date of transaction\")\n",
    "plt.ylabel(\"Amount in EUR\")\n",
    "plt.show()"
   ]
  },
  {
   "cell_type": "code",
   "execution_count": 61,
   "id": "1d1a3904",
   "metadata": {},
   "outputs": [
    {
     "data": {
      "image/png": "[encoded data removed]",
      "text/plain": [
       "<Figure size 648x432 with 1 Axes>"
      ]
     },
     "metadata": {
      "needs_background": "light"
     },
     "output_type": "display_data"
    }
   ],
   "source": [
    "# Graphical Plots of transactions of accounts id 4\n",
    "plt.figure(figsize=(9, 6))\n",
    "plt.scatter(\n",
    "    transactions[transactions[\"account_id\"] == 4][\"date\"],\n",
    "    transactions[transactions[\"account_id\"] == 4][\"amount\"],\n",
    "    color=\"green\",\n",
    "    label=\"Accountid = 4\",\n",
    ")\n",
    "\n",
    "\n",
    "plt.legend()\n",
    "plt.title(\"Transactions of accounts ids 4\")\n",
    "plt.xlabel(\"Date of transaction\")\n",
    "plt.ylabel(\"Amount in EUR\")\n",
    "plt.show()"
   ]
  },
  {
   "cell_type": "markdown",
   "id": "8dd682e4",
   "metadata": {},
   "source": [
    "When compared to account 4, the three accounts seem to have normal transactions in a normal range of income and outgoing. Except for some few  transactions which are very high. I won't remove them from data."
   ]
  },
  {
   "cell_type": "code",
   "execution_count": 40,
   "id": "fec02b8e",
   "metadata": {},
   "outputs": [],
   "source": [
    "def summary_df_by_year(df):\n",
    "    df_account_transactions_by_year = (\n",
    "        df.groupby([\"id\", df.index.year])[\"amount\"]\n",
    "        .agg([\"min\", \"max\", \"mean\", \"count\"])\n",
    "        .reset_index()\n",
    "        .rename(\n",
    "            columns={\n",
    "                \"min\": \"min_amount_transaction\",\n",
    "                \"max\": \"max_amount_transaction\",\n",
    "                \"mean\": \"mean_amount_transaction\",\n",
    "                \"count\": \"nb_transactions_per_year\",\n",
    "                \"date\": \"year\",\n",
    "            }\n",
    "        )\n",
    "    )\n",
    "\n",
    "    return df_account_transactions_by_year"
   ]
  },
  {
   "cell_type": "code",
   "execution_count": 41,
   "id": "d44b21ad",
   "metadata": {},
   "outputs": [],
   "source": [
    "def summary_df_by_month(df):\n",
    "    df_account_transactions_by_month = (\n",
    "        df.groupby([\"id\", df.index.month])[\"amount\"]\n",
    "        .agg([\"min\", \"max\", \"mean\", \"count\"])\n",
    "        .reset_index()\n",
    "        .rename(\n",
    "            columns={\n",
    "                \"min\": \"min_amount_transaction\",\n",
    "                \"max\": \"max_amount_transaction\",\n",
    "                \"mean\": \"mean_amount_transaction\",\n",
    "                \"count\": \"nb_transactions_per_month\",\n",
    "                \"date\": \"month\",\n",
    "            }\n",
    "        )\n",
    "    )\n",
    "\n",
    "    return df_account_transactions_by_month"
   ]
  },
  {
   "cell_type": "code",
   "execution_count": 42,
   "id": "e6e6f3a6",
   "metadata": {},
   "outputs": [],
   "source": [
    "df_account_transactions_by_year = summary_df_by_year(df)"
   ]
  },
  {
   "cell_type": "code",
   "execution_count": 43,
   "id": "5c8be619",
   "metadata": {},
   "outputs": [],
   "source": [
    "df_account_transactions_by_month = summary_df_by_month(df)"
   ]
  },
  {
   "cell_type": "code",
   "execution_count": 48,
   "id": "5fcd6729",
   "metadata": {},
   "outputs": [],
   "source": [
    "nb_transaction_year = (\n",
    "    df_account_transactions_by_year.groupby([\"year\"])[\"nb_transactions_per_year\"]\n",
    "    .agg([\"sum\"])\n",
    "    .reset_index()\n",
    ")"
   ]
  },
  {
   "cell_type": "code",
   "execution_count": 49,
   "id": "296d8301",
   "metadata": {},
   "outputs": [],
   "source": [
    "nb_transaction_month = (\n",
    "    df_account_transactions_by_month.groupby([\"month\"])[\"nb_transactions_per_month\"]\n",
    "    .agg([\"sum\"])\n",
    "    .reset_index()\n",
    ")"
   ]
  },
  {
   "cell_type": "code",
   "execution_count": 50,
   "id": "8c9af2a6",
   "metadata": {},
   "outputs": [],
   "source": [
    "nb_transaction_year.set_index(\"year\", inplace=True)\n",
    "nb_transaction_month.set_index(\"month\", inplace=True)"
   ]
  },
  {
   "cell_type": "code",
   "execution_count": 51,
   "id": "d7321413",
   "metadata": {},
   "outputs": [
    {
     "data": {
      "text/plain": [
       "Text(0.5, 1.0, 'Number of transactions per year')"
      ]
     },
     "execution_count": 51,
     "metadata": {},
     "output_type": "execute_result"
    },
    {
     "data": {
      "image/png": "[encoded data removed]",
      "text/plain": [
       "<Figure size 432x288 with 1 Axes>"
      ]
     },
     "metadata": {
      "needs_background": "light"
     },
     "output_type": "display_data"
    }
   ],
   "source": [
    "# show number of transactions per year\n",
    "nb_transaction_year[\"sum\"].plot(kind=\"bar\", color=\"red\")\n",
    "plt.xlabel(\"Year\")\n",
    "plt.ylabel(\"Number of transactions\")\n",
    "plt.title(\"Number of transactions per year\")"
   ]
  },
  {
   "cell_type": "code",
   "execution_count": 52,
   "id": "f6dcc822",
   "metadata": {},
   "outputs": [
    {
     "data": {
      "text/plain": [
       "Text(0.5, 1.0, 'Number of transactions per month')"
      ]
     },
     "execution_count": 52,
     "metadata": {},
     "output_type": "execute_result"
    },
    {
     "data": {
      "image/png": "[encoded data removed]",
      "text/plain": [
       "<Figure size 432x288 with 1 Axes>"
      ]
     },
     "metadata": {
      "needs_background": "light"
     },
     "output_type": "display_data"
    }
   ],
   "source": [
    "# show number of transactions per year\n",
    "nb_transaction_month[\"sum\"].plot(kind=\"bar\", color=\"red\")\n",
    "plt.xlabel(\"Month\")\n",
    "plt.ylabel(\"Number of transactions\")\n",
    "plt.title(\"Number of transactions per month\")"
   ]
  },
  {
   "cell_type": "markdown",
   "id": "a3cde25c",
   "metadata": {},
   "source": [
    "## Save data"
   ]
  },
  {
   "cell_type": "code",
   "execution_count": 53,
   "id": "dbc4a36b",
   "metadata": {},
   "outputs": [],
   "source": [
    "# Save new data without duplicates\n",
    "df.to_csv(\"../data/no_duplicates_data.csv\", index=True)\n",
    "accounts.to_csv(\"../data/no_duplicates_accounts.csv\", index=False)\n",
    "transactions.to_csv(\"../data/no_duplicates_transactions.csv\", index=False)"
   ]
  },
  {
   "cell_type": "code",
   "execution_count": null,
   "id": "75cf54c8",
   "metadata": {},
   "outputs": [],
   "source": []
  }
 ],
 "metadata": {
  "kernelspec": {
   "display_name": "Python 3 (ipykernel)",
   "language": "python",
   "name": "python3"
  },
  "language_info": {
   "codemirror_mode": {
    "name": "ipython",
    "version": 3
   },
   "file_extension": ".py",
   "mimetype": "text/x-python",
   "name": "python",
   "nbconvert_exporter": "python",
   "pygments_lexer": "ipython3",
   "version": "3.9.7"
  }
 },
 "nbformat": 4,
 "nbformat_minor": 5
}
