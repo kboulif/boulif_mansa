{
 "cells": [
  {
   "cell_type": "markdown",
   "id": "90f8752d",
   "metadata": {
    "id": "90f8752d"
   },
   "source": [
    "# Importing necessary packages"
   ]
  },
  {
   "cell_type": "code",
   "execution_count": 1,
   "id": "db1284a6",
   "metadata": {
    "id": "db1284a6"
   },
   "outputs": [],
   "source": [
    "import datetime as dt\n",
    "import pickle\n",
    "\n",
    "import matplotlib.pyplot as plt\n",
    "import numpy as np\n",
    "import pandas as pd\n",
    "import seaborn as sns\n",
    "\n",
    "pd.options.mode.chained_assignment = None\n",
    "import xgboost as xgb\n",
    "from sklearn.decomposition import PCA\n",
    "from sklearn.ensemble import RandomForestRegressor\n",
    "from sklearn.linear_model import Lasso, LinearRegression, Ridge\n",
    "from sklearn.metrics import mean_absolute_error\n",
    "from sklearn.model_selection import GridSearchCV, RandomizedSearchCV, train_test_split\n",
    "from sklearn.preprocessing import StandardScaler"
   ]
  },
  {
   "cell_type": "markdown",
   "id": "e4f0135a",
   "metadata": {
    "id": "e4f0135a"
   },
   "source": [
    "# Read data"
   ]
  },
  {
   "cell_type": "code",
   "execution_count": 2,
   "id": "410d935c",
   "metadata": {
    "id": "410d935c"
   },
   "outputs": [],
   "source": [
    "df_final = pd.read_csv(\"../data/df_final_monthly.csv\")\n"
   ]
  },
  {
   "cell_type": "code",
   "execution_count": 3,
   "id": "f6d89655",
   "metadata": {
    "id": "f6d89655"
   },
   "outputs": [],
   "source": [
    "df_final = df_final.drop([\"Unnamed: 0\"], axis=1)\n",
    "df_final = df_final.drop(\n",
    "    [\"date\", \"amount\", \"positive_transactions\", \"negative_transactions\"], axis=1\n",
    ")"
   ]
  },
  {
   "cell_type": "code",
   "execution_count": 4,
   "id": "c989ecad",
   "metadata": {
    "colab": {
     "base_uri": "https://localhost:8080/",
     "height": 487
    },
    "id": "c989ecad",
    "outputId": "cce309af-bf3b-4f31-f7bf-76444e4f1e26"
   },
   "outputs": [
    {
     "data": {
      "text/html": [
       "<div>\n",
       "<style scoped>\n",
       "    .dataframe tbody tr th:only-of-type {\n",
       "        vertical-align: middle;\n",
       "    }\n",
       "\n",
       "    .dataframe tbody tr th {\n",
       "        vertical-align: top;\n",
       "    }\n",
       "\n",
       "    .dataframe thead th {\n",
       "        text-align: right;\n",
       "    }\n",
       "</style>\n",
       "<table border=\"1\" class=\"dataframe\">\n",
       "  <thead>\n",
       "    <tr style=\"text-align: right;\">\n",
       "      <th></th>\n",
       "      <th>balance_per_day</th>\n",
       "      <th>sum_outgoing_next_30_days</th>\n",
       "      <th>sum_income_next_30_days</th>\n",
       "      <th>negative_transaction_last_1_month</th>\n",
       "      <th>positive_transaction_last_1_month</th>\n",
       "      <th>negative_transaction_last_2_month</th>\n",
       "      <th>positive_transaction_last_2_month</th>\n",
       "      <th>negative_transaction_last_3_month</th>\n",
       "      <th>positive_transaction_last_3_month</th>\n",
       "      <th>negative_transaction_last_4_month</th>\n",
       "      <th>positive_transaction_last_4_month</th>\n",
       "      <th>negative_transaction_last_5_month</th>\n",
       "      <th>positive_transaction_last_5_month</th>\n",
       "      <th>negative_transaction_last_6_month</th>\n",
       "      <th>positive_transaction_last_6_month</th>\n",
       "    </tr>\n",
       "  </thead>\n",
       "  <tbody>\n",
       "    <tr>\n",
       "      <th>0</th>\n",
       "      <td>18.36</td>\n",
       "      <td>-3225.94</td>\n",
       "      <td>3215.50</td>\n",
       "      <td>-1585.20</td>\n",
       "      <td>1587.00</td>\n",
       "      <td>-1000.00</td>\n",
       "      <td>1000.00</td>\n",
       "      <td>-1070.29</td>\n",
       "      <td>1066.00</td>\n",
       "      <td>-3562.99</td>\n",
       "      <td>1828.00</td>\n",
       "      <td>-102.00</td>\n",
       "      <td>1841.00</td>\n",
       "      <td>-5037.00</td>\n",
       "      <td>1952.00</td>\n",
       "    </tr>\n",
       "    <tr>\n",
       "      <th>1</th>\n",
       "      <td>7.92</td>\n",
       "      <td>-5186.10</td>\n",
       "      <td>5185.80</td>\n",
       "      <td>-3225.94</td>\n",
       "      <td>3215.50</td>\n",
       "      <td>-1585.20</td>\n",
       "      <td>1587.00</td>\n",
       "      <td>-1000.00</td>\n",
       "      <td>1000.00</td>\n",
       "      <td>-1070.29</td>\n",
       "      <td>1066.00</td>\n",
       "      <td>-3562.99</td>\n",
       "      <td>1828.00</td>\n",
       "      <td>-102.00</td>\n",
       "      <td>1841.00</td>\n",
       "    </tr>\n",
       "    <tr>\n",
       "      <th>2</th>\n",
       "      <td>4.41</td>\n",
       "      <td>-835.00</td>\n",
       "      <td>831.00</td>\n",
       "      <td>-7165.81</td>\n",
       "      <td>7165.00</td>\n",
       "      <td>-556.54</td>\n",
       "      <td>205.00</td>\n",
       "      <td>-9818.04</td>\n",
       "      <td>10252.33</td>\n",
       "      <td>-4768.09</td>\n",
       "      <td>4770.40</td>\n",
       "      <td>-5929.04</td>\n",
       "      <td>5896.49</td>\n",
       "      <td>-747.32</td>\n",
       "      <td>770.00</td>\n",
       "    </tr>\n",
       "    <tr>\n",
       "      <th>3</th>\n",
       "      <td>1962.71</td>\n",
       "      <td>-11866.82</td>\n",
       "      <td>14875.79</td>\n",
       "      <td>-15941.46</td>\n",
       "      <td>16689.22</td>\n",
       "      <td>-12972.15</td>\n",
       "      <td>12515.82</td>\n",
       "      <td>-9490.21</td>\n",
       "      <td>8749.92</td>\n",
       "      <td>-15066.06</td>\n",
       "      <td>9488.18</td>\n",
       "      <td>-11310.98</td>\n",
       "      <td>10098.09</td>\n",
       "      <td>-4196.96</td>\n",
       "      <td>12120.28</td>\n",
       "    </tr>\n",
       "    <tr>\n",
       "      <th>4</th>\n",
       "      <td>3833.87</td>\n",
       "      <td>-11306.21</td>\n",
       "      <td>8283.15</td>\n",
       "      <td>-11866.82</td>\n",
       "      <td>14875.79</td>\n",
       "      <td>-15941.46</td>\n",
       "      <td>16689.22</td>\n",
       "      <td>-12972.15</td>\n",
       "      <td>12515.82</td>\n",
       "      <td>-9490.21</td>\n",
       "      <td>8749.92</td>\n",
       "      <td>-15066.06</td>\n",
       "      <td>9488.18</td>\n",
       "      <td>-11310.98</td>\n",
       "      <td>10098.09</td>\n",
       "    </tr>\n",
       "    <tr>\n",
       "      <th>...</th>\n",
       "      <td>...</td>\n",
       "      <td>...</td>\n",
       "      <td>...</td>\n",
       "      <td>...</td>\n",
       "      <td>...</td>\n",
       "      <td>...</td>\n",
       "      <td>...</td>\n",
       "      <td>...</td>\n",
       "      <td>...</td>\n",
       "      <td>...</td>\n",
       "      <td>...</td>\n",
       "      <td>...</td>\n",
       "      <td>...</td>\n",
       "      <td>...</td>\n",
       "      <td>...</td>\n",
       "    </tr>\n",
       "    <tr>\n",
       "      <th>6388</th>\n",
       "      <td>1737.22</td>\n",
       "      <td>-6727.94</td>\n",
       "      <td>6617.65</td>\n",
       "      <td>-8465.18</td>\n",
       "      <td>8279.85</td>\n",
       "      <td>-3363.25</td>\n",
       "      <td>4500.00</td>\n",
       "      <td>-852.69</td>\n",
       "      <td>1005.72</td>\n",
       "      <td>0.00</td>\n",
       "      <td>0.00</td>\n",
       "      <td>0.00</td>\n",
       "      <td>0.00</td>\n",
       "      <td>0.00</td>\n",
       "      <td>0.00</td>\n",
       "    </tr>\n",
       "    <tr>\n",
       "      <th>6389</th>\n",
       "      <td>2119.95</td>\n",
       "      <td>-5271.70</td>\n",
       "      <td>7420.93</td>\n",
       "      <td>-6727.94</td>\n",
       "      <td>6617.65</td>\n",
       "      <td>-8465.18</td>\n",
       "      <td>8279.85</td>\n",
       "      <td>-3363.25</td>\n",
       "      <td>4500.00</td>\n",
       "      <td>-852.69</td>\n",
       "      <td>1005.72</td>\n",
       "      <td>0.00</td>\n",
       "      <td>0.00</td>\n",
       "      <td>0.00</td>\n",
       "      <td>0.00</td>\n",
       "    </tr>\n",
       "    <tr>\n",
       "      <th>6390</th>\n",
       "      <td>3545.20</td>\n",
       "      <td>-6758.57</td>\n",
       "      <td>6358.83</td>\n",
       "      <td>-5271.70</td>\n",
       "      <td>7420.93</td>\n",
       "      <td>-6727.94</td>\n",
       "      <td>6617.65</td>\n",
       "      <td>-8465.18</td>\n",
       "      <td>8279.85</td>\n",
       "      <td>-3363.25</td>\n",
       "      <td>4500.00</td>\n",
       "      <td>-852.69</td>\n",
       "      <td>1005.72</td>\n",
       "      <td>0.00</td>\n",
       "      <td>0.00</td>\n",
       "    </tr>\n",
       "    <tr>\n",
       "      <th>6391</th>\n",
       "      <td>2886.05</td>\n",
       "      <td>-5145.89</td>\n",
       "      <td>3000.00</td>\n",
       "      <td>-6758.57</td>\n",
       "      <td>6358.83</td>\n",
       "      <td>-5271.70</td>\n",
       "      <td>7420.93</td>\n",
       "      <td>-6727.94</td>\n",
       "      <td>6617.65</td>\n",
       "      <td>-8465.18</td>\n",
       "      <td>8279.85</td>\n",
       "      <td>-3363.25</td>\n",
       "      <td>4500.00</td>\n",
       "      <td>-852.69</td>\n",
       "      <td>1005.72</td>\n",
       "    </tr>\n",
       "    <tr>\n",
       "      <th>6392</th>\n",
       "      <td>805.61</td>\n",
       "      <td>-4671.70</td>\n",
       "      <td>5005.14</td>\n",
       "      <td>-5145.89</td>\n",
       "      <td>3000.00</td>\n",
       "      <td>-6758.57</td>\n",
       "      <td>6358.83</td>\n",
       "      <td>-5271.70</td>\n",
       "      <td>7420.93</td>\n",
       "      <td>-6727.94</td>\n",
       "      <td>6617.65</td>\n",
       "      <td>-8465.18</td>\n",
       "      <td>8279.85</td>\n",
       "      <td>-3363.25</td>\n",
       "      <td>4500.00</td>\n",
       "    </tr>\n",
       "  </tbody>\n",
       "</table>\n",
       "<p>6393 rows × 15 columns</p>\n",
       "</div>"
      ],
      "text/plain": [
       "      balance_per_day  sum_outgoing_next_30_days  sum_income_next_30_days  \\\n",
       "0               18.36                   -3225.94                  3215.50   \n",
       "1                7.92                   -5186.10                  5185.80   \n",
       "2                4.41                    -835.00                   831.00   \n",
       "3             1962.71                  -11866.82                 14875.79   \n",
       "4             3833.87                  -11306.21                  8283.15   \n",
       "...               ...                        ...                      ...   \n",
       "6388          1737.22                   -6727.94                  6617.65   \n",
       "6389          2119.95                   -5271.70                  7420.93   \n",
       "6390          3545.20                   -6758.57                  6358.83   \n",
       "6391          2886.05                   -5145.89                  3000.00   \n",
       "6392           805.61                   -4671.70                  5005.14   \n",
       "\n",
       "      negative_transaction_last_1_month  positive_transaction_last_1_month  \\\n",
       "0                              -1585.20                            1587.00   \n",
       "1                              -3225.94                            3215.50   \n",
       "2                              -7165.81                            7165.00   \n",
       "3                             -15941.46                           16689.22   \n",
       "4                             -11866.82                           14875.79   \n",
       "...                                 ...                                ...   \n",
       "6388                           -8465.18                            8279.85   \n",
       "6389                           -6727.94                            6617.65   \n",
       "6390                           -5271.70                            7420.93   \n",
       "6391                           -6758.57                            6358.83   \n",
       "6392                           -5145.89                            3000.00   \n",
       "\n",
       "      negative_transaction_last_2_month  positive_transaction_last_2_month  \\\n",
       "0                              -1000.00                            1000.00   \n",
       "1                              -1585.20                            1587.00   \n",
       "2                               -556.54                             205.00   \n",
       "3                             -12972.15                           12515.82   \n",
       "4                             -15941.46                           16689.22   \n",
       "...                                 ...                                ...   \n",
       "6388                           -3363.25                            4500.00   \n",
       "6389                           -8465.18                            8279.85   \n",
       "6390                           -6727.94                            6617.65   \n",
       "6391                           -5271.70                            7420.93   \n",
       "6392                           -6758.57                            6358.83   \n",
       "\n",
       "      negative_transaction_last_3_month  positive_transaction_last_3_month  \\\n",
       "0                              -1070.29                            1066.00   \n",
       "1                              -1000.00                            1000.00   \n",
       "2                              -9818.04                           10252.33   \n",
       "3                              -9490.21                            8749.92   \n",
       "4                             -12972.15                           12515.82   \n",
       "...                                 ...                                ...   \n",
       "6388                            -852.69                            1005.72   \n",
       "6389                           -3363.25                            4500.00   \n",
       "6390                           -8465.18                            8279.85   \n",
       "6391                           -6727.94                            6617.65   \n",
       "6392                           -5271.70                            7420.93   \n",
       "\n",
       "      negative_transaction_last_4_month  positive_transaction_last_4_month  \\\n",
       "0                              -3562.99                            1828.00   \n",
       "1                              -1070.29                            1066.00   \n",
       "2                              -4768.09                            4770.40   \n",
       "3                             -15066.06                            9488.18   \n",
       "4                              -9490.21                            8749.92   \n",
       "...                                 ...                                ...   \n",
       "6388                               0.00                               0.00   \n",
       "6389                            -852.69                            1005.72   \n",
       "6390                           -3363.25                            4500.00   \n",
       "6391                           -8465.18                            8279.85   \n",
       "6392                           -6727.94                            6617.65   \n",
       "\n",
       "      negative_transaction_last_5_month  positive_transaction_last_5_month  \\\n",
       "0                               -102.00                            1841.00   \n",
       "1                              -3562.99                            1828.00   \n",
       "2                              -5929.04                            5896.49   \n",
       "3                             -11310.98                           10098.09   \n",
       "4                             -15066.06                            9488.18   \n",
       "...                                 ...                                ...   \n",
       "6388                               0.00                               0.00   \n",
       "6389                               0.00                               0.00   \n",
       "6390                            -852.69                            1005.72   \n",
       "6391                           -3363.25                            4500.00   \n",
       "6392                           -8465.18                            8279.85   \n",
       "\n",
       "      negative_transaction_last_6_month  positive_transaction_last_6_month  \n",
       "0                              -5037.00                            1952.00  \n",
       "1                               -102.00                            1841.00  \n",
       "2                               -747.32                             770.00  \n",
       "3                              -4196.96                           12120.28  \n",
       "4                             -11310.98                           10098.09  \n",
       "...                                 ...                                ...  \n",
       "6388                               0.00                               0.00  \n",
       "6389                               0.00                               0.00  \n",
       "6390                               0.00                               0.00  \n",
       "6391                            -852.69                            1005.72  \n",
       "6392                           -3363.25                            4500.00  \n",
       "\n",
       "[6393 rows x 15 columns]"
      ]
     },
     "execution_count": 4,
     "metadata": {},
     "output_type": "execute_result"
    }
   ],
   "source": [
    "df_final"
   ]
  },
  {
   "cell_type": "markdown",
   "id": "af0c1be3",
   "metadata": {
    "id": "af0c1be3"
   },
   "source": [
    "The dataset used for prediction contains for each observation the amount of balance, expenses for next month,incomes for next month, expenses for previous 1 to 6 months and incomes for previous 1 to 6 months. We chose to stop at 6 months of history because as we defined in the peoject tasks, we only requires 6 months of transactions history.\n",
    "\n",
    "We can add more features to the data if we had more domain knowledge."
   ]
  },
  {
   "cell_type": "markdown",
   "id": "ad299e87",
   "metadata": {
    "id": "ad299e87"
   },
   "source": [
    "# Handle outliers"
   ]
  },
  {
   "cell_type": "markdown",
   "id": "f19f1c88",
   "metadata": {
    "id": "f19f1c88"
   },
   "source": [
    "We want to handle outliers. We will handle the balance_per_day feature of the df_final dataset.\n",
    "\n",
    "Let’s look at the graphs boxplot and histogram."
   ]
  },
  {
   "cell_type": "code",
   "execution_count": 5,
   "id": "6f5786bf",
   "metadata": {
    "colab": {
     "base_uri": "https://localhost:8080/",
     "height": 297
    },
    "id": "6f5786bf",
    "outputId": "1ebb1666-9193-4c87-d678-276157a36c1d"
   },
   "outputs": [
    {
     "data": {
      "text/plain": [
       "<AxesSubplot:xlabel='balance_per_day'>"
      ]
     },
     "execution_count": 5,
     "metadata": {},
     "output_type": "execute_result"
    },
    {
     "data": {
      "image/png": "[encoded data removed]",
      "text/plain": [
       "<Figure size 432x288 with 1 Axes>"
      ]
     },
     "metadata": {
      "needs_background": "light"
     },
     "output_type": "display_data"
    }
   ],
   "source": [
    "sns.boxplot(x=df_final[\"balance_per_day\"])"
   ]
  },
  {
   "cell_type": "code",
   "execution_count": 6,
   "id": "da28ffe8",
   "metadata": {
    "colab": {
     "base_uri": "https://localhost:8080/",
     "height": 335
    },
    "id": "da28ffe8",
    "outputId": "2b7cc041-2501-487d-a54f-db439eef8a17"
   },
   "outputs": [
    {
     "name": "stderr",
     "output_type": "stream",
     "text": [
      "/opt/anaconda3/lib/python3.9/site-packages/seaborn/distributions.py:2619: FutureWarning: `distplot` is a deprecated function and will be removed in a future version. Please adapt your code to use either `displot` (a figure-level function with similar flexibility) or `histplot` (an axes-level function for histograms).\n",
      "  warnings.warn(msg, FutureWarning)\n"
     ]
    },
    {
     "data": {
      "image/png": "[encoded data removed]",
      "text/plain": [
       "<Figure size 432x288 with 1 Axes>"
      ]
     },
     "metadata": {
      "needs_background": "light"
     },
     "output_type": "display_data"
    }
   ],
   "source": [
    "sns.distplot(df_final[\"balance_per_day\"], bins=15, kde=False)\n",
    "plt.show()"
   ]
  },
  {
   "cell_type": "markdown",
   "id": "3e600944",
   "metadata": {
    "id": "3e600944"
   },
   "source": [
    "We can see this column has outliers (it is shown at boxplot) and it is right-skewed data(it is easily seen at histogram). For detecting outliers, we will use Tukey’s rule whiich is also known as the IQR rule. First, we will calculate the Interquartile Range of the data (IQR = Q3 — Q1). Later, we will determine our outlier boundaries with IQR. \n",
    "\n",
    "Our lower boundary with this calculation is Q1–1.5 * IQR, and our upper boundary with this calculation is Q3 + 1.5 * IQR. \n",
    "\n",
    "The data outside of the between lower and upper boundaries are outliers."
   ]
  },
  {
   "cell_type": "markdown",
   "id": "e0344c24",
   "metadata": {
    "id": "e0344c24"
   },
   "source": [
    "Let's view some basic statistical details of df_final like percentile, mean, std etc. and also\n",
    "have our data’s Q1 (%25) and Q3 (%75) percentiles."
   ]
  },
  {
   "cell_type": "code",
   "execution_count": 7,
   "id": "b9b0ecca",
   "metadata": {
    "colab": {
     "base_uri": "https://localhost:8080/",
     "height": 364
    },
    "id": "b9b0ecca",
    "outputId": "de04620b-f77c-474b-b76d-d3bc4cc0f25a"
   },
   "outputs": [
    {
     "data": {
      "text/html": [
       "<div>\n",
       "<style scoped>\n",
       "    .dataframe tbody tr th:only-of-type {\n",
       "        vertical-align: middle;\n",
       "    }\n",
       "\n",
       "    .dataframe tbody tr th {\n",
       "        vertical-align: top;\n",
       "    }\n",
       "\n",
       "    .dataframe thead th {\n",
       "        text-align: right;\n",
       "    }\n",
       "</style>\n",
       "<table border=\"1\" class=\"dataframe\">\n",
       "  <thead>\n",
       "    <tr style=\"text-align: right;\">\n",
       "      <th></th>\n",
       "      <th>balance_per_day</th>\n",
       "      <th>sum_outgoing_next_30_days</th>\n",
       "      <th>sum_income_next_30_days</th>\n",
       "      <th>negative_transaction_last_1_month</th>\n",
       "      <th>positive_transaction_last_1_month</th>\n",
       "      <th>negative_transaction_last_2_month</th>\n",
       "      <th>positive_transaction_last_2_month</th>\n",
       "      <th>negative_transaction_last_3_month</th>\n",
       "      <th>positive_transaction_last_3_month</th>\n",
       "      <th>negative_transaction_last_4_month</th>\n",
       "      <th>positive_transaction_last_4_month</th>\n",
       "      <th>negative_transaction_last_5_month</th>\n",
       "      <th>positive_transaction_last_5_month</th>\n",
       "      <th>negative_transaction_last_6_month</th>\n",
       "      <th>positive_transaction_last_6_month</th>\n",
       "    </tr>\n",
       "  </thead>\n",
       "  <tbody>\n",
       "    <tr>\n",
       "      <th>count</th>\n",
       "      <td>6393.000000</td>\n",
       "      <td>6393.000000</td>\n",
       "      <td>6393.000000</td>\n",
       "      <td>6393.000000</td>\n",
       "      <td>6393.000000</td>\n",
       "      <td>6393.000000</td>\n",
       "      <td>6393.000000</td>\n",
       "      <td>6393.000000</td>\n",
       "      <td>6393.000000</td>\n",
       "      <td>6393.000000</td>\n",
       "      <td>6393.000000</td>\n",
       "      <td>6393.000000</td>\n",
       "      <td>6393.000000</td>\n",
       "      <td>6393.000000</td>\n",
       "      <td>6393.000000</td>\n",
       "    </tr>\n",
       "    <tr>\n",
       "      <th>mean</th>\n",
       "      <td>7866.266136</td>\n",
       "      <td>-4180.117901</td>\n",
       "      <td>3145.740746</td>\n",
       "      <td>-4105.124217</td>\n",
       "      <td>3104.765243</td>\n",
       "      <td>-4082.728217</td>\n",
       "      <td>3092.712403</td>\n",
       "      <td>-4084.128026</td>\n",
       "      <td>3078.861722</td>\n",
       "      <td>-3977.762636</td>\n",
       "      <td>3012.143280</td>\n",
       "      <td>-3835.330274</td>\n",
       "      <td>2954.655206</td>\n",
       "      <td>-3638.025167</td>\n",
       "      <td>2885.043133</td>\n",
       "    </tr>\n",
       "    <tr>\n",
       "      <th>std</th>\n",
       "      <td>30541.340873</td>\n",
       "      <td>5845.432488</td>\n",
       "      <td>4337.707318</td>\n",
       "      <td>5750.543549</td>\n",
       "      <td>4270.207444</td>\n",
       "      <td>5850.588460</td>\n",
       "      <td>4368.158982</td>\n",
       "      <td>6086.711940</td>\n",
       "      <td>4406.855805</td>\n",
       "      <td>6096.933245</td>\n",
       "      <td>4425.816826</td>\n",
       "      <td>6109.861751</td>\n",
       "      <td>4421.555745</td>\n",
       "      <td>5832.611480</td>\n",
       "      <td>4456.036038</td>\n",
       "    </tr>\n",
       "    <tr>\n",
       "      <th>min</th>\n",
       "      <td>-358608.600000</td>\n",
       "      <td>-75728.820000</td>\n",
       "      <td>0.000000</td>\n",
       "      <td>-75728.820000</td>\n",
       "      <td>0.000000</td>\n",
       "      <td>-79454.940000</td>\n",
       "      <td>0.000000</td>\n",
       "      <td>-113523.230000</td>\n",
       "      <td>0.000000</td>\n",
       "      <td>-113523.230000</td>\n",
       "      <td>0.000000</td>\n",
       "      <td>-150160.270000</td>\n",
       "      <td>0.000000</td>\n",
       "      <td>-150160.270000</td>\n",
       "      <td>0.000000</td>\n",
       "    </tr>\n",
       "    <tr>\n",
       "      <th>25%</th>\n",
       "      <td>11.990000</td>\n",
       "      <td>-5191.740000</td>\n",
       "      <td>288.400000</td>\n",
       "      <td>-5119.090000</td>\n",
       "      <td>252.000000</td>\n",
       "      <td>-5076.890000</td>\n",
       "      <td>226.300000</td>\n",
       "      <td>-5023.880000</td>\n",
       "      <td>251.340000</td>\n",
       "      <td>-4918.700000</td>\n",
       "      <td>220.520000</td>\n",
       "      <td>-4717.350000</td>\n",
       "      <td>200.000000</td>\n",
       "      <td>-4463.880000</td>\n",
       "      <td>175.000000</td>\n",
       "    </tr>\n",
       "    <tr>\n",
       "      <th>50%</th>\n",
       "      <td>396.960000</td>\n",
       "      <td>-2322.740000</td>\n",
       "      <td>1771.810000</td>\n",
       "      <td>-2259.950000</td>\n",
       "      <td>1750.000000</td>\n",
       "      <td>-2194.000000</td>\n",
       "      <td>1721.020000</td>\n",
       "      <td>-2160.830000</td>\n",
       "      <td>1718.920000</td>\n",
       "      <td>-2090.920000</td>\n",
       "      <td>1688.790000</td>\n",
       "      <td>-1991.350000</td>\n",
       "      <td>1644.000000</td>\n",
       "      <td>-1860.000000</td>\n",
       "      <td>1567.290000</td>\n",
       "    </tr>\n",
       "    <tr>\n",
       "      <th>75%</th>\n",
       "      <td>7101.540000</td>\n",
       "      <td>-736.480000</td>\n",
       "      <td>4224.390000</td>\n",
       "      <td>-708.900000</td>\n",
       "      <td>4177.180000</td>\n",
       "      <td>-682.990000</td>\n",
       "      <td>4129.580000</td>\n",
       "      <td>-675.200000</td>\n",
       "      <td>4096.950000</td>\n",
       "      <td>-641.580000</td>\n",
       "      <td>4013.600000</td>\n",
       "      <td>-580.950000</td>\n",
       "      <td>3900.000000</td>\n",
       "      <td>-501.740000</td>\n",
       "      <td>3785.070000</td>\n",
       "    </tr>\n",
       "    <tr>\n",
       "      <th>max</th>\n",
       "      <td>355668.930000</td>\n",
       "      <td>0.000000</td>\n",
       "      <td>61746.900000</td>\n",
       "      <td>0.000000</td>\n",
       "      <td>61746.900000</td>\n",
       "      <td>0.000000</td>\n",
       "      <td>61746.900000</td>\n",
       "      <td>0.000000</td>\n",
       "      <td>66065.920000</td>\n",
       "      <td>0.000000</td>\n",
       "      <td>74359.670000</td>\n",
       "      <td>0.000000</td>\n",
       "      <td>74359.670000</td>\n",
       "      <td>0.000000</td>\n",
       "      <td>74359.670000</td>\n",
       "    </tr>\n",
       "  </tbody>\n",
       "</table>\n",
       "</div>"
      ],
      "text/plain": [
       "       balance_per_day  sum_outgoing_next_30_days  sum_income_next_30_days  \\\n",
       "count      6393.000000                6393.000000              6393.000000   \n",
       "mean       7866.266136               -4180.117901              3145.740746   \n",
       "std       30541.340873                5845.432488              4337.707318   \n",
       "min     -358608.600000              -75728.820000                 0.000000   \n",
       "25%          11.990000               -5191.740000               288.400000   \n",
       "50%         396.960000               -2322.740000              1771.810000   \n",
       "75%        7101.540000                -736.480000              4224.390000   \n",
       "max      355668.930000                   0.000000             61746.900000   \n",
       "\n",
       "       negative_transaction_last_1_month  positive_transaction_last_1_month  \\\n",
       "count                        6393.000000                        6393.000000   \n",
       "mean                        -4105.124217                        3104.765243   \n",
       "std                          5750.543549                        4270.207444   \n",
       "min                        -75728.820000                           0.000000   \n",
       "25%                         -5119.090000                         252.000000   \n",
       "50%                         -2259.950000                        1750.000000   \n",
       "75%                          -708.900000                        4177.180000   \n",
       "max                             0.000000                       61746.900000   \n",
       "\n",
       "       negative_transaction_last_2_month  positive_transaction_last_2_month  \\\n",
       "count                        6393.000000                        6393.000000   \n",
       "mean                        -4082.728217                        3092.712403   \n",
       "std                          5850.588460                        4368.158982   \n",
       "min                        -79454.940000                           0.000000   \n",
       "25%                         -5076.890000                         226.300000   \n",
       "50%                         -2194.000000                        1721.020000   \n",
       "75%                          -682.990000                        4129.580000   \n",
       "max                             0.000000                       61746.900000   \n",
       "\n",
       "       negative_transaction_last_3_month  positive_transaction_last_3_month  \\\n",
       "count                        6393.000000                        6393.000000   \n",
       "mean                        -4084.128026                        3078.861722   \n",
       "std                          6086.711940                        4406.855805   \n",
       "min                       -113523.230000                           0.000000   \n",
       "25%                         -5023.880000                         251.340000   \n",
       "50%                         -2160.830000                        1718.920000   \n",
       "75%                          -675.200000                        4096.950000   \n",
       "max                             0.000000                       66065.920000   \n",
       "\n",
       "       negative_transaction_last_4_month  positive_transaction_last_4_month  \\\n",
       "count                        6393.000000                        6393.000000   \n",
       "mean                        -3977.762636                        3012.143280   \n",
       "std                          6096.933245                        4425.816826   \n",
       "min                       -113523.230000                           0.000000   \n",
       "25%                         -4918.700000                         220.520000   \n",
       "50%                         -2090.920000                        1688.790000   \n",
       "75%                          -641.580000                        4013.600000   \n",
       "max                             0.000000                       74359.670000   \n",
       "\n",
       "       negative_transaction_last_5_month  positive_transaction_last_5_month  \\\n",
       "count                        6393.000000                        6393.000000   \n",
       "mean                        -3835.330274                        2954.655206   \n",
       "std                          6109.861751                        4421.555745   \n",
       "min                       -150160.270000                           0.000000   \n",
       "25%                         -4717.350000                         200.000000   \n",
       "50%                         -1991.350000                        1644.000000   \n",
       "75%                          -580.950000                        3900.000000   \n",
       "max                             0.000000                       74359.670000   \n",
       "\n",
       "       negative_transaction_last_6_month  positive_transaction_last_6_month  \n",
       "count                        6393.000000                        6393.000000  \n",
       "mean                        -3638.025167                        2885.043133  \n",
       "std                          5832.611480                        4456.036038  \n",
       "min                       -150160.270000                           0.000000  \n",
       "25%                         -4463.880000                         175.000000  \n",
       "50%                         -1860.000000                        1567.290000  \n",
       "75%                          -501.740000                        3785.070000  \n",
       "max                             0.000000                       74359.670000  "
      ]
     },
     "execution_count": 7,
     "metadata": {},
     "output_type": "execute_result"
    }
   ],
   "source": [
    "df_final.describe()"
   ]
  },
  {
   "cell_type": "markdown",
   "id": "e7488198",
   "metadata": {
    "id": "e7488198"
   },
   "source": [
    "The data is very spread out of the mean. Let's compute IQR. "
   ]
  },
  {
   "cell_type": "code",
   "execution_count": 8,
   "id": "5f81610b",
   "metadata": {
    "id": "5f81610b"
   },
   "outputs": [],
   "source": [
    "Q1 = df_final[\"balance_per_day\"].quantile(0.25)\n",
    "Q3 = df_final[\"balance_per_day\"].quantile(0.75)\n",
    "IQR = Q3 - Q1"
   ]
  },
  {
   "cell_type": "code",
   "execution_count": 9,
   "id": "ab769047",
   "metadata": {
    "id": "ab769047"
   },
   "outputs": [],
   "source": [
    "lower_lim = Q1 - 1.5 * IQR\n",
    "upper_lim = Q1 + 1.5 * IQR"
   ]
  },
  {
   "cell_type": "code",
   "execution_count": 10,
   "id": "c59d0607",
   "metadata": {
    "colab": {
     "base_uri": "https://localhost:8080/"
    },
    "id": "c59d0607",
    "outputId": "49f41a64-e2c3-4105-b2b8-b3904fa4f2a4"
   },
   "outputs": [
    {
     "name": "stdout",
     "output_type": "stream",
     "text": [
      "-10622.335000000001\n",
      "10646.315\n"
     ]
    }
   ],
   "source": [
    "print(lower_lim)\n",
    "print(upper_lim)"
   ]
  },
  {
   "cell_type": "markdown",
   "id": "c47ff361",
   "metadata": {
    "id": "c47ff361"
   },
   "source": [
    "Let's reach outliers and index."
   ]
  },
  {
   "cell_type": "code",
   "execution_count": 11,
   "id": "c597491e",
   "metadata": {
    "id": "c597491e"
   },
   "outputs": [],
   "source": [
    "outliers_15_low = df_final[\"balance_per_day\"] < lower_lim\n",
    "outliers_15_up = df_final[\"balance_per_day\"] > upper_lim"
   ]
  },
  {
   "cell_type": "code",
   "execution_count": 12,
   "id": "1830ff81",
   "metadata": {
    "colab": {
     "base_uri": "https://localhost:8080/"
    },
    "id": "1830ff81",
    "outputId": "c9efe629-ba58-4559-caa2-2a3fa1c04f35"
   },
   "outputs": [
    {
     "data": {
      "text/plain": [
       "5016"
      ]
     },
     "execution_count": 12,
     "metadata": {},
     "output_type": "execute_result"
    }
   ],
   "source": [
    "len(df_final[\"balance_per_day\"]) - (\n",
    "    len(df_final[\"balance_per_day\"][outliers_15_low])\n",
    "    + len(df_final[\"balance_per_day\"][outliers_15_up])\n",
    ")"
   ]
  },
  {
   "cell_type": "code",
   "execution_count": 13,
   "id": "eba918d3",
   "metadata": {
    "colab": {
     "base_uri": "https://localhost:8080/"
    },
    "id": "eba918d3",
    "outputId": "99c7d965-e58c-46af-ef2c-5a6065340a55"
   },
   "outputs": [
    {
     "data": {
      "text/plain": [
       "0       False\n",
       "1       False\n",
       "2       False\n",
       "3       False\n",
       "4       False\n",
       "        ...  \n",
       "6388    False\n",
       "6389    False\n",
       "6390    False\n",
       "6391    False\n",
       "6392    False\n",
       "Name: balance_per_day, Length: 6393, dtype: bool"
      ]
     },
     "execution_count": 13,
     "metadata": {},
     "output_type": "execute_result"
    }
   ],
   "source": [
    "outliers_15_low"
   ]
  },
  {
   "cell_type": "code",
   "execution_count": 14,
   "id": "21158f8f",
   "metadata": {
    "colab": {
     "base_uri": "https://localhost:8080/"
    },
    "id": "21158f8f",
    "outputId": "1ab8513f-501c-46c2-fea6-5be8d73cd143"
   },
   "outputs": [
    {
     "data": {
      "text/plain": [
       "32      43165.85\n",
       "33      42644.05\n",
       "34      42664.33\n",
       "35      42859.59\n",
       "36      42816.61\n",
       "          ...   \n",
       "6372    36294.86\n",
       "6373    33599.35\n",
       "6374    27371.74\n",
       "6375    25206.52\n",
       "6376    18055.14\n",
       "Name: balance_per_day, Length: 1377, dtype: float64"
      ]
     },
     "execution_count": 14,
     "metadata": {},
     "output_type": "execute_result"
    }
   ],
   "source": [
    "df_final[\"balance_per_day\"][(outliers_15_low | outliers_15_up)]"
   ]
  },
  {
   "cell_type": "code",
   "execution_count": 15,
   "id": "2acd15d9",
   "metadata": {
    "id": "2acd15d9"
   },
   "outputs": [],
   "source": [
    "df_final = df_final[~(outliers_15_low | outliers_15_up)]"
   ]
  },
  {
   "cell_type": "code",
   "execution_count": 16,
   "id": "4da88d4f",
   "metadata": {
    "colab": {
     "base_uri": "https://localhost:8080/",
     "height": 487
    },
    "id": "4da88d4f",
    "outputId": "0b5dec8e-4e5a-43b4-afc2-92c0ff6007cf"
   },
   "outputs": [
    {
     "data": {
      "text/html": [
       "<div>\n",
       "<style scoped>\n",
       "    .dataframe tbody tr th:only-of-type {\n",
       "        vertical-align: middle;\n",
       "    }\n",
       "\n",
       "    .dataframe tbody tr th {\n",
       "        vertical-align: top;\n",
       "    }\n",
       "\n",
       "    .dataframe thead th {\n",
       "        text-align: right;\n",
       "    }\n",
       "</style>\n",
       "<table border=\"1\" class=\"dataframe\">\n",
       "  <thead>\n",
       "    <tr style=\"text-align: right;\">\n",
       "      <th></th>\n",
       "      <th>balance_per_day</th>\n",
       "      <th>sum_outgoing_next_30_days</th>\n",
       "      <th>sum_income_next_30_days</th>\n",
       "      <th>negative_transaction_last_1_month</th>\n",
       "      <th>positive_transaction_last_1_month</th>\n",
       "      <th>negative_transaction_last_2_month</th>\n",
       "      <th>positive_transaction_last_2_month</th>\n",
       "      <th>negative_transaction_last_3_month</th>\n",
       "      <th>positive_transaction_last_3_month</th>\n",
       "      <th>negative_transaction_last_4_month</th>\n",
       "      <th>positive_transaction_last_4_month</th>\n",
       "      <th>negative_transaction_last_5_month</th>\n",
       "      <th>positive_transaction_last_5_month</th>\n",
       "      <th>negative_transaction_last_6_month</th>\n",
       "      <th>positive_transaction_last_6_month</th>\n",
       "    </tr>\n",
       "  </thead>\n",
       "  <tbody>\n",
       "    <tr>\n",
       "      <th>0</th>\n",
       "      <td>18.36</td>\n",
       "      <td>-3225.94</td>\n",
       "      <td>3215.50</td>\n",
       "      <td>-1585.20</td>\n",
       "      <td>1587.00</td>\n",
       "      <td>-1000.00</td>\n",
       "      <td>1000.00</td>\n",
       "      <td>-1070.29</td>\n",
       "      <td>1066.00</td>\n",
       "      <td>-3562.99</td>\n",
       "      <td>1828.00</td>\n",
       "      <td>-102.00</td>\n",
       "      <td>1841.00</td>\n",
       "      <td>-5037.00</td>\n",
       "      <td>1952.00</td>\n",
       "    </tr>\n",
       "    <tr>\n",
       "      <th>1</th>\n",
       "      <td>7.92</td>\n",
       "      <td>-5186.10</td>\n",
       "      <td>5185.80</td>\n",
       "      <td>-3225.94</td>\n",
       "      <td>3215.50</td>\n",
       "      <td>-1585.20</td>\n",
       "      <td>1587.00</td>\n",
       "      <td>-1000.00</td>\n",
       "      <td>1000.00</td>\n",
       "      <td>-1070.29</td>\n",
       "      <td>1066.00</td>\n",
       "      <td>-3562.99</td>\n",
       "      <td>1828.00</td>\n",
       "      <td>-102.00</td>\n",
       "      <td>1841.00</td>\n",
       "    </tr>\n",
       "    <tr>\n",
       "      <th>2</th>\n",
       "      <td>4.41</td>\n",
       "      <td>-835.00</td>\n",
       "      <td>831.00</td>\n",
       "      <td>-7165.81</td>\n",
       "      <td>7165.00</td>\n",
       "      <td>-556.54</td>\n",
       "      <td>205.00</td>\n",
       "      <td>-9818.04</td>\n",
       "      <td>10252.33</td>\n",
       "      <td>-4768.09</td>\n",
       "      <td>4770.40</td>\n",
       "      <td>-5929.04</td>\n",
       "      <td>5896.49</td>\n",
       "      <td>-747.32</td>\n",
       "      <td>770.00</td>\n",
       "    </tr>\n",
       "    <tr>\n",
       "      <th>3</th>\n",
       "      <td>1962.71</td>\n",
       "      <td>-11866.82</td>\n",
       "      <td>14875.79</td>\n",
       "      <td>-15941.46</td>\n",
       "      <td>16689.22</td>\n",
       "      <td>-12972.15</td>\n",
       "      <td>12515.82</td>\n",
       "      <td>-9490.21</td>\n",
       "      <td>8749.92</td>\n",
       "      <td>-15066.06</td>\n",
       "      <td>9488.18</td>\n",
       "      <td>-11310.98</td>\n",
       "      <td>10098.09</td>\n",
       "      <td>-4196.96</td>\n",
       "      <td>12120.28</td>\n",
       "    </tr>\n",
       "    <tr>\n",
       "      <th>4</th>\n",
       "      <td>3833.87</td>\n",
       "      <td>-11306.21</td>\n",
       "      <td>8283.15</td>\n",
       "      <td>-11866.82</td>\n",
       "      <td>14875.79</td>\n",
       "      <td>-15941.46</td>\n",
       "      <td>16689.22</td>\n",
       "      <td>-12972.15</td>\n",
       "      <td>12515.82</td>\n",
       "      <td>-9490.21</td>\n",
       "      <td>8749.92</td>\n",
       "      <td>-15066.06</td>\n",
       "      <td>9488.18</td>\n",
       "      <td>-11310.98</td>\n",
       "      <td>10098.09</td>\n",
       "    </tr>\n",
       "    <tr>\n",
       "      <th>...</th>\n",
       "      <td>...</td>\n",
       "      <td>...</td>\n",
       "      <td>...</td>\n",
       "      <td>...</td>\n",
       "      <td>...</td>\n",
       "      <td>...</td>\n",
       "      <td>...</td>\n",
       "      <td>...</td>\n",
       "      <td>...</td>\n",
       "      <td>...</td>\n",
       "      <td>...</td>\n",
       "      <td>...</td>\n",
       "      <td>...</td>\n",
       "      <td>...</td>\n",
       "      <td>...</td>\n",
       "    </tr>\n",
       "    <tr>\n",
       "      <th>6388</th>\n",
       "      <td>1737.22</td>\n",
       "      <td>-6727.94</td>\n",
       "      <td>6617.65</td>\n",
       "      <td>-8465.18</td>\n",
       "      <td>8279.85</td>\n",
       "      <td>-3363.25</td>\n",
       "      <td>4500.00</td>\n",
       "      <td>-852.69</td>\n",
       "      <td>1005.72</td>\n",
       "      <td>0.00</td>\n",
       "      <td>0.00</td>\n",
       "      <td>0.00</td>\n",
       "      <td>0.00</td>\n",
       "      <td>0.00</td>\n",
       "      <td>0.00</td>\n",
       "    </tr>\n",
       "    <tr>\n",
       "      <th>6389</th>\n",
       "      <td>2119.95</td>\n",
       "      <td>-5271.70</td>\n",
       "      <td>7420.93</td>\n",
       "      <td>-6727.94</td>\n",
       "      <td>6617.65</td>\n",
       "      <td>-8465.18</td>\n",
       "      <td>8279.85</td>\n",
       "      <td>-3363.25</td>\n",
       "      <td>4500.00</td>\n",
       "      <td>-852.69</td>\n",
       "      <td>1005.72</td>\n",
       "      <td>0.00</td>\n",
       "      <td>0.00</td>\n",
       "      <td>0.00</td>\n",
       "      <td>0.00</td>\n",
       "    </tr>\n",
       "    <tr>\n",
       "      <th>6390</th>\n",
       "      <td>3545.20</td>\n",
       "      <td>-6758.57</td>\n",
       "      <td>6358.83</td>\n",
       "      <td>-5271.70</td>\n",
       "      <td>7420.93</td>\n",
       "      <td>-6727.94</td>\n",
       "      <td>6617.65</td>\n",
       "      <td>-8465.18</td>\n",
       "      <td>8279.85</td>\n",
       "      <td>-3363.25</td>\n",
       "      <td>4500.00</td>\n",
       "      <td>-852.69</td>\n",
       "      <td>1005.72</td>\n",
       "      <td>0.00</td>\n",
       "      <td>0.00</td>\n",
       "    </tr>\n",
       "    <tr>\n",
       "      <th>6391</th>\n",
       "      <td>2886.05</td>\n",
       "      <td>-5145.89</td>\n",
       "      <td>3000.00</td>\n",
       "      <td>-6758.57</td>\n",
       "      <td>6358.83</td>\n",
       "      <td>-5271.70</td>\n",
       "      <td>7420.93</td>\n",
       "      <td>-6727.94</td>\n",
       "      <td>6617.65</td>\n",
       "      <td>-8465.18</td>\n",
       "      <td>8279.85</td>\n",
       "      <td>-3363.25</td>\n",
       "      <td>4500.00</td>\n",
       "      <td>-852.69</td>\n",
       "      <td>1005.72</td>\n",
       "    </tr>\n",
       "    <tr>\n",
       "      <th>6392</th>\n",
       "      <td>805.61</td>\n",
       "      <td>-4671.70</td>\n",
       "      <td>5005.14</td>\n",
       "      <td>-5145.89</td>\n",
       "      <td>3000.00</td>\n",
       "      <td>-6758.57</td>\n",
       "      <td>6358.83</td>\n",
       "      <td>-5271.70</td>\n",
       "      <td>7420.93</td>\n",
       "      <td>-6727.94</td>\n",
       "      <td>6617.65</td>\n",
       "      <td>-8465.18</td>\n",
       "      <td>8279.85</td>\n",
       "      <td>-3363.25</td>\n",
       "      <td>4500.00</td>\n",
       "    </tr>\n",
       "  </tbody>\n",
       "</table>\n",
       "<p>5016 rows × 15 columns</p>\n",
       "</div>"
      ],
      "text/plain": [
       "      balance_per_day  sum_outgoing_next_30_days  sum_income_next_30_days  \\\n",
       "0               18.36                   -3225.94                  3215.50   \n",
       "1                7.92                   -5186.10                  5185.80   \n",
       "2                4.41                    -835.00                   831.00   \n",
       "3             1962.71                  -11866.82                 14875.79   \n",
       "4             3833.87                  -11306.21                  8283.15   \n",
       "...               ...                        ...                      ...   \n",
       "6388          1737.22                   -6727.94                  6617.65   \n",
       "6389          2119.95                   -5271.70                  7420.93   \n",
       "6390          3545.20                   -6758.57                  6358.83   \n",
       "6391          2886.05                   -5145.89                  3000.00   \n",
       "6392           805.61                   -4671.70                  5005.14   \n",
       "\n",
       "      negative_transaction_last_1_month  positive_transaction_last_1_month  \\\n",
       "0                              -1585.20                            1587.00   \n",
       "1                              -3225.94                            3215.50   \n",
       "2                              -7165.81                            7165.00   \n",
       "3                             -15941.46                           16689.22   \n",
       "4                             -11866.82                           14875.79   \n",
       "...                                 ...                                ...   \n",
       "6388                           -8465.18                            8279.85   \n",
       "6389                           -6727.94                            6617.65   \n",
       "6390                           -5271.70                            7420.93   \n",
       "6391                           -6758.57                            6358.83   \n",
       "6392                           -5145.89                            3000.00   \n",
       "\n",
       "      negative_transaction_last_2_month  positive_transaction_last_2_month  \\\n",
       "0                              -1000.00                            1000.00   \n",
       "1                              -1585.20                            1587.00   \n",
       "2                               -556.54                             205.00   \n",
       "3                             -12972.15                           12515.82   \n",
       "4                             -15941.46                           16689.22   \n",
       "...                                 ...                                ...   \n",
       "6388                           -3363.25                            4500.00   \n",
       "6389                           -8465.18                            8279.85   \n",
       "6390                           -6727.94                            6617.65   \n",
       "6391                           -5271.70                            7420.93   \n",
       "6392                           -6758.57                            6358.83   \n",
       "\n",
       "      negative_transaction_last_3_month  positive_transaction_last_3_month  \\\n",
       "0                              -1070.29                            1066.00   \n",
       "1                              -1000.00                            1000.00   \n",
       "2                              -9818.04                           10252.33   \n",
       "3                              -9490.21                            8749.92   \n",
       "4                             -12972.15                           12515.82   \n",
       "...                                 ...                                ...   \n",
       "6388                            -852.69                            1005.72   \n",
       "6389                           -3363.25                            4500.00   \n",
       "6390                           -8465.18                            8279.85   \n",
       "6391                           -6727.94                            6617.65   \n",
       "6392                           -5271.70                            7420.93   \n",
       "\n",
       "      negative_transaction_last_4_month  positive_transaction_last_4_month  \\\n",
       "0                              -3562.99                            1828.00   \n",
       "1                              -1070.29                            1066.00   \n",
       "2                              -4768.09                            4770.40   \n",
       "3                             -15066.06                            9488.18   \n",
       "4                              -9490.21                            8749.92   \n",
       "...                                 ...                                ...   \n",
       "6388                               0.00                               0.00   \n",
       "6389                            -852.69                            1005.72   \n",
       "6390                           -3363.25                            4500.00   \n",
       "6391                           -8465.18                            8279.85   \n",
       "6392                           -6727.94                            6617.65   \n",
       "\n",
       "      negative_transaction_last_5_month  positive_transaction_last_5_month  \\\n",
       "0                               -102.00                            1841.00   \n",
       "1                              -3562.99                            1828.00   \n",
       "2                              -5929.04                            5896.49   \n",
       "3                             -11310.98                           10098.09   \n",
       "4                             -15066.06                            9488.18   \n",
       "...                                 ...                                ...   \n",
       "6388                               0.00                               0.00   \n",
       "6389                               0.00                               0.00   \n",
       "6390                            -852.69                            1005.72   \n",
       "6391                           -3363.25                            4500.00   \n",
       "6392                           -8465.18                            8279.85   \n",
       "\n",
       "      negative_transaction_last_6_month  positive_transaction_last_6_month  \n",
       "0                              -5037.00                            1952.00  \n",
       "1                               -102.00                            1841.00  \n",
       "2                               -747.32                             770.00  \n",
       "3                              -4196.96                           12120.28  \n",
       "4                             -11310.98                           10098.09  \n",
       "...                                 ...                                ...  \n",
       "6388                               0.00                               0.00  \n",
       "6389                               0.00                               0.00  \n",
       "6390                               0.00                               0.00  \n",
       "6391                            -852.69                            1005.72  \n",
       "6392                           -3363.25                            4500.00  \n",
       "\n",
       "[5016 rows x 15 columns]"
      ]
     },
     "execution_count": 16,
     "metadata": {},
     "output_type": "execute_result"
    }
   ],
   "source": [
    "df_final"
   ]
  },
  {
   "cell_type": "markdown",
   "id": "d8bbf284",
   "metadata": {
    "id": "d8bbf284"
   },
   "source": [
    "We removed the outliers and our data rows drop from 6393 to 5016"
   ]
  },
  {
   "cell_type": "code",
   "execution_count": 17,
   "id": "a1caf4c9",
   "metadata": {
    "colab": {
     "base_uri": "https://localhost:8080/",
     "height": 364
    },
    "id": "a1caf4c9",
    "outputId": "3b69ddd9-ecbf-4168-e8e4-c0af251df37a"
   },
   "outputs": [
    {
     "data": {
      "text/html": [
       "<div>\n",
       "<style scoped>\n",
       "    .dataframe tbody tr th:only-of-type {\n",
       "        vertical-align: middle;\n",
       "    }\n",
       "\n",
       "    .dataframe tbody tr th {\n",
       "        vertical-align: top;\n",
       "    }\n",
       "\n",
       "    .dataframe thead th {\n",
       "        text-align: right;\n",
       "    }\n",
       "</style>\n",
       "<table border=\"1\" class=\"dataframe\">\n",
       "  <thead>\n",
       "    <tr style=\"text-align: right;\">\n",
       "      <th></th>\n",
       "      <th>balance_per_day</th>\n",
       "      <th>sum_outgoing_next_30_days</th>\n",
       "      <th>sum_income_next_30_days</th>\n",
       "      <th>negative_transaction_last_1_month</th>\n",
       "      <th>positive_transaction_last_1_month</th>\n",
       "      <th>negative_transaction_last_2_month</th>\n",
       "      <th>positive_transaction_last_2_month</th>\n",
       "      <th>negative_transaction_last_3_month</th>\n",
       "      <th>positive_transaction_last_3_month</th>\n",
       "      <th>negative_transaction_last_4_month</th>\n",
       "      <th>positive_transaction_last_4_month</th>\n",
       "      <th>negative_transaction_last_5_month</th>\n",
       "      <th>positive_transaction_last_5_month</th>\n",
       "      <th>negative_transaction_last_6_month</th>\n",
       "      <th>positive_transaction_last_6_month</th>\n",
       "    </tr>\n",
       "  </thead>\n",
       "  <tbody>\n",
       "    <tr>\n",
       "      <th>count</th>\n",
       "      <td>5016.000000</td>\n",
       "      <td>5016.000000</td>\n",
       "      <td>5016.000000</td>\n",
       "      <td>5016.000000</td>\n",
       "      <td>5016.000000</td>\n",
       "      <td>5016.000000</td>\n",
       "      <td>5016.000000</td>\n",
       "      <td>5016.000000</td>\n",
       "      <td>5016.000000</td>\n",
       "      <td>5016.000000</td>\n",
       "      <td>5016.000000</td>\n",
       "      <td>5016.000000</td>\n",
       "      <td>5016.000000</td>\n",
       "      <td>5016.000000</td>\n",
       "      <td>5016.000000</td>\n",
       "    </tr>\n",
       "    <tr>\n",
       "      <th>mean</th>\n",
       "      <td>1099.176742</td>\n",
       "      <td>-2857.601782</td>\n",
       "      <td>2757.831400</td>\n",
       "      <td>-2896.396206</td>\n",
       "      <td>2667.156336</td>\n",
       "      <td>-2904.413415</td>\n",
       "      <td>2665.464450</td>\n",
       "      <td>-2940.419151</td>\n",
       "      <td>2638.811204</td>\n",
       "      <td>-2894.344613</td>\n",
       "      <td>2601.811876</td>\n",
       "      <td>-2815.626384</td>\n",
       "      <td>2547.042456</td>\n",
       "      <td>-2714.384264</td>\n",
       "      <td>2491.341798</td>\n",
       "    </tr>\n",
       "    <tr>\n",
       "      <th>std</th>\n",
       "      <td>2771.084053</td>\n",
       "      <td>3460.680129</td>\n",
       "      <td>3537.019124</td>\n",
       "      <td>3595.053212</td>\n",
       "      <td>3315.137118</td>\n",
       "      <td>3706.659167</td>\n",
       "      <td>3439.884103</td>\n",
       "      <td>3910.954860</td>\n",
       "      <td>3455.668629</td>\n",
       "      <td>3880.635303</td>\n",
       "      <td>3464.456104</td>\n",
       "      <td>3867.963158</td>\n",
       "      <td>3386.571073</td>\n",
       "      <td>3771.924396</td>\n",
       "      <td>3429.266215</td>\n",
       "    </tr>\n",
       "    <tr>\n",
       "      <th>min</th>\n",
       "      <td>-10407.230000</td>\n",
       "      <td>-40566.690000</td>\n",
       "      <td>0.000000</td>\n",
       "      <td>-39818.010000</td>\n",
       "      <td>0.000000</td>\n",
       "      <td>-39818.010000</td>\n",
       "      <td>0.000000</td>\n",
       "      <td>-51803.190000</td>\n",
       "      <td>0.000000</td>\n",
       "      <td>-51803.190000</td>\n",
       "      <td>0.000000</td>\n",
       "      <td>-51803.190000</td>\n",
       "      <td>0.000000</td>\n",
       "      <td>-51803.190000</td>\n",
       "      <td>0.000000</td>\n",
       "    </tr>\n",
       "    <tr>\n",
       "      <th>25%</th>\n",
       "      <td>5.895000</td>\n",
       "      <td>-3940.587500</td>\n",
       "      <td>314.900000</td>\n",
       "      <td>-3962.410000</td>\n",
       "      <td>288.542500</td>\n",
       "      <td>-3918.057500</td>\n",
       "      <td>252.000000</td>\n",
       "      <td>-3896.410000</td>\n",
       "      <td>259.967500</td>\n",
       "      <td>-3842.490000</td>\n",
       "      <td>249.280000</td>\n",
       "      <td>-3708.052500</td>\n",
       "      <td>234.742500</td>\n",
       "      <td>-3616.382500</td>\n",
       "      <td>206.530000</td>\n",
       "    </tr>\n",
       "    <tr>\n",
       "      <th>50%</th>\n",
       "      <td>158.515000</td>\n",
       "      <td>-1795.880000</td>\n",
       "      <td>1688.065000</td>\n",
       "      <td>-1813.410000</td>\n",
       "      <td>1642.330000</td>\n",
       "      <td>-1754.900000</td>\n",
       "      <td>1600.210000</td>\n",
       "      <td>-1738.150000</td>\n",
       "      <td>1593.445000</td>\n",
       "      <td>-1701.060000</td>\n",
       "      <td>1570.955000</td>\n",
       "      <td>-1636.185000</td>\n",
       "      <td>1531.940000</td>\n",
       "      <td>-1550.975000</td>\n",
       "      <td>1500.000000</td>\n",
       "    </tr>\n",
       "    <tr>\n",
       "      <th>75%</th>\n",
       "      <td>1217.820000</td>\n",
       "      <td>-510.000000</td>\n",
       "      <td>3784.277500</td>\n",
       "      <td>-492.592500</td>\n",
       "      <td>3707.710000</td>\n",
       "      <td>-491.007500</td>\n",
       "      <td>3684.695000</td>\n",
       "      <td>-482.347500</td>\n",
       "      <td>3648.432500</td>\n",
       "      <td>-463.202500</td>\n",
       "      <td>3573.580000</td>\n",
       "      <td>-418.902500</td>\n",
       "      <td>3500.000000</td>\n",
       "      <td>-371.627500</td>\n",
       "      <td>3443.115000</td>\n",
       "    </tr>\n",
       "    <tr>\n",
       "      <th>max</th>\n",
       "      <td>10622.520000</td>\n",
       "      <td>0.000000</td>\n",
       "      <td>51709.920000</td>\n",
       "      <td>0.000000</td>\n",
       "      <td>31348.900000</td>\n",
       "      <td>0.000000</td>\n",
       "      <td>36512.690000</td>\n",
       "      <td>0.000000</td>\n",
       "      <td>50873.930000</td>\n",
       "      <td>0.000000</td>\n",
       "      <td>52565.860000</td>\n",
       "      <td>0.000000</td>\n",
       "      <td>52565.860000</td>\n",
       "      <td>0.000000</td>\n",
       "      <td>66065.920000</td>\n",
       "    </tr>\n",
       "  </tbody>\n",
       "</table>\n",
       "</div>"
      ],
      "text/plain": [
       "       balance_per_day  sum_outgoing_next_30_days  sum_income_next_30_days  \\\n",
       "count      5016.000000                5016.000000              5016.000000   \n",
       "mean       1099.176742               -2857.601782              2757.831400   \n",
       "std        2771.084053                3460.680129              3537.019124   \n",
       "min      -10407.230000              -40566.690000                 0.000000   \n",
       "25%           5.895000               -3940.587500               314.900000   \n",
       "50%         158.515000               -1795.880000              1688.065000   \n",
       "75%        1217.820000                -510.000000              3784.277500   \n",
       "max       10622.520000                   0.000000             51709.920000   \n",
       "\n",
       "       negative_transaction_last_1_month  positive_transaction_last_1_month  \\\n",
       "count                        5016.000000                        5016.000000   \n",
       "mean                        -2896.396206                        2667.156336   \n",
       "std                          3595.053212                        3315.137118   \n",
       "min                        -39818.010000                           0.000000   \n",
       "25%                         -3962.410000                         288.542500   \n",
       "50%                         -1813.410000                        1642.330000   \n",
       "75%                          -492.592500                        3707.710000   \n",
       "max                             0.000000                       31348.900000   \n",
       "\n",
       "       negative_transaction_last_2_month  positive_transaction_last_2_month  \\\n",
       "count                        5016.000000                        5016.000000   \n",
       "mean                        -2904.413415                        2665.464450   \n",
       "std                          3706.659167                        3439.884103   \n",
       "min                        -39818.010000                           0.000000   \n",
       "25%                         -3918.057500                         252.000000   \n",
       "50%                         -1754.900000                        1600.210000   \n",
       "75%                          -491.007500                        3684.695000   \n",
       "max                             0.000000                       36512.690000   \n",
       "\n",
       "       negative_transaction_last_3_month  positive_transaction_last_3_month  \\\n",
       "count                        5016.000000                        5016.000000   \n",
       "mean                        -2940.419151                        2638.811204   \n",
       "std                          3910.954860                        3455.668629   \n",
       "min                        -51803.190000                           0.000000   \n",
       "25%                         -3896.410000                         259.967500   \n",
       "50%                         -1738.150000                        1593.445000   \n",
       "75%                          -482.347500                        3648.432500   \n",
       "max                             0.000000                       50873.930000   \n",
       "\n",
       "       negative_transaction_last_4_month  positive_transaction_last_4_month  \\\n",
       "count                        5016.000000                        5016.000000   \n",
       "mean                        -2894.344613                        2601.811876   \n",
       "std                          3880.635303                        3464.456104   \n",
       "min                        -51803.190000                           0.000000   \n",
       "25%                         -3842.490000                         249.280000   \n",
       "50%                         -1701.060000                        1570.955000   \n",
       "75%                          -463.202500                        3573.580000   \n",
       "max                             0.000000                       52565.860000   \n",
       "\n",
       "       negative_transaction_last_5_month  positive_transaction_last_5_month  \\\n",
       "count                        5016.000000                        5016.000000   \n",
       "mean                        -2815.626384                        2547.042456   \n",
       "std                          3867.963158                        3386.571073   \n",
       "min                        -51803.190000                           0.000000   \n",
       "25%                         -3708.052500                         234.742500   \n",
       "50%                         -1636.185000                        1531.940000   \n",
       "75%                          -418.902500                        3500.000000   \n",
       "max                             0.000000                       52565.860000   \n",
       "\n",
       "       negative_transaction_last_6_month  positive_transaction_last_6_month  \n",
       "count                        5016.000000                        5016.000000  \n",
       "mean                        -2714.384264                        2491.341798  \n",
       "std                          3771.924396                        3429.266215  \n",
       "min                        -51803.190000                           0.000000  \n",
       "25%                         -3616.382500                         206.530000  \n",
       "50%                         -1550.975000                        1500.000000  \n",
       "75%                          -371.627500                        3443.115000  \n",
       "max                             0.000000                       66065.920000  "
      ]
     },
     "execution_count": 17,
     "metadata": {},
     "output_type": "execute_result"
    }
   ],
   "source": [
    "df_final.describe()"
   ]
  },
  {
   "cell_type": "markdown",
   "id": "b5c20b56",
   "metadata": {
    "id": "b5c20b56"
   },
   "source": [
    "# Metrics definition"
   ]
  },
  {
   "cell_type": "markdown",
   "id": "ea1268ae",
   "metadata": {
    "id": "ea1268ae"
   },
   "source": [
    "We are dealing with a regression problem. We chose MAE and MAPE as metrics. \n",
    "\n",
    "Indeed, MAE is a natural measure of average error magnitude and it is more robust\n",
    "against outliers in our data compared to RMSE for example where error terms with larger magnitudes \n",
    "will be more pronounced, making them even larger. \n",
    "\n",
    "MAPE is the percentage equivalent of MAE. Just as MAE is the average magnitude of error produced by the model, the MAPE is how far the model’s predictions are off from their corresponding outputs on average. \n"
   ]
  },
  {
   "cell_type": "code",
   "execution_count": 18,
   "id": "c459e1f2",
   "metadata": {
    "id": "c459e1f2"
   },
   "outputs": [],
   "source": [
    "def mae(y_pred, y_true):\n",
    "    \"\"\"\n",
    "    Returns mean absolute error \n",
    "    \"\"\"\n",
    "\n",
    "    return np.mean(np.abs(y_pred - y_true))"
   ]
  },
  {
   "cell_type": "code",
   "execution_count": 19,
   "id": "a1fc3276",
   "metadata": {
    "id": "a1fc3276"
   },
   "outputs": [],
   "source": [
    "def mape(y_pred, y_true):\n",
    "    \"\"\"\n",
    "    Returns mean absolute percentage error  \n",
    "    \"\"\"\n",
    "\n",
    "    return (\n",
    "        np.mean(\n",
    "            np.abs((y_true - y_pred) / y_true)[\n",
    "                np.isfinite(np.abs((y_true - y_pred) / y_true))\n",
    "            ]\n",
    "        )\n",
    "        * 100\n",
    "    )"
   ]
  },
  {
   "cell_type": "markdown",
   "id": "98dab912",
   "metadata": {
    "id": "98dab912"
   },
   "source": [
    "# Split data to train and test sets"
   ]
  },
  {
   "cell_type": "markdown",
   "id": "f062f217",
   "metadata": {
    "id": "f062f217"
   },
   "source": [
    "In this part, we split the data into independant and dependant variables. The dependant variable (or target variable)\n",
    "is the column \"sum_outgoing_next_30_days\" because that's exactly what we want to predict. The independant variables are all the remaining columns.\n",
    "\n",
    "We use a StandardScaler to rescale teh features.\n",
    "\n",
    "We also split the date into train and test sets. We trained the data on train set and predict on test sets.\n",
    "We chose to train on 80% of the data and test on the remaining 20%."
   ]
  },
  {
   "cell_type": "code",
   "execution_count": 20,
   "id": "5fa7acde",
   "metadata": {
    "id": "5fa7acde"
   },
   "outputs": [],
   "source": [
    "y = df_final[\"sum_outgoing_next_30_days\"]\n",
    "X = df_final.drop([\"sum_outgoing_next_30_days\", \"sum_income_next_30_days\"], axis=1)\n",
    "features = X.columns\n",
    "scaler = StandardScaler()  \n",
    "\n",
    "X = scaler.fit_transform(X)\n",
    "\n",
    "X_train, X_test, y_train, y_test = train_test_split(\n",
    "    X, y, test_size=0.2, random_state=42, shuffle=True\n",
    ")"
   ]
  },
  {
   "cell_type": "code",
   "execution_count": 21,
   "id": "cfbbca28",
   "metadata": {
    "id": "cfbbca28"
   },
   "outputs": [],
   "source": [
    "X_train = X_train.astype(\"float32\")\n",
    "y_train = y_train.astype(\"float32\")\n",
    "X_test = X_test.astype(\"float32\")\n",
    "y_test = y_test.astype(\"float32\")"
   ]
  },
  {
   "cell_type": "markdown",
   "id": "73201b08",
   "metadata": {
    "id": "73201b08"
   },
   "source": [
    "# Statistical analysis & Correlation"
   ]
  },
  {
   "cell_type": "code",
   "execution_count": 22,
   "id": "001c59c4",
   "metadata": {
    "colab": {
     "base_uri": "https://localhost:8080/",
     "height": 1000
    },
    "id": "001c59c4",
    "outputId": "ba304d05-1dd1-4a27-d241-80d807b7e0a2"
   },
   "outputs": [
    {
     "data": {
      "image/png": "[encoded data removed]",
      "text/plain": [
       "<Figure size 1440x1440 with 2 Axes>"
      ]
     },
     "metadata": {
      "needs_background": "light"
     },
     "output_type": "display_data"
    }
   ],
   "source": [
    "corrMatrix = df_final.corr()\n",
    "plt.figure(figsize=(20, 20))\n",
    "sns.heatmap(corrMatrix, annot=True)\n",
    "plt.show()"
   ]
  },
  {
   "cell_type": "markdown",
   "id": "cf66b40d",
   "metadata": {
    "id": "cf66b40d"
   },
   "source": [
    "Now, we will create a correlation matrix to see the correlation coefficients between different variables.\n",
    "\n",
    "The correlation matrix shows that the target variable is positively correlated to the negative transactions of last month. Which means that if the expenses in a month increase, the expensescin the next month increase along with it. The target variable is correlated to the positive transactions of last month with the same strength as last variable we discussed, but negatively. \n",
    "\n",
    "The strength of correlations between sum_outgoing_next_30_days and the history of incomes and expenses of last months\n",
    "decreases as we go far in history. "
   ]
  },
  {
   "cell_type": "markdown",
   "id": "ef167e62",
   "metadata": {
    "id": "ef167e62"
   },
   "source": [
    "# Modeling"
   ]
  },
  {
   "cell_type": "markdown",
   "id": "ddab2bf0",
   "metadata": {
    "id": "ddab2bf0"
   },
   "source": [
    "For the modeling part, we chose to fit the data first to a baseline model which is a \n",
    "simple **linnear regression**. Then, we tried to make more complex models, namely **Random Forest regressor**, **XGBOOST regressor** without and with **PCA**, regressor based on clusters of samples based on the balance median, Random Forest with GridSearch and neural network to get better results. \n",
    "\n",
    "Let's see if we can achieve a better score than the baseline. "
   ]
  },
  {
   "cell_type": "markdown",
   "id": "fd7c8c9b",
   "metadata": {
    "id": "fd7c8c9b"
   },
   "source": [
    "## Linear Regression"
   ]
  },
  {
   "cell_type": "code",
   "execution_count": 23,
   "id": "4eef4091",
   "metadata": {
    "id": "4eef4091"
   },
   "outputs": [],
   "source": [
    "lr = LinearRegression().fit(X_train, y_train)"
   ]
  },
  {
   "cell_type": "code",
   "execution_count": 24,
   "id": "SLzbxLmw6VOa",
   "metadata": {
    "colab": {
     "base_uri": "https://localhost:8080/"
    },
    "id": "SLzbxLmw6VOa",
    "outputId": "86a1364f-5db9-4200-d2ca-146034db169c"
   },
   "outputs": [
    {
     "name": "stdout",
     "output_type": "stream",
     "text": [
      "MAE On Training Set for LR\n"
     ]
    },
    {
     "data": {
      "text/plain": [
       "1449.666259765625"
      ]
     },
     "execution_count": 24,
     "metadata": {},
     "output_type": "execute_result"
    }
   ],
   "source": [
    "print(\"MAE On Training Set for LR\")\n",
    "mae(lr.predict(X_train), y_train)"
   ]
  },
  {
   "cell_type": "code",
   "execution_count": 25,
   "id": "d663316e",
   "metadata": {
    "colab": {
     "base_uri": "https://localhost:8080/"
    },
    "id": "d663316e",
    "outputId": "07e70006-424c-4456-9d2d-459c935f4425"
   },
   "outputs": [
    {
     "name": "stdout",
     "output_type": "stream",
     "text": [
      "MAE On Test Set for LR\n"
     ]
    },
    {
     "data": {
      "text/plain": [
       "1538.3406982421875"
      ]
     },
     "execution_count": 25,
     "metadata": {},
     "output_type": "execute_result"
    }
   ],
   "source": [
    "print(\"MAE On Test Set for LR\")\n",
    "mae(lr.predict(X_test), y_test)"
   ]
  },
  {
   "cell_type": "code",
   "execution_count": 26,
   "id": "jipu-TBUFyG-",
   "metadata": {
    "colab": {
     "base_uri": "https://localhost:8080/"
    },
    "id": "jipu-TBUFyG-",
    "outputId": "7b9062bf-83bf-417f-b907-929399488b71"
   },
   "outputs": [
    {
     "name": "stdout",
     "output_type": "stream",
     "text": [
      "MAPE On Test Set for LR\n"
     ]
    },
    {
     "data": {
      "text/plain": [
       "1477.8242111206055"
      ]
     },
     "execution_count": 26,
     "metadata": {},
     "output_type": "execute_result"
    }
   ],
   "source": [
    "print(\"MAPE On Test Set for LR\")\n",
    "mape(lr.predict(X_test), y_test)"
   ]
  },
  {
   "cell_type": "markdown",
   "id": "I9ER-5BD6d8V",
   "metadata": {
    "id": "I9ER-5BD6d8V"
   },
   "source": [
    "We can notice that the difference between MAE on training and test sets is not big, so we don't see a clear overfitting with this **Linear Regression model**, this model is suffering from bias more than overfitting. By looking into the **Mean Absolute Percentage Error**, the error is very high."
   ]
  },
  {
   "cell_type": "markdown",
   "id": "55888f3a",
   "metadata": {
    "id": "55888f3a"
   },
   "source": [
    "## RandomForest Regressor"
   ]
  },
  {
   "cell_type": "markdown",
   "id": "4946c762",
   "metadata": {
    "id": "4946c762"
   },
   "source": [
    "### Importance Features"
   ]
  },
  {
   "cell_type": "code",
   "execution_count": 27,
   "id": "62043b7d",
   "metadata": {
    "colab": {
     "base_uri": "https://localhost:8080/"
    },
    "id": "62043b7d",
    "outputId": "ef953f25-a6b1-433e-ac73-e8e00ffb69a6"
   },
   "outputs": [
    {
     "data": {
      "text/plain": [
       "RandomForestRegressor(n_estimators=300)"
      ]
     },
     "execution_count": 27,
     "metadata": {},
     "output_type": "execute_result"
    }
   ],
   "source": [
    "## Features importance using random forest\n",
    "model_rdf = RandomForestRegressor(n_estimators=300)\n",
    "model_rdf.fit(X_train, y_train)"
   ]
  },
  {
   "cell_type": "code",
   "execution_count": 28,
   "id": "946da204",
   "metadata": {
    "colab": {
     "base_uri": "https://localhost:8080/",
     "height": 299
    },
    "id": "946da204",
    "outputId": "ac0bd9b3-e1ea-46a4-e433-51e7e01237dc"
   },
   "outputs": [
    {
     "data": {
      "text/plain": [
       "Text(0.5, 1.0, 'RandomForest Importance Features')"
      ]
     },
     "execution_count": 28,
     "metadata": {},
     "output_type": "execute_result"
    },
    {
     "data": {
      "image/png": "[encoded data removed]",
      "text/plain": [
       "<Figure size 432x288 with 1 Axes>"
      ]
     },
     "metadata": {
      "needs_background": "light"
     },
     "output_type": "display_data"
    }
   ],
   "source": [
    "feat_importances = pd.Series(model_rdf.feature_importances_, index=features)\n",
    "feat_importances.nlargest(15).plot(kind=\"barh\")\n",
    "plt.title(\"RandomForest Importance Features\")"
   ]
  },
  {
   "cell_type": "markdown",
   "id": "hM8QUrl98FD7",
   "metadata": {
    "id": "hM8QUrl98FD7"
   },
   "source": [
    " From the Importance Features plot above, we can notice that the most important features to predict the coming 30 days outgoing transactions are the positive and negative moonthly transactions during the latest months, which could be explained by the fact that the  coming 30 days outgoing transactions fo a given id depend on the latest incoming and outgoings trasactions in the latest months."
   ]
  },
  {
   "cell_type": "markdown",
   "id": "c96507a8",
   "metadata": {
    "id": "c96507a8"
   },
   "source": [
    "### Fit and Evaluate a Random Forest "
   ]
  },
  {
   "cell_type": "code",
   "execution_count": 29,
   "id": "d44b5b9f",
   "metadata": {
    "colab": {
     "base_uri": "https://localhost:8080/"
    },
    "id": "d44b5b9f",
    "outputId": "e756fa61-fc59-4f28-b507-993bd600de41"
   },
   "outputs": [
    {
     "name": "stdout",
     "output_type": "stream",
     "text": [
      "MAE On Training Set for RDF\n"
     ]
    },
    {
     "data": {
      "text/plain": [
       "555.0263897451895"
      ]
     },
     "execution_count": 29,
     "metadata": {},
     "output_type": "execute_result"
    }
   ],
   "source": [
    "print(\"MAE On Training Set for RDF\")\n",
    "mae(model_rdf.predict(X_train), y_train)"
   ]
  },
  {
   "cell_type": "code",
   "execution_count": 30,
   "id": "4c261ded",
   "metadata": {
    "colab": {
     "base_uri": "https://localhost:8080/"
    },
    "id": "4c261ded",
    "outputId": "2a16ef11-3e02-4257-dc88-fbc18283c598"
   },
   "outputs": [
    {
     "name": "stdout",
     "output_type": "stream",
     "text": [
      "MAE On Test Set for RDF\n"
     ]
    },
    {
     "data": {
      "text/plain": [
       "1523.4894644798194"
      ]
     },
     "execution_count": 30,
     "metadata": {},
     "output_type": "execute_result"
    }
   ],
   "source": [
    "print(\"MAE On Test Set for RDF\")\n",
    "mae(model_rdf.predict(X_test), y_test)"
   ]
  },
  {
   "cell_type": "code",
   "execution_count": 31,
   "id": "1bZSjCZtGHmm",
   "metadata": {
    "colab": {
     "base_uri": "https://localhost:8080/"
    },
    "id": "1bZSjCZtGHmm",
    "outputId": "5bb07e2b-3e23-41e1-c039-568bac542935"
   },
   "outputs": [
    {
     "name": "stdout",
     "output_type": "stream",
     "text": [
      "MAPE On Test Set for RDF\n"
     ]
    },
    {
     "data": {
      "text/plain": [
       "1137.6047212522349"
      ]
     },
     "execution_count": 31,
     "metadata": {},
     "output_type": "execute_result"
    }
   ],
   "source": [
    "print(\"MAPE On Test Set for RDF\")\n",
    "mape(model_rdf.predict(X_test), y_test)"
   ]
  },
  {
   "cell_type": "markdown",
   "id": "6uKGHmRo8wFx",
   "metadata": {
    "id": "6uKGHmRo8wFx"
   },
   "source": [
    "By fitting this random forest model, we can see that the  MAE training error is far from the test error, and the MAE test error is still near to the test error of the base linear regression model. But the MAPE is better compared to linear regression.\n",
    " To improve this model, we can tune Hyperparameters using GridSearch or try to use Principal Components as features. "
   ]
  },
  {
   "cell_type": "markdown",
   "id": "S_ruyb75eQqh",
   "metadata": {
    "id": "S_ruyb75eQqh"
   },
   "source": [
    "## XGBOOST Regressor"
   ]
  },
  {
   "cell_type": "markdown",
   "id": "3pK-GBI_eVOZ",
   "metadata": {
    "id": "3pK-GBI_eVOZ"
   },
   "source": [
    "### Importance Features"
   ]
  },
  {
   "cell_type": "code",
   "execution_count": 32,
   "id": "OFTVc6rgg8ee",
   "metadata": {
    "colab": {
     "base_uri": "https://localhost:8080/"
    },
    "id": "OFTVc6rgg8ee",
    "outputId": "47f9b5b7-8036-427e-ddac-30fdbc75181a"
   },
   "outputs": [
    {
     "data": {
      "text/plain": [
       "XGBRegressor(base_score=0.5, booster='gbtree', colsample_bylevel=1,\n",
       "             colsample_bynode=1, colsample_bytree=1, enable_categorical=False,\n",
       "             gamma=0, gpu_id=-1, importance_type=None,\n",
       "             interaction_constraints='', learning_rate=0.300000012,\n",
       "             max_delta_step=0, max_depth=6, min_child_weight=1, missing=nan,\n",
       "             monotone_constraints='()', n_estimators=300, n_jobs=1,\n",
       "             num_parallel_tree=1, predictor='auto', random_state=0, reg_alpha=0,\n",
       "             reg_lambda=1, scale_pos_weight=1, subsample=1, tree_method='exact',\n",
       "             validate_parameters=1, verbosity=None)"
      ]
     },
     "execution_count": 32,
     "metadata": {},
     "output_type": "execute_result"
    }
   ],
   "source": [
    "## Features importance using gradient boosting\n",
    "model_xgb = xgb.XGBRegressor(n_estimators=300)\n",
    "model_xgb.fit(X_train, y_train)"
   ]
  },
  {
   "cell_type": "code",
   "execution_count": 33,
   "id": "U78X5voLg7dE",
   "metadata": {
    "colab": {
     "base_uri": "https://localhost:8080/",
     "height": 299
    },
    "id": "U78X5voLg7dE",
    "outputId": "4d4c44bd-5338-4712-8dcf-f0fc2851a050"
   },
   "outputs": [
    {
     "data": {
      "text/plain": [
       "Text(0.5, 1.0, 'XGB Importance Features')"
      ]
     },
     "execution_count": 33,
     "metadata": {},
     "output_type": "execute_result"
    },
    {
     "data": {
      "image/png": "[encoded data removed]",
      "text/plain": [
       "<Figure size 432x288 with 1 Axes>"
      ]
     },
     "metadata": {
      "needs_background": "light"
     },
     "output_type": "display_data"
    }
   ],
   "source": [
    "feat_importances = pd.Series(model_xgb.feature_importances_, index=features)\n",
    "feat_importances.nlargest(15).plot(kind=\"barh\")\n",
    "plt.title(\"XGB Importance Features\")"
   ]
  },
  {
   "cell_type": "markdown",
   "id": "Epc24GJm9xNo",
   "metadata": {
    "id": "Epc24GJm9xNo"
   },
   "source": [
    "We fit the gradient boosting regressor on our data, because this model is very known with its capcity to reduce the bias. We can see as before, that the most important features to predict the coming 30 days outgoings, are the latest positive and negative monthly transactions."
   ]
  },
  {
   "cell_type": "markdown",
   "id": "Nl47W8iAeXQh",
   "metadata": {
    "id": "Nl47W8iAeXQh"
   },
   "source": [
    "### Fit and Evaluate an XGboost "
   ]
  },
  {
   "cell_type": "code",
   "execution_count": 34,
   "id": "6fd842ed",
   "metadata": {
    "colab": {
     "base_uri": "https://localhost:8080/"
    },
    "id": "6fd842ed",
    "outputId": "97115e72-f68b-400b-c08b-f60a5e820dd7"
   },
   "outputs": [
    {
     "name": "stdout",
     "output_type": "stream",
     "text": [
      "MAE On Training Set for XGB\n"
     ]
    },
    {
     "data": {
      "text/plain": [
       "75.35559844970703"
      ]
     },
     "execution_count": 34,
     "metadata": {},
     "output_type": "execute_result"
    }
   ],
   "source": [
    "print(\"MAE On Training Set for XGB\")\n",
    "mae(model_xgb.predict(X_train), y_train)"
   ]
  },
  {
   "cell_type": "code",
   "execution_count": 35,
   "id": "0Jj59nEOhJuz",
   "metadata": {
    "colab": {
     "base_uri": "https://localhost:8080/"
    },
    "id": "0Jj59nEOhJuz",
    "outputId": "98ae944b-314c-4cb6-f2c0-71ffb16a4d35"
   },
   "outputs": [
    {
     "name": "stdout",
     "output_type": "stream",
     "text": [
      "MAE On Test Set for XGB\n"
     ]
    },
    {
     "data": {
      "text/plain": [
       "1644.3779296875"
      ]
     },
     "execution_count": 35,
     "metadata": {},
     "output_type": "execute_result"
    }
   ],
   "source": [
    "print(\"MAE On Test Set for XGB\")\n",
    "mae(model_xgb.predict(X_test), y_test)"
   ]
  },
  {
   "cell_type": "code",
   "execution_count": 36,
   "id": "3qwukiT6Gt-P",
   "metadata": {
    "colab": {
     "base_uri": "https://localhost:8080/"
    },
    "id": "3qwukiT6Gt-P",
    "outputId": "3823e66b-9989-4fba-a826-62df2629fb3e"
   },
   "outputs": [
    {
     "name": "stdout",
     "output_type": "stream",
     "text": [
      "MAPE On Test Set for XGB\n"
     ]
    },
    {
     "data": {
      "text/plain": [
       "1063.127613067627"
      ]
     },
     "execution_count": 36,
     "metadata": {},
     "output_type": "execute_result"
    }
   ],
   "source": [
    "print(\"MAPE On Test Set for XGB\")\n",
    "mape(model_xgb.predict(X_test), y_test)"
   ]
  },
  {
   "cell_type": "markdown",
   "id": "7TRjF0oU-kUQ",
   "metadata": {
    "id": "7TRjF0oU-kUQ"
   },
   "source": [
    "By fitting this Xgboost model, we can see that MAE test error still near from the test error from the base linear regression model. To improve this model, we can tune Hyperparameters using GridSearch or try to use Principal Components as features. The MAPE for this XGBOOSt model is better than the above models"
   ]
  },
  {
   "cell_type": "markdown",
   "id": "Nig4JDtfek--",
   "metadata": {
    "id": "Nig4JDtfek--"
   },
   "source": [
    "## Principal Components Analysis"
   ]
  },
  {
   "cell_type": "markdown",
   "id": "3428ee6b",
   "metadata": {
    "id": "3428ee6b"
   },
   "source": [
    "In this part, we will apply a PCA on the data before training Random Forest and XGBOOST on it. **Principal Components Analysis** allows catching colinearities between features, and using these principal componenents will allow to reduce bias due to these colinearities. In our problem, the colineraties may come from the the fact the relationship between balance, monthly positive and negative transactions is linear."
   ]
  },
  {
   "cell_type": "code",
   "execution_count": 37,
   "id": "daf4af12",
   "metadata": {
    "colab": {
     "base_uri": "https://localhost:8080/",
     "height": 299
    },
    "id": "daf4af12",
    "outputId": "0625e548-888e-41b8-81ab-05672b377322"
   },
   "outputs": [
    {
     "data": {
      "text/plain": [
       "Text(0.5, 1.0, 'Cumulative explained variance ratio')"
      ]
     },
     "execution_count": 37,
     "metadata": {},
     "output_type": "execute_result"
    },
    {
     "data": {
      "image/png": "[encoded data removed]",
      "text/plain": [
       "<Figure size 432x288 with 1 Axes>"
      ]
     },
     "metadata": {
      "needs_background": "light"
     },
     "output_type": "display_data"
    }
   ],
   "source": [
    "### PCA\n",
    "\n",
    "nb_pc = 12  \n",
    "pca = PCA(n_components=nb_pc)\n",
    "principalComponents = pca.fit_transform(X)\n",
    "\n",
    "plt.plot(np.cumsum(pca.explained_variance_ratio_))\n",
    "plt.title(\"Cumulative explained variance ratio\")"
   ]
  },
  {
   "cell_type": "markdown",
   "id": "MnnpkzXj_bri",
   "metadata": {
    "id": "MnnpkzXj_bri"
   },
   "source": [
    "W can see in the figure above, the cumulative sum of the **eigenvalues** that are corrpsonding to the **cumulative explained variance**, we can see that using only the most important **6 components** will allow to explain 90% of the variance. For this reason, we will use these 6 components as features."
   ]
  },
  {
   "cell_type": "code",
   "execution_count": 38,
   "id": "4381fecd",
   "metadata": {
    "id": "4381fecd"
   },
   "outputs": [],
   "source": [
    "pca = PCA(n_components=6)\n",
    "principalComponentsTrain = pca.fit_transform(X_train)\n",
    "principalComponentsTest = pca.transform(X_test)"
   ]
  },
  {
   "cell_type": "markdown",
   "id": "fPU5wRCCBaFw",
   "metadata": {
    "id": "fPU5wRCCBaFw"
   },
   "source": [
    "### Linear Regression using PCA"
   ]
  },
  {
   "cell_type": "code",
   "execution_count": 39,
   "id": "Gqz6J7LsBC3u",
   "metadata": {
    "id": "Gqz6J7LsBC3u"
   },
   "outputs": [],
   "source": [
    "lr_pca = LinearRegression().fit(principalComponentsTrain, y_train)"
   ]
  },
  {
   "cell_type": "code",
   "execution_count": 40,
   "id": "lEQZXl17BHar",
   "metadata": {
    "colab": {
     "base_uri": "https://localhost:8080/"
    },
    "id": "lEQZXl17BHar",
    "outputId": "730d28c8-974a-4b00-b545-90b0010fc357"
   },
   "outputs": [
    {
     "name": "stdout",
     "output_type": "stream",
     "text": [
      "MAE on test set using LR\n"
     ]
    },
    {
     "data": {
      "text/plain": [
       "1522.677001953125"
      ]
     },
     "execution_count": 40,
     "metadata": {},
     "output_type": "execute_result"
    }
   ],
   "source": [
    "print(\"MAE on test set using LR\")\n",
    "mae(lr_pca.predict(principalComponentsTest), y_test)"
   ]
  },
  {
   "cell_type": "code",
   "execution_count": 41,
   "id": "FWx3V0_sHI5Q",
   "metadata": {
    "colab": {
     "base_uri": "https://localhost:8080/"
    },
    "id": "FWx3V0_sHI5Q",
    "outputId": "db1c0ae9-860e-49f7-c250-83f5789c410e"
   },
   "outputs": [
    {
     "name": "stdout",
     "output_type": "stream",
     "text": [
      "MAPE on test set using LR\n"
     ]
    },
    {
     "data": {
      "text/plain": [
       "1430.0138473510742"
      ]
     },
     "execution_count": 41,
     "metadata": {},
     "output_type": "execute_result"
    }
   ],
   "source": [
    "print(\"MAPE on test set using LR\")\n",
    "mape(lr_pca.predict(principalComponentsTest), y_test)"
   ]
  },
  {
   "cell_type": "markdown",
   "id": "2ba705cf",
   "metadata": {
    "id": "2ba705cf"
   },
   "source": [
    "### RandomForest with PCA"
   ]
  },
  {
   "cell_type": "code",
   "execution_count": 42,
   "id": "6fe048d9",
   "metadata": {
    "colab": {
     "base_uri": "https://localhost:8080/"
    },
    "id": "6fe048d9",
    "outputId": "ce9a0f22-7420-410d-9b9d-d66780aa15b6"
   },
   "outputs": [
    {
     "name": "stdout",
     "output_type": "stream",
     "text": [
      "MAE on test set using RDF\n"
     ]
    },
    {
     "data": {
      "text/plain": [
       "1569.7001546675567"
      ]
     },
     "execution_count": 42,
     "metadata": {},
     "output_type": "execute_result"
    }
   ],
   "source": [
    "\n",
    "model_rdf_pca = RandomForestRegressor(n_estimators=300)\n",
    "model_rdf_pca.fit(principalComponentsTrain, y_train)\n",
    "print(\"MAE on test set using RDF\")\n",
    "mae(model_rdf_pca.predict(principalComponentsTest), y_test)"
   ]
  },
  {
   "cell_type": "code",
   "execution_count": 43,
   "id": "l8CkorwKHMwq",
   "metadata": {
    "colab": {
     "base_uri": "https://localhost:8080/"
    },
    "id": "l8CkorwKHMwq",
    "outputId": "f2ce7560-48a1-48bc-d2df-010cf59bcd37"
   },
   "outputs": [
    {
     "name": "stdout",
     "output_type": "stream",
     "text": [
      "MAPE on test set using RDF\n"
     ]
    },
    {
     "data": {
      "text/plain": [
       "1246.0303700458526"
      ]
     },
     "execution_count": 43,
     "metadata": {},
     "output_type": "execute_result"
    }
   ],
   "source": [
    "print(\"MAPE on test set using RDF\")\n",
    "mape(model_rdf_pca.predict(principalComponentsTest), y_test)"
   ]
  },
  {
   "cell_type": "markdown",
   "id": "evU_m9J8A7GU",
   "metadata": {
    "id": "evU_m9J8A7GU"
   },
   "source": [
    "### XGBOOST with PCA"
   ]
  },
  {
   "cell_type": "code",
   "execution_count": 44,
   "id": "RSDprDZChi5f",
   "metadata": {
    "colab": {
     "base_uri": "https://localhost:8080/"
    },
    "id": "RSDprDZChi5f",
    "outputId": "d952c34b-2f96-4ee7-97ff-da3ef51cbdd7"
   },
   "outputs": [
    {
     "name": "stdout",
     "output_type": "stream",
     "text": [
      "MAE on test set using XGB\n"
     ]
    },
    {
     "data": {
      "text/plain": [
       "1679.1639404296875"
      ]
     },
     "execution_count": 44,
     "metadata": {},
     "output_type": "execute_result"
    }
   ],
   "source": [
    "\n",
    "model_xgb_pca = xgb.XGBRegressor(n_estimators=300)\n",
    "model_xgb_pca.fit(principalComponentsTrain, y_train)\n",
    "print(\"MAE on test set using XGB\")\n",
    "mae(model_xgb_pca.predict(principalComponentsTest), y_test)"
   ]
  },
  {
   "cell_type": "code",
   "execution_count": 45,
   "id": "fI5Sd1BaHUdn",
   "metadata": {
    "colab": {
     "base_uri": "https://localhost:8080/"
    },
    "id": "fI5Sd1BaHUdn",
    "outputId": "081ee7f7-eabd-4652-8ea0-d50ba5000f9c"
   },
   "outputs": [
    {
     "name": "stdout",
     "output_type": "stream",
     "text": [
      "MAPE on test set using XGB\n"
     ]
    },
    {
     "data": {
      "text/plain": [
       "1309.6441268920898"
      ]
     },
     "execution_count": 45,
     "metadata": {},
     "output_type": "execute_result"
    }
   ],
   "source": [
    "print(\"MAPE on test set using XGB\")\n",
    "mape(model_xgb_pca.predict(principalComponentsTest), y_test)"
   ]
  },
  {
   "cell_type": "markdown",
   "id": "jUrV_hidBhHH",
   "metadata": {
    "id": "jUrV_hidBhHH"
   },
   "source": [
    "Using Principal Components does not improve the test MAE, so we will not use PCA on our final model in order to keep the explanability of the features. From a **Buisness perspective**, explanability of the models is very important, so we prefer keep original features that are easily explained."
   ]
  },
  {
   "cell_type": "markdown",
   "id": "vM3uat83h7Qe",
   "metadata": {
    "id": "vM3uat83h7Qe"
   },
   "source": [
    "## Train regressors based on balance_per_day >= median(balance_per_day)"
   ]
  },
  {
   "cell_type": "markdown",
   "id": "szMN3zp5CgPf",
   "metadata": {
    "id": "szMN3zp5CgPf"
   },
   "source": [
    "In this section, we have decided to split the dataset into two balanced dataset based on the median of the most updated balance, because we assume that the negative transactions of a given customer will depend on its balance and we need to fit many models based and take into consideration the homogenity of the accounts' groups. It will be better to train two models for accounts with a low account balance and a model for accounts with high balance. Unfortunately we have around 5000 rows, in our dataset, so we cannot split this dataset to more than 2 accounts' group. We tried also **KMeans** clustering to cluster accounts based on all features, but we got **two unbalanced clusters**, for this reason, we chose the balance median as a criterion to split data into two balanced groups."
   ]
  },
  {
   "cell_type": "code",
   "execution_count": 46,
   "id": "v_xFxj1Mhi2u",
   "metadata": {
    "colab": {
     "base_uri": "https://localhost:8080/",
     "height": 364
    },
    "id": "v_xFxj1Mhi2u",
    "outputId": "8240d700-c354-4a71-8be7-2be7f2f81868"
   },
   "outputs": [
    {
     "data": {
      "text/html": [
       "<div>\n",
       "<style scoped>\n",
       "    .dataframe tbody tr th:only-of-type {\n",
       "        vertical-align: middle;\n",
       "    }\n",
       "\n",
       "    .dataframe tbody tr th {\n",
       "        vertical-align: top;\n",
       "    }\n",
       "\n",
       "    .dataframe thead th {\n",
       "        text-align: right;\n",
       "    }\n",
       "</style>\n",
       "<table border=\"1\" class=\"dataframe\">\n",
       "  <thead>\n",
       "    <tr style=\"text-align: right;\">\n",
       "      <th></th>\n",
       "      <th>balance_per_day</th>\n",
       "      <th>negative_transaction_last_1_month</th>\n",
       "      <th>positive_transaction_last_1_month</th>\n",
       "      <th>negative_transaction_last_2_month</th>\n",
       "      <th>positive_transaction_last_2_month</th>\n",
       "      <th>negative_transaction_last_3_month</th>\n",
       "      <th>positive_transaction_last_3_month</th>\n",
       "      <th>negative_transaction_last_4_month</th>\n",
       "      <th>positive_transaction_last_4_month</th>\n",
       "      <th>negative_transaction_last_5_month</th>\n",
       "      <th>positive_transaction_last_5_month</th>\n",
       "      <th>negative_transaction_last_6_month</th>\n",
       "      <th>positive_transaction_last_6_month</th>\n",
       "    </tr>\n",
       "  </thead>\n",
       "  <tbody>\n",
       "    <tr>\n",
       "      <th>count</th>\n",
       "      <td>2508.000000</td>\n",
       "      <td>2508.000000</td>\n",
       "      <td>2508.000000</td>\n",
       "      <td>2508.000000</td>\n",
       "      <td>2508.000000</td>\n",
       "      <td>2508.000000</td>\n",
       "      <td>2508.000000</td>\n",
       "      <td>2508.000000</td>\n",
       "      <td>2508.000000</td>\n",
       "      <td>2508.000000</td>\n",
       "      <td>2508.000000</td>\n",
       "      <td>2508.000000</td>\n",
       "      <td>2508.000000</td>\n",
       "    </tr>\n",
       "    <tr>\n",
       "      <th>mean</th>\n",
       "      <td>2621.244868</td>\n",
       "      <td>-3672.790642</td>\n",
       "      <td>3335.834908</td>\n",
       "      <td>-3543.851300</td>\n",
       "      <td>3216.977049</td>\n",
       "      <td>-3480.147273</td>\n",
       "      <td>3045.073050</td>\n",
       "      <td>-3397.699490</td>\n",
       "      <td>3017.120327</td>\n",
       "      <td>-3179.506703</td>\n",
       "      <td>2816.193720</td>\n",
       "      <td>-3048.068230</td>\n",
       "      <td>2734.127500</td>\n",
       "    </tr>\n",
       "    <tr>\n",
       "      <th>std</th>\n",
       "      <td>2977.781666</td>\n",
       "      <td>3999.551605</td>\n",
       "      <td>3636.996509</td>\n",
       "      <td>4106.013628</td>\n",
       "      <td>3827.500817</td>\n",
       "      <td>4474.904945</td>\n",
       "      <td>3844.716602</td>\n",
       "      <td>4312.393635</td>\n",
       "      <td>3965.648479</td>\n",
       "      <td>4211.039211</td>\n",
       "      <td>3715.015802</td>\n",
       "      <td>4170.183066</td>\n",
       "      <td>3749.838366</td>\n",
       "    </tr>\n",
       "    <tr>\n",
       "      <th>min</th>\n",
       "      <td>158.530000</td>\n",
       "      <td>-39818.010000</td>\n",
       "      <td>0.000000</td>\n",
       "      <td>-38421.330000</td>\n",
       "      <td>0.000000</td>\n",
       "      <td>-51803.190000</td>\n",
       "      <td>0.000000</td>\n",
       "      <td>-39818.010000</td>\n",
       "      <td>0.000000</td>\n",
       "      <td>-39201.820000</td>\n",
       "      <td>0.000000</td>\n",
       "      <td>-51803.190000</td>\n",
       "      <td>0.000000</td>\n",
       "    </tr>\n",
       "    <tr>\n",
       "      <th>25%</th>\n",
       "      <td>446.557500</td>\n",
       "      <td>-4886.630000</td>\n",
       "      <td>909.105000</td>\n",
       "      <td>-4710.437500</td>\n",
       "      <td>731.852500</td>\n",
       "      <td>-4425.752500</td>\n",
       "      <td>611.907500</td>\n",
       "      <td>-4394.390000</td>\n",
       "      <td>500.000000</td>\n",
       "      <td>-4083.915000</td>\n",
       "      <td>420.135000</td>\n",
       "      <td>-3936.192500</td>\n",
       "      <td>359.280000</td>\n",
       "    </tr>\n",
       "    <tr>\n",
       "      <th>50%</th>\n",
       "      <td>1218.140000</td>\n",
       "      <td>-2560.395000</td>\n",
       "      <td>2361.660000</td>\n",
       "      <td>-2337.440000</td>\n",
       "      <td>2114.375000</td>\n",
       "      <td>-2175.290000</td>\n",
       "      <td>1980.610000</td>\n",
       "      <td>-2112.930000</td>\n",
       "      <td>1936.670000</td>\n",
       "      <td>-1920.420000</td>\n",
       "      <td>1814.210000</td>\n",
       "      <td>-1814.370000</td>\n",
       "      <td>1754.900000</td>\n",
       "    </tr>\n",
       "    <tr>\n",
       "      <th>75%</th>\n",
       "      <td>3691.587500</td>\n",
       "      <td>-1131.170000</td>\n",
       "      <td>4502.822500</td>\n",
       "      <td>-970.587500</td>\n",
       "      <td>4280.642500</td>\n",
       "      <td>-874.430000</td>\n",
       "      <td>4059.892500</td>\n",
       "      <td>-790.507500</td>\n",
       "      <td>4010.010000</td>\n",
       "      <td>-641.435000</td>\n",
       "      <td>3758.147500</td>\n",
       "      <td>-535.365000</td>\n",
       "      <td>3700.995000</td>\n",
       "    </tr>\n",
       "    <tr>\n",
       "      <th>max</th>\n",
       "      <td>10622.520000</td>\n",
       "      <td>0.000000</td>\n",
       "      <td>31348.900000</td>\n",
       "      <td>0.000000</td>\n",
       "      <td>36512.690000</td>\n",
       "      <td>0.000000</td>\n",
       "      <td>50873.930000</td>\n",
       "      <td>0.000000</td>\n",
       "      <td>52565.860000</td>\n",
       "      <td>0.000000</td>\n",
       "      <td>52565.860000</td>\n",
       "      <td>0.000000</td>\n",
       "      <td>66065.920000</td>\n",
       "    </tr>\n",
       "  </tbody>\n",
       "</table>\n",
       "</div>"
      ],
      "text/plain": [
       "       balance_per_day  negative_transaction_last_1_month  \\\n",
       "count      2508.000000                        2508.000000   \n",
       "mean       2621.244868                       -3672.790642   \n",
       "std        2977.781666                        3999.551605   \n",
       "min         158.530000                      -39818.010000   \n",
       "25%         446.557500                       -4886.630000   \n",
       "50%        1218.140000                       -2560.395000   \n",
       "75%        3691.587500                       -1131.170000   \n",
       "max       10622.520000                           0.000000   \n",
       "\n",
       "       positive_transaction_last_1_month  negative_transaction_last_2_month  \\\n",
       "count                        2508.000000                        2508.000000   \n",
       "mean                         3335.834908                       -3543.851300   \n",
       "std                          3636.996509                        4106.013628   \n",
       "min                             0.000000                      -38421.330000   \n",
       "25%                           909.105000                       -4710.437500   \n",
       "50%                          2361.660000                       -2337.440000   \n",
       "75%                          4502.822500                        -970.587500   \n",
       "max                         31348.900000                           0.000000   \n",
       "\n",
       "       positive_transaction_last_2_month  negative_transaction_last_3_month  \\\n",
       "count                        2508.000000                        2508.000000   \n",
       "mean                         3216.977049                       -3480.147273   \n",
       "std                          3827.500817                        4474.904945   \n",
       "min                             0.000000                      -51803.190000   \n",
       "25%                           731.852500                       -4425.752500   \n",
       "50%                          2114.375000                       -2175.290000   \n",
       "75%                          4280.642500                        -874.430000   \n",
       "max                         36512.690000                           0.000000   \n",
       "\n",
       "       positive_transaction_last_3_month  negative_transaction_last_4_month  \\\n",
       "count                        2508.000000                        2508.000000   \n",
       "mean                         3045.073050                       -3397.699490   \n",
       "std                          3844.716602                        4312.393635   \n",
       "min                             0.000000                      -39818.010000   \n",
       "25%                           611.907500                       -4394.390000   \n",
       "50%                          1980.610000                       -2112.930000   \n",
       "75%                          4059.892500                        -790.507500   \n",
       "max                         50873.930000                           0.000000   \n",
       "\n",
       "       positive_transaction_last_4_month  negative_transaction_last_5_month  \\\n",
       "count                        2508.000000                        2508.000000   \n",
       "mean                         3017.120327                       -3179.506703   \n",
       "std                          3965.648479                        4211.039211   \n",
       "min                             0.000000                      -39201.820000   \n",
       "25%                           500.000000                       -4083.915000   \n",
       "50%                          1936.670000                       -1920.420000   \n",
       "75%                          4010.010000                        -641.435000   \n",
       "max                         52565.860000                           0.000000   \n",
       "\n",
       "       positive_transaction_last_5_month  negative_transaction_last_6_month  \\\n",
       "count                        2508.000000                        2508.000000   \n",
       "mean                         2816.193720                       -3048.068230   \n",
       "std                          3715.015802                        4170.183066   \n",
       "min                             0.000000                      -51803.190000   \n",
       "25%                           420.135000                       -3936.192500   \n",
       "50%                          1814.210000                       -1814.370000   \n",
       "75%                          3758.147500                        -535.365000   \n",
       "max                         52565.860000                           0.000000   \n",
       "\n",
       "       positive_transaction_last_6_month  \n",
       "count                        2508.000000  \n",
       "mean                         2734.127500  \n",
       "std                          3749.838366  \n",
       "min                             0.000000  \n",
       "25%                           359.280000  \n",
       "50%                          1754.900000  \n",
       "75%                          3700.995000  \n",
       "max                         66065.920000  "
      ]
     },
     "execution_count": 46,
     "metadata": {},
     "output_type": "execute_result"
    }
   ],
   "source": [
    "med_balance = np.median(df_final[\"balance_per_day\"])\n",
    "\n",
    "\n",
    "y_g = df_final[df_final[\"balance_per_day\"] >= med_balance][\n",
    "    \"sum_outgoing_next_30_days\"\n",
    "]\n",
    "X_g = df_final[df_final[\"balance_per_day\"] >= med_balance].drop(\n",
    "    [\"sum_outgoing_next_30_days\", \"sum_income_next_30_days\"], axis=1\n",
    ")\n",
    "#       +['positive_transaction_last_'+str(i+1)+'_month' for i in\n",
    "# range(6)],axis=1)\n",
    "X_g.describe()\n",
    "\n"
   ]
  },
  {
   "cell_type": "code",
   "execution_count": 47,
   "id": "WH2aYSIPMlj6",
   "metadata": {
    "id": "WH2aYSIPMlj6"
   },
   "outputs": [],
   "source": [
    "X_g = scaler.fit_transform(X_g)\n",
    "\n",
    "X_train_g, X_test_g, y_train_g, y_test_g = train_test_split(\n",
    "    X_g, y_g, test_size=0.2, random_state=42, shuffle=True\n",
    ")"
   ]
  },
  {
   "cell_type": "markdown",
   "id": "H748MeomHoPn",
   "metadata": {
    "id": "H748MeomHoPn"
   },
   "source": [
    "#### Linear Regression"
   ]
  },
  {
   "cell_type": "code",
   "execution_count": 48,
   "id": "9Itkjlf8FPir",
   "metadata": {
    "id": "9Itkjlf8FPir"
   },
   "outputs": [],
   "source": [
    "lr_up_med = LinearRegression().fit(X_train_g, y_train_g)"
   ]
  },
  {
   "cell_type": "code",
   "execution_count": 49,
   "id": "zggyssm6FcsY",
   "metadata": {
    "colab": {
     "base_uri": "https://localhost:8080/"
    },
    "id": "zggyssm6FcsY",
    "outputId": "479294ed-f105-4472-cbf8-70a5412758ae"
   },
   "outputs": [
    {
     "name": "stdout",
     "output_type": "stream",
     "text": [
      "MAE On Training Set for LR\n"
     ]
    },
    {
     "data": {
      "text/plain": [
       "1681.8208183709392"
      ]
     },
     "execution_count": 49,
     "metadata": {},
     "output_type": "execute_result"
    }
   ],
   "source": [
    "print(\"MAE On Training Set for LR\")\n",
    "mae(lr_up_med.predict(X_train_g), y_train_g)"
   ]
  },
  {
   "cell_type": "code",
   "execution_count": 50,
   "id": "unQreljxFUle",
   "metadata": {
    "colab": {
     "base_uri": "https://localhost:8080/"
    },
    "id": "unQreljxFUle",
    "outputId": "d320940d-f752-41e4-e82e-71ba58041ed2"
   },
   "outputs": [
    {
     "name": "stdout",
     "output_type": "stream",
     "text": [
      "MAE On Test Set for LR\n"
     ]
    },
    {
     "data": {
      "text/plain": [
       "1602.502354757682"
      ]
     },
     "execution_count": 50,
     "metadata": {},
     "output_type": "execute_result"
    }
   ],
   "source": [
    "print(\"MAE On Test Set for LR\")\n",
    "mae(lr_up_med.predict(X_test_g), y_test_g)"
   ]
  },
  {
   "cell_type": "code",
   "execution_count": 51,
   "id": "QbExT3lcFlD1",
   "metadata": {
    "colab": {
     "base_uri": "https://localhost:8080/"
    },
    "id": "QbExT3lcFlD1",
    "outputId": "4b4b7cc3-25b1-4573-e3de-9e2db4f1acf9"
   },
   "outputs": [
    {
     "name": "stdout",
     "output_type": "stream",
     "text": [
      "MAPE On Test Set for LR\n"
     ]
    },
    {
     "data": {
      "text/plain": [
       "569.1851175994572"
      ]
     },
     "execution_count": 51,
     "metadata": {},
     "output_type": "execute_result"
    }
   ],
   "source": [
    "print(\"MAPE On Test Set for LR\")\n",
    "mape(lr_up_med.predict(X_test_g), y_test_g)"
   ]
  },
  {
   "cell_type": "markdown",
   "id": "YuvQc2OCiyxE",
   "metadata": {
    "id": "YuvQc2OCiyxE"
   },
   "source": [
    "#### RandomForest"
   ]
  },
  {
   "cell_type": "code",
   "execution_count": 52,
   "id": "WGApjPP4hizm",
   "metadata": {
    "colab": {
     "base_uri": "https://localhost:8080/"
    },
    "id": "WGApjPP4hizm",
    "outputId": "d6660df2-f0fe-4990-ff72-08d843873079"
   },
   "outputs": [
    {
     "data": {
      "text/plain": [
       "RandomForestRegressor(n_estimators=300)"
      ]
     },
     "execution_count": 52,
     "metadata": {},
     "output_type": "execute_result"
    }
   ],
   "source": [
    "model_rdf_up_med = RandomForestRegressor(n_estimators=300)\n",
    "model_rdf_up_med.fit(X_train_g, y_train_g)"
   ]
  },
  {
   "cell_type": "code",
   "execution_count": 53,
   "id": "AUjkLaq8hiw0",
   "metadata": {
    "colab": {
     "base_uri": "https://localhost:8080/"
    },
    "id": "AUjkLaq8hiw0",
    "outputId": "3e34d4cd-60e4-471f-fd3f-b26073eb0a63"
   },
   "outputs": [
    {
     "name": "stdout",
     "output_type": "stream",
     "text": [
      "MAE On Training Set for RDF\n"
     ]
    },
    {
     "data": {
      "text/plain": [
       "664.6856992585731"
      ]
     },
     "execution_count": 53,
     "metadata": {},
     "output_type": "execute_result"
    }
   ],
   "source": [
    "print(\"MAE On Training Set for RDF\")\n",
    "mae(model_rdf_up_med.predict(X_train_g), y_train_g)"
   ]
  },
  {
   "cell_type": "code",
   "execution_count": 54,
   "id": "UBetUsYCoi7O",
   "metadata": {
    "colab": {
     "base_uri": "https://localhost:8080/"
    },
    "id": "UBetUsYCoi7O",
    "outputId": "a096b20e-9015-4a42-bad2-c1587737f092"
   },
   "outputs": [
    {
     "name": "stdout",
     "output_type": "stream",
     "text": [
      "MAE On Test Set for RDF\n"
     ]
    },
    {
     "data": {
      "text/plain": [
       "1571.5628510914169"
      ]
     },
     "execution_count": 54,
     "metadata": {},
     "output_type": "execute_result"
    }
   ],
   "source": [
    "print(\"MAE On Test Set for RDF\")\n",
    "mae(model_rdf_up_med.predict(X_test_g), y_test_g)"
   ]
  },
  {
   "cell_type": "code",
   "execution_count": 55,
   "id": "ZhBg29ca_I98",
   "metadata": {
    "colab": {
     "base_uri": "https://localhost:8080/"
    },
    "id": "ZhBg29ca_I98",
    "outputId": "ab0f26b2-d635-496b-fd36-70889e2f1278"
   },
   "outputs": [
    {
     "name": "stdout",
     "output_type": "stream",
     "text": [
      "MAPE On Test Set for RDF\n"
     ]
    },
    {
     "data": {
      "text/plain": [
       "647.2863878399716"
      ]
     },
     "execution_count": 55,
     "metadata": {},
     "output_type": "execute_result"
    }
   ],
   "source": [
    "print(\"MAPE On Test Set for RDF\")\n",
    "mape(model_rdf_up_med.predict(X_test_g), y_test_g)"
   ]
  },
  {
   "cell_type": "markdown",
   "id": "cPg0f5D8ivlQ",
   "metadata": {
    "id": "cPg0f5D8ivlQ"
   },
   "source": [
    "#### XGBOOST"
   ]
  },
  {
   "cell_type": "code",
   "execution_count": 56,
   "id": "HPfQE1oui3e2",
   "metadata": {
    "colab": {
     "base_uri": "https://localhost:8080/"
    },
    "id": "HPfQE1oui3e2",
    "outputId": "ad065c56-359a-4e85-c295-3cb48e39907f"
   },
   "outputs": [
    {
     "data": {
      "text/plain": [
       "XGBRegressor(base_score=0.5, booster='gbtree', colsample_bylevel=1,\n",
       "             colsample_bynode=1, colsample_bytree=1, enable_categorical=False,\n",
       "             gamma=0, gpu_id=-1, importance_type=None,\n",
       "             interaction_constraints='', learning_rate=0.300000012,\n",
       "             max_delta_step=0, max_depth=6, min_child_weight=1, missing=nan,\n",
       "             monotone_constraints='()', n_estimators=300, n_jobs=1,\n",
       "             num_parallel_tree=1, predictor='auto', random_state=0, reg_alpha=0,\n",
       "             reg_lambda=1, scale_pos_weight=1, subsample=1, tree_method='exact',\n",
       "             validate_parameters=1, verbosity=None)"
      ]
     },
     "execution_count": 56,
     "metadata": {},
     "output_type": "execute_result"
    }
   ],
   "source": [
    "model_xgb_up_med = xgb.XGBRegressor(n_estimators=300)\n",
    "model_xgb_up_med.fit(X_train_g, y_train_g)"
   ]
  },
  {
   "cell_type": "code",
   "execution_count": 57,
   "id": "FdcodjGthiqj",
   "metadata": {
    "colab": {
     "base_uri": "https://localhost:8080/"
    },
    "id": "FdcodjGthiqj",
    "outputId": "e4e8ea74-fa14-41c5-d01b-4e90a34edce3"
   },
   "outputs": [
    {
     "name": "stdout",
     "output_type": "stream",
     "text": [
      "MAE On Training Set for XGB\n"
     ]
    },
    {
     "data": {
      "text/plain": [
       "29.320160785237352"
      ]
     },
     "execution_count": 57,
     "metadata": {},
     "output_type": "execute_result"
    }
   ],
   "source": [
    "print(\"MAE On Training Set for XGB\")\n",
    "mae(model_xgb_up_med.predict(X_train_g), y_train_g)"
   ]
  },
  {
   "cell_type": "code",
   "execution_count": 58,
   "id": "Af-F-yxthitp",
   "metadata": {
    "colab": {
     "base_uri": "https://localhost:8080/"
    },
    "id": "Af-F-yxthitp",
    "outputId": "d1476e26-6e93-4d3a-b3d7-29a41f2f615b"
   },
   "outputs": [
    {
     "name": "stdout",
     "output_type": "stream",
     "text": [
      "MAE On Test Set for XGB\n"
     ]
    },
    {
     "data": {
      "text/plain": [
       "1671.0675902943763"
      ]
     },
     "execution_count": 58,
     "metadata": {},
     "output_type": "execute_result"
    }
   ],
   "source": [
    "print(\"MAE On Test Set for XGB\")\n",
    "mae(model_xgb_up_med.predict(X_test_g), y_test_g)"
   ]
  },
  {
   "cell_type": "code",
   "execution_count": 59,
   "id": "LX7Fvr4KHxHa",
   "metadata": {
    "colab": {
     "base_uri": "https://localhost:8080/"
    },
    "id": "LX7Fvr4KHxHa",
    "outputId": "77a536dd-5395-49ad-c46b-57f74ace439c"
   },
   "outputs": [
    {
     "name": "stdout",
     "output_type": "stream",
     "text": [
      "MAPE On Test Set for XGB\n"
     ]
    },
    {
     "data": {
      "text/plain": [
       "465.3552287039001"
      ]
     },
     "execution_count": 59,
     "metadata": {},
     "output_type": "execute_result"
    }
   ],
   "source": [
    "print(\"MAPE On Test Set for XGB\")\n",
    "mape(model_xgb_up_med.predict(X_test_g), y_test_g)"
   ]
  },
  {
   "cell_type": "markdown",
   "id": "0Uv2-5pLH2fu",
   "metadata": {
    "id": "0Uv2-5pLH2fu"
   },
   "source": [
    "The MAPEs of 3 models are better from the previous models. The XGBOOST Mape is the lowest among them."
   ]
  },
  {
   "cell_type": "markdown",
   "id": "iUwLXiOVjW7H",
   "metadata": {
    "id": "iUwLXiOVjW7H"
   },
   "source": [
    "## Train regressors based on balance_per_day < median(balance_per_day)"
   ]
  },
  {
   "cell_type": "code",
   "execution_count": 60,
   "id": "o_BGLnZsjTT4",
   "metadata": {
    "colab": {
     "base_uri": "https://localhost:8080/",
     "height": 364
    },
    "id": "o_BGLnZsjTT4",
    "outputId": "73d9da1a-b052-46e9-d269-305342242040"
   },
   "outputs": [
    {
     "data": {
      "text/html": [
       "<div>\n",
       "<style scoped>\n",
       "    .dataframe tbody tr th:only-of-type {\n",
       "        vertical-align: middle;\n",
       "    }\n",
       "\n",
       "    .dataframe tbody tr th {\n",
       "        vertical-align: top;\n",
       "    }\n",
       "\n",
       "    .dataframe thead th {\n",
       "        text-align: right;\n",
       "    }\n",
       "</style>\n",
       "<table border=\"1\" class=\"dataframe\">\n",
       "  <thead>\n",
       "    <tr style=\"text-align: right;\">\n",
       "      <th></th>\n",
       "      <th>balance_per_day</th>\n",
       "      <th>negative_transaction_last_1_month</th>\n",
       "      <th>positive_transaction_last_1_month</th>\n",
       "      <th>negative_transaction_last_2_month</th>\n",
       "      <th>positive_transaction_last_2_month</th>\n",
       "      <th>negative_transaction_last_3_month</th>\n",
       "      <th>positive_transaction_last_3_month</th>\n",
       "      <th>negative_transaction_last_4_month</th>\n",
       "      <th>positive_transaction_last_4_month</th>\n",
       "      <th>negative_transaction_last_5_month</th>\n",
       "      <th>positive_transaction_last_5_month</th>\n",
       "      <th>negative_transaction_last_6_month</th>\n",
       "      <th>positive_transaction_last_6_month</th>\n",
       "    </tr>\n",
       "  </thead>\n",
       "  <tbody>\n",
       "    <tr>\n",
       "      <th>count</th>\n",
       "      <td>2508.000000</td>\n",
       "      <td>2508.000000</td>\n",
       "      <td>2508.000000</td>\n",
       "      <td>2508.000000</td>\n",
       "      <td>2508.000000</td>\n",
       "      <td>2508.000000</td>\n",
       "      <td>2508.000000</td>\n",
       "      <td>2508.000000</td>\n",
       "      <td>2508.000000</td>\n",
       "      <td>2508.000000</td>\n",
       "      <td>2508.000000</td>\n",
       "      <td>2508.000000</td>\n",
       "      <td>2508.000000</td>\n",
       "    </tr>\n",
       "    <tr>\n",
       "      <th>mean</th>\n",
       "      <td>-422.891384</td>\n",
       "      <td>-2120.001770</td>\n",
       "      <td>1998.477763</td>\n",
       "      <td>-2264.975530</td>\n",
       "      <td>2113.951850</td>\n",
       "      <td>-2400.691029</td>\n",
       "      <td>2232.549358</td>\n",
       "      <td>-2390.989737</td>\n",
       "      <td>2186.503425</td>\n",
       "      <td>-2451.746065</td>\n",
       "      <td>2277.891192</td>\n",
       "      <td>-2380.700299</td>\n",
       "      <td>2248.556096</td>\n",
       "    </tr>\n",
       "    <tr>\n",
       "      <th>std</th>\n",
       "      <td>1363.254216</td>\n",
       "      <td>2941.343224</td>\n",
       "      <td>2803.977466</td>\n",
       "      <td>3131.563351</td>\n",
       "      <td>2900.342694</td>\n",
       "      <td>3160.635604</td>\n",
       "      <td>2962.428036</td>\n",
       "      <td>3319.788301</td>\n",
       "      <td>2817.486840</td>\n",
       "      <td>3454.051403</td>\n",
       "      <td>2999.336093</td>\n",
       "      <td>3293.523457</td>\n",
       "      <td>3056.991948</td>\n",
       "    </tr>\n",
       "    <tr>\n",
       "      <th>min</th>\n",
       "      <td>-10407.230000</td>\n",
       "      <td>-33265.420000</td>\n",
       "      <td>0.000000</td>\n",
       "      <td>-39818.010000</td>\n",
       "      <td>0.000000</td>\n",
       "      <td>-27427.200000</td>\n",
       "      <td>0.000000</td>\n",
       "      <td>-51803.190000</td>\n",
       "      <td>0.000000</td>\n",
       "      <td>-51803.190000</td>\n",
       "      <td>0.000000</td>\n",
       "      <td>-37511.400000</td>\n",
       "      <td>0.000000</td>\n",
       "    </tr>\n",
       "    <tr>\n",
       "      <th>25%</th>\n",
       "      <td>-35.872500</td>\n",
       "      <td>-2910.040000</td>\n",
       "      <td>50.560000</td>\n",
       "      <td>-3062.882500</td>\n",
       "      <td>65.135000</td>\n",
       "      <td>-3369.055000</td>\n",
       "      <td>105.480000</td>\n",
       "      <td>-3241.337500</td>\n",
       "      <td>122.542500</td>\n",
       "      <td>-3358.530000</td>\n",
       "      <td>127.527500</td>\n",
       "      <td>-3224.870000</td>\n",
       "      <td>127.355000</td>\n",
       "    </tr>\n",
       "    <tr>\n",
       "      <th>50%</th>\n",
       "      <td>5.890000</td>\n",
       "      <td>-1140.870000</td>\n",
       "      <td>1037.000000</td>\n",
       "      <td>-1262.375000</td>\n",
       "      <td>1131.490000</td>\n",
       "      <td>-1335.225000</td>\n",
       "      <td>1238.160000</td>\n",
       "      <td>-1360.990000</td>\n",
       "      <td>1252.870000</td>\n",
       "      <td>-1372.145000</td>\n",
       "      <td>1284.185000</td>\n",
       "      <td>-1328.665000</td>\n",
       "      <td>1241.540000</td>\n",
       "    </tr>\n",
       "    <tr>\n",
       "      <th>75%</th>\n",
       "      <td>39.640000</td>\n",
       "      <td>-113.555000</td>\n",
       "      <td>2793.197500</td>\n",
       "      <td>-148.890000</td>\n",
       "      <td>3000.000000</td>\n",
       "      <td>-191.912500</td>\n",
       "      <td>3164.655000</td>\n",
       "      <td>-219.247500</td>\n",
       "      <td>3139.395000</td>\n",
       "      <td>-222.097500</td>\n",
       "      <td>3262.000000</td>\n",
       "      <td>-207.345000</td>\n",
       "      <td>3153.587500</td>\n",
       "    </tr>\n",
       "    <tr>\n",
       "      <th>max</th>\n",
       "      <td>158.500000</td>\n",
       "      <td>0.000000</td>\n",
       "      <td>20592.080000</td>\n",
       "      <td>0.000000</td>\n",
       "      <td>28675.100000</td>\n",
       "      <td>0.000000</td>\n",
       "      <td>28675.100000</td>\n",
       "      <td>0.000000</td>\n",
       "      <td>20720.200000</td>\n",
       "      <td>0.000000</td>\n",
       "      <td>28327.860000</td>\n",
       "      <td>0.000000</td>\n",
       "      <td>31348.900000</td>\n",
       "    </tr>\n",
       "  </tbody>\n",
       "</table>\n",
       "</div>"
      ],
      "text/plain": [
       "       balance_per_day  negative_transaction_last_1_month  \\\n",
       "count      2508.000000                        2508.000000   \n",
       "mean       -422.891384                       -2120.001770   \n",
       "std        1363.254216                        2941.343224   \n",
       "min      -10407.230000                      -33265.420000   \n",
       "25%         -35.872500                       -2910.040000   \n",
       "50%           5.890000                       -1140.870000   \n",
       "75%          39.640000                        -113.555000   \n",
       "max         158.500000                           0.000000   \n",
       "\n",
       "       positive_transaction_last_1_month  negative_transaction_last_2_month  \\\n",
       "count                        2508.000000                        2508.000000   \n",
       "mean                         1998.477763                       -2264.975530   \n",
       "std                          2803.977466                        3131.563351   \n",
       "min                             0.000000                      -39818.010000   \n",
       "25%                            50.560000                       -3062.882500   \n",
       "50%                          1037.000000                       -1262.375000   \n",
       "75%                          2793.197500                        -148.890000   \n",
       "max                         20592.080000                           0.000000   \n",
       "\n",
       "       positive_transaction_last_2_month  negative_transaction_last_3_month  \\\n",
       "count                        2508.000000                        2508.000000   \n",
       "mean                         2113.951850                       -2400.691029   \n",
       "std                          2900.342694                        3160.635604   \n",
       "min                             0.000000                      -27427.200000   \n",
       "25%                            65.135000                       -3369.055000   \n",
       "50%                          1131.490000                       -1335.225000   \n",
       "75%                          3000.000000                        -191.912500   \n",
       "max                         28675.100000                           0.000000   \n",
       "\n",
       "       positive_transaction_last_3_month  negative_transaction_last_4_month  \\\n",
       "count                        2508.000000                        2508.000000   \n",
       "mean                         2232.549358                       -2390.989737   \n",
       "std                          2962.428036                        3319.788301   \n",
       "min                             0.000000                      -51803.190000   \n",
       "25%                           105.480000                       -3241.337500   \n",
       "50%                          1238.160000                       -1360.990000   \n",
       "75%                          3164.655000                        -219.247500   \n",
       "max                         28675.100000                           0.000000   \n",
       "\n",
       "       positive_transaction_last_4_month  negative_transaction_last_5_month  \\\n",
       "count                        2508.000000                        2508.000000   \n",
       "mean                         2186.503425                       -2451.746065   \n",
       "std                          2817.486840                        3454.051403   \n",
       "min                             0.000000                      -51803.190000   \n",
       "25%                           122.542500                       -3358.530000   \n",
       "50%                          1252.870000                       -1372.145000   \n",
       "75%                          3139.395000                        -222.097500   \n",
       "max                         20720.200000                           0.000000   \n",
       "\n",
       "       positive_transaction_last_5_month  negative_transaction_last_6_month  \\\n",
       "count                        2508.000000                        2508.000000   \n",
       "mean                         2277.891192                       -2380.700299   \n",
       "std                          2999.336093                        3293.523457   \n",
       "min                             0.000000                      -37511.400000   \n",
       "25%                           127.527500                       -3224.870000   \n",
       "50%                          1284.185000                       -1328.665000   \n",
       "75%                          3262.000000                        -207.345000   \n",
       "max                         28327.860000                           0.000000   \n",
       "\n",
       "       positive_transaction_last_6_month  \n",
       "count                        2508.000000  \n",
       "mean                         2248.556096  \n",
       "std                          3056.991948  \n",
       "min                             0.000000  \n",
       "25%                           127.355000  \n",
       "50%                          1241.540000  \n",
       "75%                          3153.587500  \n",
       "max                         31348.900000  "
      ]
     },
     "execution_count": 60,
     "metadata": {},
     "output_type": "execute_result"
    }
   ],
   "source": [
    "med_balance = np.median(df_final[\"balance_per_day\"])\n",
    "\n",
    "\n",
    "y_s = df_final[df_final[\"balance_per_day\"] < med_balance][\n",
    "    \"sum_outgoing_next_30_days\"\n",
    "]\n",
    "X_s = df_final[df_final[\"balance_per_day\"] < med_balance].drop(\n",
    "    [\"sum_outgoing_next_30_days\", \"sum_income_next_30_days\"]\n",
    "    ,axis=1)\n",
    "#     + [\"positive_transaction_last_\" + str(i + 1) + \"_month\" for i in range(6)],\n",
    "#     axis=1,\n",
    "# )\n",
    "\n",
    "\n",
    "X_s.describe()"
   ]
  },
  {
   "cell_type": "code",
   "execution_count": 61,
   "id": "-fnbTdA0qnol",
   "metadata": {
    "id": "-fnbTdA0qnol"
   },
   "outputs": [],
   "source": [
    "X_s = scaler.fit_transform(X_s)\n",
    "X_train_s, X_test_s, y_train_s, y_test_s = train_test_split(\n",
    "    X_s, y_s, test_size=0.2, random_state=42, shuffle=True\n",
    ")"
   ]
  },
  {
   "cell_type": "markdown",
   "id": "g_MhP4GrkA_A",
   "metadata": {
    "id": "g_MhP4GrkA_A"
   },
   "source": [
    "### RandomForest"
   ]
  },
  {
   "cell_type": "code",
   "execution_count": 62,
   "id": "kY_yFAFtjTQI",
   "metadata": {
    "colab": {
     "base_uri": "https://localhost:8080/"
    },
    "id": "kY_yFAFtjTQI",
    "outputId": "68fca7fc-5d47-487a-d787-c70c5841fc77"
   },
   "outputs": [
    {
     "data": {
      "text/plain": [
       "RandomForestRegressor(n_estimators=300)"
      ]
     },
     "execution_count": 62,
     "metadata": {},
     "output_type": "execute_result"
    }
   ],
   "source": [
    "model_rdf_under_med = RandomForestRegressor(n_estimators=300)\n",
    "model_rdf_under_med.fit(X_train_s, y_train_s)"
   ]
  },
  {
   "cell_type": "code",
   "execution_count": 63,
   "id": "aIBcTdzwjTK_",
   "metadata": {
    "colab": {
     "base_uri": "https://localhost:8080/"
    },
    "id": "aIBcTdzwjTK_",
    "outputId": "e3c475d6-7c6c-415b-81b9-49b506526b78"
   },
   "outputs": [
    {
     "name": "stdout",
     "output_type": "stream",
     "text": [
      "MAE On Training Set for RDF\n"
     ]
    },
    {
     "data": {
      "text/plain": [
       "475.751244768498"
      ]
     },
     "execution_count": 63,
     "metadata": {},
     "output_type": "execute_result"
    }
   ],
   "source": [
    "print(\"MAE On Training Set for RDF\")\n",
    "mae(model_rdf_under_med.predict(X_train_s), y_train_s)"
   ]
  },
  {
   "cell_type": "code",
   "execution_count": 64,
   "id": "R5VC-2_eoxv1",
   "metadata": {
    "colab": {
     "base_uri": "https://localhost:8080/"
    },
    "id": "R5VC-2_eoxv1",
    "outputId": "ace28dd9-2b32-4441-de98-976f0edd5ddd"
   },
   "outputs": [
    {
     "name": "stdout",
     "output_type": "stream",
     "text": [
      "MAE On Test Set for RDF\n"
     ]
    },
    {
     "data": {
      "text/plain": [
       "1229.0019474041087"
      ]
     },
     "execution_count": 64,
     "metadata": {},
     "output_type": "execute_result"
    }
   ],
   "source": [
    "print(\"MAE On Test Set for RDF\")\n",
    "mae(model_rdf_under_med.predict(X_test_s), y_test_s)"
   ]
  },
  {
   "cell_type": "code",
   "execution_count": 65,
   "id": "4HOPOt4HAqe6",
   "metadata": {
    "colab": {
     "base_uri": "https://localhost:8080/"
    },
    "id": "4HOPOt4HAqe6",
    "outputId": "e620f1bd-4e10-4c08-c3be-8dcc7f868059"
   },
   "outputs": [
    {
     "name": "stdout",
     "output_type": "stream",
     "text": [
      "MAPE On Test Set for RDF\n"
     ]
    },
    {
     "data": {
      "text/plain": [
       "1382.5967049425087"
      ]
     },
     "execution_count": 65,
     "metadata": {},
     "output_type": "execute_result"
    }
   ],
   "source": [
    "print(\"MAPE On Test Set for RDF\")\n",
    "mape(model_rdf_under_med.predict(X_test_s), y_test_s)"
   ]
  },
  {
   "cell_type": "markdown",
   "id": "7CZBkPmKllGa",
   "metadata": {
    "id": "7CZBkPmKllGa"
   },
   "source": [
    "### XGBOOST"
   ]
  },
  {
   "cell_type": "code",
   "execution_count": 66,
   "id": "oN6gwMGgm9Fq",
   "metadata": {
    "colab": {
     "base_uri": "https://localhost:8080/"
    },
    "id": "oN6gwMGgm9Fq",
    "outputId": "23f6f5d9-0523-4d6b-b888-5eb5de0bdee8"
   },
   "outputs": [
    {
     "data": {
      "text/plain": [
       "XGBRegressor(base_score=0.5, booster='gbtree', colsample_bylevel=1,\n",
       "             colsample_bynode=1, colsample_bytree=1, enable_categorical=False,\n",
       "             gamma=0, gpu_id=-1, importance_type=None,\n",
       "             interaction_constraints='', learning_rate=0.300000012,\n",
       "             max_delta_step=0, max_depth=6, min_child_weight=1, missing=nan,\n",
       "             monotone_constraints='()', n_estimators=300, n_jobs=1,\n",
       "             num_parallel_tree=1, predictor='auto', random_state=0, reg_alpha=0,\n",
       "             reg_lambda=1, scale_pos_weight=1, subsample=1, tree_method='exact',\n",
       "             validate_parameters=1, verbosity=None)"
      ]
     },
     "execution_count": 66,
     "metadata": {},
     "output_type": "execute_result"
    }
   ],
   "source": [
    "model_xgb_under_med = xgb.XGBRegressor(n_estimators=300)\n",
    "model_xgb_under_med.fit(X_train_s, y_train_s)"
   ]
  },
  {
   "cell_type": "code",
   "execution_count": 67,
   "id": "_5QDQwG9jTAn",
   "metadata": {
    "colab": {
     "base_uri": "https://localhost:8080/"
    },
    "id": "_5QDQwG9jTAn",
    "outputId": "09867701-9f12-4b07-c3e3-63c2fae2db03"
   },
   "outputs": [
    {
     "name": "stdout",
     "output_type": "stream",
     "text": [
      "MAE On Training Set for XGB\n"
     ]
    },
    {
     "data": {
      "text/plain": [
       "11.104742856679666"
      ]
     },
     "execution_count": 67,
     "metadata": {},
     "output_type": "execute_result"
    }
   ],
   "source": [
    "print(\"MAE On Training Set for XGB\")\n",
    "mae(model_xgb_under_med.predict(X_train_s), y_train_s)"
   ]
  },
  {
   "cell_type": "code",
   "execution_count": 68,
   "id": "Set_qR7RjS-d",
   "metadata": {
    "colab": {
     "base_uri": "https://localhost:8080/"
    },
    "id": "Set_qR7RjS-d",
    "outputId": "fb20b2ae-97f4-4cb5-ed9e-418ce5346f65"
   },
   "outputs": [
    {
     "name": "stdout",
     "output_type": "stream",
     "text": [
      "MAE On Test Set for XGB\n"
     ]
    },
    {
     "data": {
      "text/plain": [
       "1349.3472220577562"
      ]
     },
     "execution_count": 68,
     "metadata": {},
     "output_type": "execute_result"
    }
   ],
   "source": [
    "print(\"MAE On Test Set for XGB\")\n",
    "mae(model_xgb_under_med.predict(X_test_s), y_test_s)"
   ]
  },
  {
   "cell_type": "code",
   "execution_count": 69,
   "id": "5u0fBuPMJJ4b",
   "metadata": {
    "colab": {
     "base_uri": "https://localhost:8080/"
    },
    "id": "5u0fBuPMJJ4b",
    "outputId": "dea8ac07-84ba-42c3-8965-be1e2dd1439d"
   },
   "outputs": [
    {
     "name": "stdout",
     "output_type": "stream",
     "text": [
      "MAPE On Test Set for XGB\n"
     ]
    },
    {
     "data": {
      "text/plain": [
       "928.1271574901095"
      ]
     },
     "execution_count": 69,
     "metadata": {},
     "output_type": "execute_result"
    }
   ],
   "source": [
    "print(\"MAPE On Test Set for XGB\")\n",
    "mape(model_xgb_under_med.predict(X_test_s), y_test_s)"
   ]
  },
  {
   "cell_type": "markdown",
   "id": "getBpPqGJZoa",
   "metadata": {
    "id": "getBpPqGJZoa"
   },
   "source": [
    "We can notice that for this second cluster with low balance, the erros are higher, wich is normal because accounts with low balances may have low transactions so the absolute error will be big. But overall, the MAPE still better than the models from previous approaches."
   ]
  },
  {
   "cell_type": "code",
   "execution_count": null,
   "id": "hdPZ4lbKjS7H",
   "metadata": {
    "id": "hdPZ4lbKjS7H"
   },
   "outputs": [],
   "source": []
  },
  {
   "cell_type": "markdown",
   "id": "cNJHFwrsBlO3",
   "metadata": {
    "id": "cNJHFwrsBlO3"
   },
   "source": [
    "# GridSearch Hyprparameters Tuning"
   ]
  },
  {
   "cell_type": "markdown",
   "id": "v7pcFR2GCUW1",
   "metadata": {
    "id": "v7pcFR2GCUW1"
   },
   "source": [
    "### Hyperparameters Tuning for RandomForest"
   ]
  },
  {
   "cell_type": "code",
   "execution_count": 70,
   "id": "KfeZQ2rBhieJ",
   "metadata": {
    "colab": {
     "base_uri": "https://localhost:8080/"
    },
    "id": "KfeZQ2rBhieJ",
    "outputId": "097fd4b4-a186-4d05-d975-14a464e4d057"
   },
   "outputs": [
    {
     "data": {
      "text/plain": [
       "GridSearchCV(cv=5, estimator=RandomForestRegressor(),\n",
       "             param_grid={'max_depth': [4, 5, 6],\n",
       "                         'max_features': ['auto', 'sqrt', 'log2'],\n",
       "                         'min_samples_split': [2, 3, 4],\n",
       "                         'n_estimators': [50, 100, 300]})"
      ]
     },
     "execution_count": 70,
     "metadata": {},
     "output_type": "execute_result"
    }
   ],
   "source": [
    "rdf_gs = RandomForestRegressor().fit(X_train, y_train)\n",
    "\n",
    "param_test = {\n",
    "    \"n_estimators\": [50, 100, 300],\n",
    "    \"max_features\": [\"auto\", \"sqrt\", \"log2\"],\n",
    "    \"max_depth\": [4, 5, 6],\n",
    "    \"min_samples_split\": [2, 3, 4],\n",
    "}\n",
    "\n",
    "gsearch = GridSearchCV(estimator=RandomForestRegressor(), param_grid=param_test, cv=5)\n",
    "gsearch.fit(X, y)"
   ]
  },
  {
   "cell_type": "code",
   "execution_count": 71,
   "id": "eUV4l5mXpGIK",
   "metadata": {
    "id": "eUV4l5mXpGIK"
   },
   "outputs": [],
   "source": [
    "n_estimators = gsearch.best_params_[\"n_estimators\"]\n",
    "max_features = gsearch.best_params_[\"max_features\"]\n",
    "max_depth = gsearch.best_params_[\"max_depth\"]\n",
    "min_samples_split = gsearch.best_params_[\"min_samples_split\"]"
   ]
  },
  {
   "cell_type": "code",
   "execution_count": 72,
   "id": "rBphmF_2EuZD",
   "metadata": {
    "colab": {
     "base_uri": "https://localhost:8080/"
    },
    "id": "rBphmF_2EuZD",
    "outputId": "e9ec1b5c-3cba-48fa-896b-e38a2b74c882"
   },
   "outputs": [
    {
     "name": "stdout",
     "output_type": "stream",
     "text": [
      "n_estimators 300\n",
      "max_features log2\n",
      "max_depth 6\n",
      "min_samples_split 3\n"
     ]
    }
   ],
   "source": [
    "print(\"n_estimators\", n_estimators)\n",
    "print(\"max_features\", max_features)\n",
    "print(\"max_depth\", max_depth)\n",
    "print(\"min_samples_split\", min_samples_split)"
   ]
  },
  {
   "cell_type": "code",
   "execution_count": 73,
   "id": "mTlqEAidpGEr",
   "metadata": {
    "id": "mTlqEAidpGEr"
   },
   "outputs": [],
   "source": [
    "rdf_gs = RandomForestRegressor(\n",
    "    n_estimators=n_estimators,\n",
    "    max_features=max_features,\n",
    "    max_depth=max_depth,\n",
    "    min_samples_split=min_samples_split,\n",
    ")\n",
    "rdf_gs = rdf_gs.fit(X_train, y_train)"
   ]
  },
  {
   "cell_type": "code",
   "execution_count": 74,
   "id": "WE39p0iWpGBu",
   "metadata": {
    "colab": {
     "base_uri": "https://localhost:8080/"
    },
    "id": "WE39p0iWpGBu",
    "outputId": "3e79baa4-2029-437e-e399-c9b4e5a48a37"
   },
   "outputs": [
    {
     "name": "stdout",
     "output_type": "stream",
     "text": [
      "MAE On Training Set for RDF\n"
     ]
    },
    {
     "data": {
      "text/plain": [
       "1303.2012553678624"
      ]
     },
     "execution_count": 74,
     "metadata": {},
     "output_type": "execute_result"
    }
   ],
   "source": [
    "print(\"MAE On Training Set for RDF\")\n",
    "mae(rdf_gs.predict(X_train), y_train)"
   ]
  },
  {
   "cell_type": "code",
   "execution_count": 75,
   "id": "FccMby-tpF-c",
   "metadata": {
    "colab": {
     "base_uri": "https://localhost:8080/"
    },
    "id": "FccMby-tpF-c",
    "outputId": "3a44c967-c370-412f-ca0d-0085fdf4124e"
   },
   "outputs": [
    {
     "name": "stdout",
     "output_type": "stream",
     "text": [
      "MAE On Test Set for RDF\n"
     ]
    },
    {
     "data": {
      "text/plain": [
       "1531.4528930613405"
      ]
     },
     "execution_count": 75,
     "metadata": {},
     "output_type": "execute_result"
    }
   ],
   "source": [
    "print(\"MAE On Test Set for RDF\")\n",
    "mae(rdf_gs.predict(X_test), y_test)"
   ]
  },
  {
   "cell_type": "code",
   "execution_count": 76,
   "id": "JBxu4-hjpF3j",
   "metadata": {
    "colab": {
     "base_uri": "https://localhost:8080/"
    },
    "id": "JBxu4-hjpF3j",
    "outputId": "2c68115e-388d-4a88-b78a-4ed4785c5d63"
   },
   "outputs": [
    {
     "name": "stdout",
     "output_type": "stream",
     "text": [
      "MAPE On Test Set for RDF %\n"
     ]
    },
    {
     "data": {
      "text/plain": [
       "1374.3683281461626"
      ]
     },
     "execution_count": 76,
     "metadata": {},
     "output_type": "execute_result"
    }
   ],
   "source": [
    "print(\"MAPE On Test Set for RDF %\")\n",
    "mape(rdf_gs.predict(X_test), y_test)"
   ]
  },
  {
   "cell_type": "markdown",
   "id": "xYmyWSB4OUa7",
   "metadata": {
    "id": "xYmyWSB4OUa7"
   },
   "source": [
    "## XGBOOST GridSearch"
   ]
  },
  {
   "cell_type": "code",
   "execution_count": 77,
   "id": "yxx9BhCJN3y1",
   "metadata": {
    "colab": {
     "base_uri": "https://localhost:8080/"
    },
    "id": "yxx9BhCJN3y1",
    "outputId": "327770dc-e863-499e-99ef-30576e81623c"
   },
   "outputs": [
    {
     "data": {
      "text/plain": [
       "GridSearchCV(cv=5,\n",
       "             estimator=XGBRegressor(base_score=None, booster=None,\n",
       "                                    colsample_bylevel=None,\n",
       "                                    colsample_bynode=None,\n",
       "                                    colsample_bytree=None,\n",
       "                                    enable_categorical=False, gamma=None,\n",
       "                                    gpu_id=None, importance_type=None,\n",
       "                                    interaction_constraints=None,\n",
       "                                    learning_rate=None, max_delta_step=None,\n",
       "                                    max_depth=None, min_child_weight=None,\n",
       "                                    missing=nan, monotone_constraints=None,\n",
       "                                    n_estimators=100, n_jobs=None,\n",
       "                                    num_parallel_tree=None, predictor=None,\n",
       "                                    random_state=None, reg_alpha=None,\n",
       "                                    reg_lambda=None, scale_pos_weight=None,\n",
       "                                    subsample=None, tree_method=None,\n",
       "                                    validate_parameters=None, verbosity=None),\n",
       "             param_grid={'learning_rate': [0.01, 0.1, 0.5],\n",
       "                         'max_depth': [4, 5, 6],\n",
       "                         'n_estimators': [100, 200, 300]})"
      ]
     },
     "execution_count": 77,
     "metadata": {},
     "output_type": "execute_result"
    }
   ],
   "source": [
    "\n",
    "param_test = {\n",
    "    \"learning_rate\": [0.01, 0.1, 0.5],\n",
    "    \"n_estimators\": [100, 200, 300],\n",
    "    \"max_depth\": [4, 5, 6]\n",
    "}\n",
    "\n",
    "gsearch = GridSearchCV(estimator=xgb.XGBRegressor(objective='reg:squarederror'), param_grid=param_test, cv=5)\n",
    "gsearch.fit(X, y)"
   ]
  },
  {
   "cell_type": "code",
   "execution_count": 78,
   "id": "3u7S4Of5O9M8",
   "metadata": {
    "id": "3u7S4Of5O9M8"
   },
   "outputs": [],
   "source": [
    "n_estimators = gsearch.best_params_[\"n_estimators\"]\n",
    "learning_rate = gsearch.best_params_[\"learning_rate\"]\n",
    "max_depth = gsearch.best_params_[\"max_depth\"]"
   ]
  },
  {
   "cell_type": "code",
   "execution_count": 79,
   "id": "VSgR0-KzQTH0",
   "metadata": {
    "colab": {
     "base_uri": "https://localhost:8080/"
    },
    "id": "VSgR0-KzQTH0",
    "outputId": "7237d610-a4c0-4d50-d199-acb41bc4e9c6"
   },
   "outputs": [
    {
     "name": "stdout",
     "output_type": "stream",
     "text": [
      "n_estimators 300\n",
      "learning_rate 0.01\n",
      "max_depth 4\n"
     ]
    }
   ],
   "source": [
    "print(\"n_estimators\", n_estimators)\n",
    "print(\"learning_rate\", learning_rate)\n",
    "print(\"max_depth\", max_depth)\n"
   ]
  },
  {
   "cell_type": "code",
   "execution_count": 80,
   "id": "BiUq0MySPFGF",
   "metadata": {
    "id": "BiUq0MySPFGF"
   },
   "outputs": [],
   "source": [
    "xgb_gs = xgb.XGBRegressor(\n",
    "    n_estimators=n_estimators,\n",
    "    learning_rate=learning_rate,\n",
    "    max_depth=max_depth,\n",
    "    objective='reg:squarederror'\n",
    ")\n",
    "xgb_gs = xgb_gs.fit(X_train, y_train)"
   ]
  },
  {
   "cell_type": "code",
   "execution_count": 81,
   "id": "FtBA7EQjPFC5",
   "metadata": {
    "colab": {
     "base_uri": "https://localhost:8080/"
    },
    "id": "FtBA7EQjPFC5",
    "outputId": "3c9e59dd-dc11-4e9e-eb95-fbf695572bc6"
   },
   "outputs": [
    {
     "name": "stdout",
     "output_type": "stream",
     "text": [
      "MAE On Training Set for XGB\n"
     ]
    },
    {
     "data": {
      "text/plain": [
       "1282.4505615234375"
      ]
     },
     "execution_count": 81,
     "metadata": {},
     "output_type": "execute_result"
    }
   ],
   "source": [
    "print(\"MAE On Training Set for XGB\")\n",
    "mae(xgb_gs.predict(X_train), y_train)"
   ]
  },
  {
   "cell_type": "code",
   "execution_count": 82,
   "id": "W7bi2fT-PE7-",
   "metadata": {
    "colab": {
     "base_uri": "https://localhost:8080/"
    },
    "id": "W7bi2fT-PE7-",
    "outputId": "606971ef-3ae2-4c99-e880-41210937be36"
   },
   "outputs": [
    {
     "name": "stdout",
     "output_type": "stream",
     "text": [
      "MAE On Test Set for XGB\n"
     ]
    },
    {
     "data": {
      "text/plain": [
       "1486.701904296875"
      ]
     },
     "execution_count": 82,
     "metadata": {},
     "output_type": "execute_result"
    }
   ],
   "source": [
    "print(\"MAE On Test Set for XGB\")\n",
    "mae(xgb_gs.predict(X_test), y_test)"
   ]
  },
  {
   "cell_type": "code",
   "execution_count": 83,
   "id": "5k2ro9xWPbEg",
   "metadata": {
    "colab": {
     "base_uri": "https://localhost:8080/"
    },
    "id": "5k2ro9xWPbEg",
    "outputId": "bc2f2038-74fa-4b50-ee4e-a8f5d690501e"
   },
   "outputs": [
    {
     "name": "stdout",
     "output_type": "stream",
     "text": [
      "MAPE On Test Set for XGB %\n"
     ]
    },
    {
     "data": {
      "text/plain": [
       "1139.9737358093262"
      ]
     },
     "execution_count": 83,
     "metadata": {},
     "output_type": "execute_result"
    }
   ],
   "source": [
    "print(\"MAPE On Test Set for XGB %\")\n",
    "mape(xgb_gs.predict(X_test), y_test)"
   ]
  },
  {
   "cell_type": "markdown",
   "id": "2TZBI8NDPifU",
   "metadata": {
    "id": "2TZBI8NDPifU"
   },
   "source": [
    "We have tried many models, all of them still have a high **MAE** and **MAPE**, we will choose the model with lowest MAPE as the regressor to deploy. \n",
    "\n",
    "In order to improve our performance and find a better regressor, we can train a fully connected neural network or a recurrent neural network using LSTM fo example to catch the time series properties. \n",
    "\n",
    "In term of data processing, We can also use more data to have a larger data set, because 1200 accounts are not enough to train performant models. We can also use 30 days moving window, which will allow us have a lot more rows. Furthermore, we can use past weekly outgoings and incomes instead of monthly granularity.\n",
    "\n",
    "Both Random Forest with Grid search and XGBOOST with grid search are giving similar results. We will save the latest XGBoost model with hyperparameters tuned using GridSearch."
   ]
  },
  {
   "cell_type": "markdown",
   "id": "60d7e246",
   "metadata": {
    "id": "60d7e246"
   },
   "source": [
    "## Pickle the best model"
   ]
  },
  {
   "cell_type": "code",
   "execution_count": 84,
   "id": "1XXGe06yeI-X",
   "metadata": {
    "id": "1XXGe06yeI-X"
   },
   "outputs": [],
   "source": [
    "X = df_final.drop([\"sum_outgoing_next_30_days\", \"sum_income_next_30_days\"], axis=1)\n",
    "features = X.columns\n",
    "scaler = StandardScaler()  \n",
    "\n",
    "X = scaler.fit_transform(X)"
   ]
  },
  {
   "cell_type": "code",
   "execution_count": 85,
   "id": "IEUGO3r9c0lP",
   "metadata": {
    "id": "IEUGO3r9c0lP"
   },
   "outputs": [],
   "source": [
    "from sklearn.pipeline import Pipeline\n",
    "pipeline = Pipeline([\n",
    "    ('scaler', scaler),\n",
    "    ('logreg', xgb_gs)\n",
    "])"
   ]
  },
  {
   "cell_type": "code",
   "execution_count": 86,
   "id": "gW8s4oPCejYd",
   "metadata": {
    "id": "gW8s4oPCejYd"
   },
   "outputs": [],
   "source": [
    "import pickle\n",
    "pickle.dump(pipeline, open('../api/model.pkl','wb'))"
   ]
  }
 ],
 "metadata": {
  "colab": {
   "collapsed_sections": [],
   "name": "Machine_learning_models.ipynb",
   "provenance": []
  },
  "kernelspec": {
   "display_name": "Python 3 (ipykernel)",
   "language": "python",
   "name": "python3"
  },
  "language_info": {
   "codemirror_mode": {
    "name": "ipython",
    "version": 3
   },
   "file_extension": ".py",
   "mimetype": "text/x-python",
   "name": "python",
   "nbconvert_exporter": "python",
   "pygments_lexer": "ipython3",
   "version": "3.9.7"
  }
 },
 "nbformat": 4,
 "nbformat_minor": 5
}
